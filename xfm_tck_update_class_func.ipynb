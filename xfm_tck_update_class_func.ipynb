{
 "cells": [
  {
   "cell_type": "code",
   "execution_count": 3,
   "metadata": {},
   "outputs": [],
   "source": [
    "import subprocess\n",
    "import logging\n",
    "import os\n",
    "import numpy as np\n",
    "import random\n",
    "import shutil\n",
    "import platform\n",
    "import sys\n",
    "from typing import Union, List, Optional"
   ]
  },
  {
   "cell_type": "code",
   "execution_count": 4,
   "metadata": {},
   "outputs": [],
   "source": [
    "class DependencyError(Exception):\n",
    "    pass"
   ]
  },
  {
   "cell_type": "code",
   "execution_count": 16,
   "metadata": {},
   "outputs": [],
   "source": [
    "class File(object):\n",
    "    '''Creates File object that encapsulates a number of properites.\n",
    "    \n",
    "    Attributes (class and instance attributes):\n",
    "        file (class and instance): Class variable that is set once class is instantiated.\n",
    "    '''\n",
    "    \n",
    "    file: str = \"\"\n",
    "    \n",
    "    def __init__(self,\n",
    "                 file: str) -> str:\n",
    "        '''Init doc-string for File object class.\n",
    "        \n",
    "        Usage example:\n",
    "            file_obj = File(\"<file_name.txt>\")\n",
    "            file_obj.file -> \"<file_name.txt>\" # returns filename str\n",
    "        \n",
    "        Args:\n",
    "            file: Input file (need not exist at runtime/instantiated).\n",
    "        '''\n",
    "        self.file: str = file\n",
    "        \n",
    "    def touch(self) -> str:\n",
    "        '''Creates empty file.\n",
    "        \n",
    "        Usage example:\n",
    "            file_obj = File(\"<file_name.txt>\")\n",
    "            file_obj.touch()   # creates empty file\n",
    "        '''\n",
    "        with open(self.file,'w') as tmp_file:\n",
    "            pass\n",
    "        return self.file\n",
    "    \n",
    "    def abs_path(self) -> str:\n",
    "        '''Returns absolute path of file.\n",
    "        \n",
    "        Usage example:\n",
    "            file_obj = File(\"<file_name.txt>\")\n",
    "            file_obj.abs_path()   # returns abs path of file as str\n",
    "        '''\n",
    "        if os.path.exists(self.file):\n",
    "            return os.path.abspath(self.file)\n",
    "        else:\n",
    "            self.touch()\n",
    "            file_path = os.path.abspath(self.file)\n",
    "            os.remove(self.file)\n",
    "            return file_path\n",
    "    \n",
    "    def rm_ext(self,\n",
    "              ext: str = \"\") -> str:\n",
    "        '''Removes file extension from the file.\n",
    "        \n",
    "        Usage example:\n",
    "            # Recommended\n",
    "            file_obj = File(\"<file_name.txt>\")\n",
    "            file_obj.rm_ext(\"<.txt>\")\n",
    "            \n",
    "            # or\n",
    "            \n",
    "            # Not recommended\n",
    "            file_obj = File(\"<file_name.txt>\")\n",
    "            file_obj.rm_ext()   # returns \"file_name\"\n",
    "        \n",
    "        Args:\n",
    "            ext: File extension.\n",
    "        \n",
    "        Returns:\n",
    "            file: File name with no extension.\n",
    "        '''\n",
    "        self.ext: str = ext\n",
    "        if self.ext is None:\n",
    "            return self.file[:-(4)]\n",
    "        else:\n",
    "            ext_num = len(self.ext)\n",
    "            return self.file[:-(ext_num)]\n",
    "        \n",
    "    def write_txt(self,\n",
    "                 txt: str = \"\") -> str:\n",
    "        '''Writes/appends text to file.\n",
    "        \n",
    "        Usage example:\n",
    "            file_obj = File(\"<file_name.txt>\")\n",
    "            file_obj.write_txt(\"<Some text to be written>\")\n",
    "        \n",
    "        Args:\n",
    "            txt: Text to be written to file.\n",
    "        Returns:\n",
    "            file: File with text written/appended to it.\n",
    "        '''\n",
    "        with open(self.file,\"a\") as tmp_file:\n",
    "            tmp_file.write(txt)\n",
    "            tmp_file.close()\n",
    "        return self.file"
   ]
  },
  {
   "cell_type": "code",
   "execution_count": 17,
   "metadata": {},
   "outputs": [],
   "source": [
    "f = File(\"test.txt\")"
   ]
  },
  {
   "cell_type": "code",
   "execution_count": 15,
   "metadata": {
    "scrolled": true
   },
   "outputs": [
    {
     "data": {
      "text/plain": [
       "'test.txt'"
      ]
     },
     "execution_count": 15,
     "metadata": {},
     "output_type": "execute_result"
    }
   ],
   "source": [
    "f."
   ]
  },
  {
   "cell_type": "code",
   "execution_count": 18,
   "metadata": {},
   "outputs": [],
   "source": [
    "os.remove(f.file)"
   ]
  },
  {
   "cell_type": "code",
   "execution_count": null,
   "metadata": {},
   "outputs": [],
   "source": []
  },
  {
   "cell_type": "code",
   "execution_count": 5,
   "metadata": {},
   "outputs": [],
   "source": [
    "class TmpDir(object):\n",
    "    '''Temporary directory class that creates temporary directories and files\n",
    "    given a parent directory.\n",
    "    \n",
    "    Attributes (class and instance attributes):\n",
    "        tmp_dir (class and instance): Temproary directory.\n",
    "        parent_tmp_dir (class and instance): Input parent directory.\n",
    "    '''\n",
    "    \n",
    "    # Set parent tmp directory, as tmp_dir is overwritten\n",
    "    tmp_dir = \"\"\n",
    "    parent_tmp_dir = \"\"\n",
    "    \n",
    "    def __init__(self,\n",
    "                tmp_dir: str,\n",
    "                use_cwd: bool = False):\n",
    "        '''Init doc-string for TmpDir class.\n",
    "        \n",
    "        Args:\n",
    "            tmp_dir: Temporary parent directory name/path.\n",
    "            use_cwd: Use current working directory as working direcory.\n",
    "        '''\n",
    "        _n = 10000 # maximum N for random number generator\n",
    "        tmp_dir = os.path.join(tmp_dir,'tmp_dir_' + \n",
    "                               str(random.randint(0,_n)))\n",
    "        self.tmp_dir = tmp_dir\n",
    "        self.parent_tmp_dir = os.path.dirname(self.tmp_dir)\n",
    "        if use_cwd:\n",
    "            _cwd = os.getcwd()\n",
    "            self.tmp_dir = os.path.join(_cwd,self.tmp_dir)\n",
    "            self.parent_tmp_dir = os.path.dirname(self.tmp_dir)\n",
    "        \n",
    "    def mk_tmp_dir(self) -> None:\n",
    "        '''Creates/makes temporary directory.'''\n",
    "        if not os.path.exists(self.tmp_dir):\n",
    "            return os.makedirs(self.tmp_dir)\n",
    "        else:\n",
    "            print(\"Temporary directory already exists\")\n",
    "        \n",
    "    def rm_tmp_dir(self,\n",
    "                  rm_parent: bool = False) -> None:\n",
    "        '''Removes temporary directory.\n",
    "        \n",
    "        Args:\n",
    "            rm_parent: Removes parent directory as well.\n",
    "        '''\n",
    "        if rm_parent and os.path.exists(self.parent_tmp_dir):\n",
    "            return shutil.rmtree(self.parent_tmp_dir)\n",
    "        elif os.path.exists(self.tmp_dir):\n",
    "            return shutil.rmtree(self.tmp_dir)\n",
    "        else:\n",
    "            print(\"Temporary directory does not exist\")\n",
    "    \n",
    "    class TmpFile(File):\n",
    "        '''Child/sub-class of TmpDir. Creates temporary files by inheriting File object\n",
    "        properties from the File class.\n",
    "        \n",
    "        Attributes (class and instance attributes):\n",
    "            tmp_file (class and instance): Temporary file name.\n",
    "        '''\n",
    "        \n",
    "        tmp_file = \"\"\n",
    "        tmp_dir = \"\"\n",
    "\n",
    "        def __init__(self,\n",
    "                    tmp_file: File,\n",
    "                    tmp_dir: str = \"\"):\n",
    "            '''Init doc-string for TmpFile class. Allows for creation of \n",
    "            a temporary file in parent class' temporary directory location.\n",
    "            \n",
    "            Args:\n",
    "                tmp_file: Temporary file name.\n",
    "                tmp_dir: Temporary directory name.\n",
    "            '''\n",
    "            self.tmp_file = tmp_file\n",
    "            self.tmp_dir = tmp_dir\n",
    "            self.tmp_file = os.path.join(self.tmp_dir,self.tmp_file)\n",
    "            File.__init__(self,self.tmp_file)"
   ]
  },
  {
   "cell_type": "code",
   "execution_count": 6,
   "metadata": {},
   "outputs": [],
   "source": [
    "d = \"test.dir\""
   ]
  },
  {
   "cell_type": "code",
   "execution_count": 7,
   "metadata": {},
   "outputs": [],
   "source": [
    "dd = TmpDir(d, True)"
   ]
  },
  {
   "cell_type": "code",
   "execution_count": 8,
   "metadata": {},
   "outputs": [],
   "source": [
    "dd.mk_tmp_dir()"
   ]
  },
  {
   "cell_type": "code",
   "execution_count": 9,
   "metadata": {},
   "outputs": [],
   "source": [
    "f = 'test.file'"
   ]
  },
  {
   "cell_type": "code",
   "execution_count": 10,
   "metadata": {},
   "outputs": [
    {
     "data": {
      "text/plain": [
       "'/mnt/c/Users/smart/Desktop/IRC317H_NAS/dti/data.dti/xfm_tck/test.dir/tmp_dir_2120'"
      ]
     },
     "execution_count": 10,
     "metadata": {},
     "output_type": "execute_result"
    }
   ],
   "source": [
    "dd.tmp_dir"
   ]
  },
  {
   "cell_type": "code",
   "execution_count": 11,
   "metadata": {},
   "outputs": [],
   "source": [
    "ff = TmpDir.TmpFile(f,dd.tmp_dir)"
   ]
  },
  {
   "cell_type": "code",
   "execution_count": 12,
   "metadata": {},
   "outputs": [
    {
     "data": {
      "text/plain": [
       "'/mnt/c/Users/smart/Desktop/IRC317H_NAS/dti/data.dti/xfm_tck/test.dir/tmp_dir_2120/test.file'"
      ]
     },
     "execution_count": 12,
     "metadata": {},
     "output_type": "execute_result"
    }
   ],
   "source": [
    "ff.touch()"
   ]
  },
  {
   "cell_type": "code",
   "execution_count": 13,
   "metadata": {},
   "outputs": [
    {
     "data": {
      "text/plain": [
       "'/mnt/c/Users/smart/Desktop/IRC317H_NAS/dti/data.dti/xfm_tck/test.dir/tmp_dir_2120'"
      ]
     },
     "execution_count": 13,
     "metadata": {},
     "output_type": "execute_result"
    }
   ],
   "source": [
    "ff.tmp_dir"
   ]
  },
  {
   "cell_type": "code",
   "execution_count": 14,
   "metadata": {},
   "outputs": [
    {
     "data": {
      "text/plain": [
       "'/mnt/c/Users/smart/Desktop/IRC317H_NAS/dti/data.dti/xfm_tck/test.dir/tmp_dir_2120/test.file'"
      ]
     },
     "execution_count": 14,
     "metadata": {},
     "output_type": "execute_result"
    }
   ],
   "source": [
    "ff.abs_path()"
   ]
  },
  {
   "cell_type": "code",
   "execution_count": 15,
   "metadata": {},
   "outputs": [
    {
     "data": {
      "text/plain": [
       "'/mnt/c/Users/smart/Desktop/IRC317H_NAS/dti/data.dti/xfm_tck/test.dir/tmp_dir_2120/test.file'"
      ]
     },
     "execution_count": 15,
     "metadata": {},
     "output_type": "execute_result"
    }
   ],
   "source": [
    "ff.tmp_file"
   ]
  },
  {
   "cell_type": "code",
   "execution_count": 16,
   "metadata": {},
   "outputs": [
    {
     "data": {
      "text/plain": [
       "'/mnt/c/Users/smart/Desktop/IRC317H_NAS/dti/data.dti/xfm_tck/test.dir/tmp_dir_2120/test.file'"
      ]
     },
     "execution_count": 16,
     "metadata": {},
     "output_type": "execute_result"
    }
   ],
   "source": [
    "ff.tmp_file"
   ]
  },
  {
   "cell_type": "code",
   "execution_count": 17,
   "metadata": {},
   "outputs": [
    {
     "data": {
      "text/plain": [
       "'/mnt/c/Users/smart/Desktop/IRC317H_NAS/dti/data.dti/xfm_tck/test.dir/tmp_dir_2120/test.file'"
      ]
     },
     "execution_count": 17,
     "metadata": {},
     "output_type": "execute_result"
    }
   ],
   "source": [
    "ff.touch()"
   ]
  },
  {
   "cell_type": "code",
   "execution_count": 18,
   "metadata": {},
   "outputs": [],
   "source": [
    "dd.rm_tmp_dir(True)"
   ]
  },
  {
   "cell_type": "code",
   "execution_count": 20,
   "metadata": {},
   "outputs": [],
   "source": [
    "# os.remove(\"test.file\")"
   ]
  },
  {
   "cell_type": "code",
   "execution_count": null,
   "metadata": {},
   "outputs": [],
   "source": []
  },
  {
   "cell_type": "code",
   "execution_count": 21,
   "metadata": {},
   "outputs": [],
   "source": [
    "class NiiFile(File):\n",
    "    '''NIFTI file class object for handling NIFTI files. Inherits properties\n",
    "    from the File class.\n",
    "    \n",
    "    Attributes (class and instance attributes):\n",
    "        file (class and instance): NIFTI file path.\n",
    "    '''\n",
    "    def __init__(self,\n",
    "                 file: File):\n",
    "        '''Init doc-string for NiiFile class.'''\n",
    "        self.file = file\n",
    "        File.__init__(self,self.file)\n",
    "    \n",
    "    def rm_ext(self):\n",
    "        '''\n",
    "        Intended for use-cases pertaining to NIFTI files.\n",
    "        Removes file extensions of NIFTI files.\n",
    "        '''\n",
    "        if '.nii.gz' in self.file:\n",
    "            return self.file[:-7]\n",
    "        elif '.nii' in self.file:\n",
    "            return self.file[:-4]\n",
    "        else:\n",
    "            return self.file"
   ]
  },
  {
   "cell_type": "code",
   "execution_count": 22,
   "metadata": {},
   "outputs": [],
   "source": [
    "class LogFile(File):\n",
    "    '''Class that creates a log file for logging purposes. Due to how this \n",
    "    class is constructed - its intended use cases requires that this class \n",
    "    is instantiated/called once and ONLY once.\n",
    "    \n",
    "    Once a class instance has been instantiated, then it and its associated\n",
    "    methods can be used.\n",
    "    \n",
    "    Attributes (class and instance attributes):\n",
    "        log_file: Log file filename.\n",
    "    '''\n",
    "    \n",
    "    # # Define global variables\n",
    "    # global log_file\n",
    "    # global logging\n",
    "    # global logger\n",
    "    # global console\n",
    "    \n",
    "    def __init__(self,\n",
    "                 log_file: File = \"\") -> None:\n",
    "        '''Init doc-string for LogFile class.\n",
    "        \n",
    "        Args:\n",
    "            file: Log filename (need not exist at runtime).\n",
    "        '''\n",
    "        self.log_file: File = log_file\n",
    "        \n",
    "        # Set-up logging to file\n",
    "        logging.basicConfig(level=logging.INFO,\n",
    "                            format='%(asctime)s %(name)-12s %(levelname)-8s %(message)s',\n",
    "                            datefmt='%d-%m-%y %H:%M:%S',\n",
    "                            filename=self.log_file,\n",
    "                            filemode='a')\n",
    "        \n",
    "        # Define a Handler which writes INFO messages or higher to the sys.stderr\n",
    "        self.console = logging.StreamHandler()\n",
    "        self.console.setLevel(logging.INFO)\n",
    "        \n",
    "        # Add the handler to the root logger\n",
    "        logging.getLogger().addHandler(self.console)\n",
    "        \n",
    "        # Define logging\n",
    "        self.logger = logging.getLogger(__name__)\n",
    "        \n",
    "    def info(self,\n",
    "            msg: str = \"\") -> None:\n",
    "        '''Writes information to log file.'''\n",
    "        self.logger.info(msg)\n",
    "        \n",
    "    def debug(self,\n",
    "            msg: str = \"\") -> None:\n",
    "        '''Writes debug information to file.'''\n",
    "        self.logger.debug(msg)\n",
    "        \n",
    "    def error(self,\n",
    "            msg: str = \"\") -> None:\n",
    "        '''Writes error information to file.'''\n",
    "        self.logger.error(msg)\n",
    "    \n",
    "    def log(self,\n",
    "        log_cmd: str = \"\"):\n",
    "        '''\n",
    "        Log function for logging commands and messages to some log file.\n",
    "\n",
    "        Usage:\n",
    "            # Initialize the `log` function command\n",
    "            log_msg = Command(\"log\")\n",
    "\n",
    "            # Specify output file and message\n",
    "            log_msg.log(\"sub.log\",\"test message 1\")\n",
    "\n",
    "            # Record message, however - no need to re-initialize `log` funcion command or log output file\n",
    "            log_msg.log(\"test message 2\")\n",
    "\n",
    "        NOTE: The input `log_file` only needs to be specified once. Once specified,\n",
    "            this log is written to each time this or the `run` function is invoked.\n",
    "\n",
    "        Arguments:\n",
    "            log_file(file): Log file to be written to. \n",
    "            log_cmd(str): Message to be written to log file\n",
    "        '''\n",
    "\n",
    "        # Log command/message\n",
    "        self.info(log_cmd)"
   ]
  },
  {
   "cell_type": "code",
   "execution_count": 23,
   "metadata": {},
   "outputs": [],
   "source": [
    "# Needs to be instantiated once and ONLY once\n",
    "# log = LogFile(\"sub-test.2.log\")\n",
    "log = LogFile(\"\")"
   ]
  },
  {
   "cell_type": "code",
   "execution_count": 24,
   "metadata": {},
   "outputs": [],
   "source": [
    "class Command(object):\n",
    "    '''\n",
    "    Creates a command and an empty command list for UNIX command line programs/applications. Primary use and\n",
    "    use-cases are intended for the subprocess module and its associated classes (i.e. Popen/call/run).\n",
    "    \n",
    "    Attributes (class and instance attributes):\n",
    "        command (instance): Command to be performed on the command line.\n",
    "        cmd_list (instance): Mutable list that can be appended to.\n",
    "    \n",
    "    Modules/Packages required:\n",
    "        - os\n",
    "        - logging\n",
    "        - subprocess\n",
    "    '''\n",
    "\n",
    "    def __init__(self,\n",
    "                 command: str) -> list:\n",
    "        '''\n",
    "        Init doc-string for Command class. Initializes a command to be used on UNIX command line.\n",
    "        The input argument is a command (string), and a mutable list is returned (, that can later\n",
    "        be appended to).\n",
    "        \n",
    "        Usage:\n",
    "            echo = Command(\"echo\")\n",
    "            echo.cmd_list.append(\"Hi!\")\n",
    "            echo.cmd_list.append(\"I have arrived!\")\n",
    "        \n",
    "        Arguments:\n",
    "            command (string): Command to be used. Note: command used must be in system path\n",
    "        Returns:\n",
    "            cmd_list (list): Mutable list that can be appended to.\n",
    "        '''\n",
    "        self.command = command\n",
    "        self.cmd_list = [f\"{self.command}\"]\n",
    "        \n",
    "    def check_dependency(self,\n",
    "                 err_msg: Optional[str] = None) -> None:\n",
    "        '''Checks dependency of some command line executable/command.\n",
    "        Should the dependency not be met, then an exception is raised.\n",
    "        Check system path should problems arise and ensure that the executable\n",
    "        of interest is installed.\n",
    "        \n",
    "        Args:\n",
    "            err_msg: Error message to print to screen.\n",
    "        \n",
    "        Raises:\n",
    "            DependencyError: Dependency error exception is raised if the dependency\n",
    "                is not met.\n",
    "        '''\n",
    "        if not shutil.which(self.command):\n",
    "            if err_msg:\n",
    "                print(f\"\\n \\t {err_msg} \\n\")\n",
    "            else:\n",
    "                print(f\"\\n \\t The required dependency {self.command} is not installed or in the system path. \\n\")\n",
    "            raise DependencyError(\"Command executable not found in system path.\")\n",
    "        \n",
    "    def run(self,\n",
    "            debug: bool = False,\n",
    "            dryrun: bool = False,\n",
    "            env: dict = {},\n",
    "            stdout: File = \"\",\n",
    "            shell: bool = False\n",
    "           ) -> List[Union[int,str]]:\n",
    "        '''\n",
    "        Uses python's built-in subprocess class to execute (run) a command from an input command list.\n",
    "        The standard output and error can optionally be written to file.\n",
    "        \n",
    "        Usage:\n",
    "            echo.run() # This will return tuple (returncode,log,None,None), but will echo \"Hi!\" to screen.\n",
    "            \n",
    "        NOTE: \n",
    "            - REQUIRED: `LogFile` `class` must be instantiated/called globally with the class variable instance\n",
    "                named `log` for this class to run properly.\n",
    "            - The contents of the 'stdout' output file will be empty if 'shell' is set to True.\n",
    "            - Once the log file name 'log_file' has been set, that value is stored and cannot be changed.\n",
    "                - This log file will continue to be appended to for each invocation of this class.\n",
    "        Arguments:\n",
    "            log_file(file): Output log file name.\n",
    "            debug(bool): Sets logging function verbosity to DEBUG level\n",
    "            dryrun(bool): Dry run -- does not run task. Command is recorded to log file.\n",
    "            env(dict): Dictionary of environment variables to add to subshell.\n",
    "            stdout(file): Output file to write standard output to.\n",
    "            shell(bool): Use shell to execute command.\n",
    "        Returns:\n",
    "            p.returncode(int): Return code for command execution should the 'log_file' option be used.\n",
    "            log_file(file): Output log file with appended information should the 'log_file' option be used.\n",
    "            stdout(file): Standard output writtent to file should the 'stdout' option be used.\n",
    "            stderr(file): Standard error writtent to file should the 'stdout' option be used.\n",
    "        '''\n",
    "        \n",
    "        # Create command str for log\n",
    "        cmd: str = ' '.join(self.cmd_list) # Join list for logging purposes\n",
    "        \n",
    "        if debug:\n",
    "            log.debug(f\"Running: {cmd}\")\n",
    "        else:\n",
    "            log.info(f\"Running: {cmd}\")\n",
    "        \n",
    "        if dryrun:\n",
    "            log.info(\"Performing command as dryrun\")\n",
    "            return 0\n",
    "        \n",
    "        # Define environment variables\n",
    "        merged_env: dict = os.environ\n",
    "        if env:\n",
    "            merged_env.update(env)\n",
    "        \n",
    "        # Execute/run command\n",
    "        p = subprocess.Popen(self.cmd_list,shell=shell,env=merged_env,\n",
    "                        stdout=subprocess.PIPE,stderr=subprocess.PIPE)\n",
    "\n",
    "        # Write log files\n",
    "        out,err = p.communicate()\n",
    "        out = out.decode('utf-8')\n",
    "        err = err.decode('utf-8')\n",
    "\n",
    "        # Write std output/error files\n",
    "        if stdout:\n",
    "            stderr: str = os.path.splitext(stdout)[0] + \".err\"\n",
    "                \n",
    "            stdout: File = File(stdout)\n",
    "            stderr: File = File(stderr)\n",
    "            \n",
    "            stdout.write_txt(out)\n",
    "            stderr.write_txt(err)\n",
    "        else:\n",
    "            stdout = None\n",
    "            stderr = None\n",
    "\n",
    "        if p.returncode:\n",
    "            log.error(f\"command: {cmd} \\n Failed with returncode {p.returncode}\")\n",
    "\n",
    "        if len(out) > 0:\n",
    "            if debug:\n",
    "                log.debug(out)\n",
    "            else:\n",
    "                log.info(out)\n",
    "\n",
    "        if len(err) > 0:\n",
    "            if debug:\n",
    "                log.info(err)\n",
    "            else:\n",
    "                log.warning(err)\n",
    "        return p.returncode,stdout,stderr"
   ]
  },
  {
   "cell_type": "code",
   "execution_count": 13,
   "metadata": {},
   "outputs": [
    {
     "data": {
      "text/plain": [
       "str"
      ]
     },
     "execution_count": 13,
     "metadata": {},
     "output_type": "execute_result"
    }
   ],
   "source": []
  },
  {
   "cell_type": "code",
   "execution_count": 9,
   "metadata": {},
   "outputs": [],
   "source": [
    "fsl_math = Command(\"fslmaths\")"
   ]
  },
  {
   "cell_type": "code",
   "execution_count": 10,
   "metadata": {},
   "outputs": [],
   "source": [
    "fsl_math.cmd_list.append(\"-h\")"
   ]
  },
  {
   "cell_type": "code",
   "execution_count": 11,
   "metadata": {},
   "outputs": [
    {
     "data": {
      "text/plain": [
       "['fslmaths', '-h']"
      ]
     },
     "execution_count": 11,
     "metadata": {},
     "output_type": "execute_result"
    }
   ],
   "source": [
    "fsl_math.cmd_list"
   ]
  },
  {
   "cell_type": "code",
   "execution_count": 12,
   "metadata": {},
   "outputs": [
    {
     "name": "stderr",
     "output_type": "stream",
     "text": [
      "Running: fslmaths -h\n",
      "\n",
      "Usage: fslmaths [-dt <datatype>] <first_input> [operations and inputs] <output> [-odt <datatype>]\n",
      "\n",
      "Datatype information:\n",
      " -dt sets the datatype used internally for calculations (default float for all except double images)\n",
      " -odt sets the output datatype ( default is float )\n",
      " Possible datatypes are: char short int float double input\n",
      " \"input\" will set the datatype to that of the original image\n",
      "\n",
      "Binary operations:\n",
      "  (some inputs can be either an image or a number)\n",
      " -add   : add following input to current image\n",
      " -sub   : subtract following input from current image\n",
      " -mul   : multiply current image by following input\n",
      " -div   : divide current image by following input\n",
      " -rem   : modulus remainder - divide current image by following input and take remainder\n",
      " -mas   : use (following image>0) to mask current image\n",
      " -thr   : use following number to threshold current image (zero anything below the number)\n",
      " -thrp  : use following percentage (0-100) of ROBUST RANGE to threshold current image (zero anything below the number)\n",
      " -thrP  : use following percentage (0-100) of ROBUST RANGE of non-zero voxels and threshold below\n",
      " -uthr  : use following number to upper-threshold current image (zero anything above the number)\n",
      " -uthrp : use following percentage (0-100) of ROBUST RANGE to upper-threshold current image (zero anything above the number)\n",
      " -uthrP : use following percentage (0-100) of ROBUST RANGE of non-zero voxels and threshold above\n",
      " -max   : take maximum of following input and current image\n",
      " -min   : take minimum of following input and current image\n",
      " -seed  : seed random number generator with following number\n",
      " -restart : replace the current image with input for future processing operations\n",
      " -save : save the current working image to the input filename\n",
      "\n",
      "Basic unary operations:\n",
      " -exp   : exponential\n",
      " -log   : natural logarithm\n",
      " -sin   : sine function\n",
      " -cos   : cosine function\n",
      " -tan   : tangent function\n",
      " -asin  : arc sine function\n",
      " -acos  : arc cosine function\n",
      " -atan  : arc tangent function\n",
      " -sqr   : square\n",
      " -sqrt  : square root\n",
      " -recip : reciprocal (1/current image)\n",
      " -abs   : absolute value\n",
      " -bin   : use (current image>0) to binarise\n",
      " -binv  : binarise and invert (binarisation and logical inversion)\n",
      " -fillh : fill holes in a binary mask (holes are internal - i.e. do not touch the edge of the FOV)\n",
      " -fillh26 : fill holes using 26 connectivity\n",
      " -index : replace each nonzero voxel with a unique (subject to wrapping) index number\n",
      " -grid <value> <spacing> : add a 3D grid of intensity <value> with grid spacing <spacing>\n",
      " -edge  : edge strength\n",
      " -tfce <H> <E> <connectivity>: enhance with TFCE, e.g. -tfce 2 0.5 6 (maybe change 6 to 26 for skeletons)\n",
      " -tfceS <H> <E> <connectivity> <X> <Y> <Z> <tfce_thresh>: show support area for voxel (X,Y,Z)\n",
      " -nan   : replace NaNs (improper numbers) with 0\n",
      " -nanm  : make NaN (improper number) mask with 1 for NaN voxels, 0 otherwise\n",
      " -rand  : add uniform noise (range 0:1)\n",
      " -randn : add Gaussian noise (mean=0 sigma=1)\n",
      " -inm <mean> :  (-i i ip.c) intensity normalisation (per 3D volume mean)\n",
      " -ing <mean> :  (-I i ip.c) intensity normalisation, global 4D mean)\n",
      " -range : set the output calmin/max to full data range\n",
      "\n",
      "Matrix operations:\n",
      " -tensor_decomp : convert a 4D (6-timepoint )tensor image into L1,2,3,FA,MD,MO,V1,2,3 (remaining image in pipeline is FA)\n",
      "\n",
      "Kernel operations (set BEFORE filtering operation if desired):\n",
      " -kernel 3D : 3x3x3 box centered on target voxel (set as default kernel)\n",
      " -kernel 2D : 3x3x1 box centered on target voxel\n",
      " -kernel box    <size>     : all voxels in a cube of width <size> mm centered on target voxel\n",
      " -kernel boxv   <size>     : all voxels in a cube of width <size> voxels centered on target voxel, CAUTION: size should be an odd number\n",
      " -kernel boxv3  <X> <Y> <Z>: all voxels in a cuboid of dimensions X x Y x Z centered on target voxel, CAUTION: size should be an odd number\n",
      " -kernel gauss  <sigma>    : gaussian kernel (sigma in mm, not voxels)\n",
      " -kernel sphere <size>     : all voxels in a sphere of radius <size> mm centered on target voxel\n",
      " -kernel file   <filename> : use external file as kernel\n",
      "\n",
      "Spatial Filtering operations: N.B. all options apart from -s use the default kernel or that _previously_ specified by -kernel\n",
      " -dilM    : Mean Dilation of non-zero voxels\n",
      " -dilD    : Modal Dilation of non-zero voxels\n",
      " -dilF    : Maximum filtering of all voxels\n",
      " -dilall  : Apply -dilM repeatedly until the entire FOV is covered\n",
      " -ero     : Erode by zeroing non-zero voxels when zero voxels found in kernel\n",
      " -eroF    : Minimum filtering of all voxels\n",
      " -fmedian : Median Filtering \n",
      " -fmean   : Mean filtering, kernel weighted (conventionally used with gauss kernel)\n",
      " -fmeanu  : Mean filtering, kernel weighted, un-normalised (gives edge effects)\n",
      " -s <sigma> : create a gauss kernel of sigma mm and perform mean filtering\n",
      " -subsamp2  : downsamples image by a factor of 2 (keeping new voxels centred on old)\n",
      " -subsamp2offc  : downsamples image by a factor of 2 (non-centred)\n",
      "\n",
      "Dimensionality reduction operations:\n",
      "  (the \"T\" can be replaced by X, Y or Z to collapse across a different dimension)\n",
      " -Tmean   : mean across time\n",
      " -Tstd    : standard deviation across time\n",
      " -Tmax    : max across time\n",
      " -Tmaxn   : time index of max across time\n",
      " -Tmin    : min across time\n",
      " -Tmedian : median across time\n",
      " -Tperc <percentage> : nth percentile (0-100) of FULL RANGE across time\n",
      " -Tar1    : temporal AR(1) coefficient (use -odt float and probably demean first)\n",
      "\n",
      "Basic statistical operations:\n",
      " -pval    : Nonparametric uncorrected P-value, assuming timepoints are the permutations; first timepoint is actual (unpermuted) stats image\n",
      " -pval0   : Same as -pval, but treat zeros as missing data\n",
      " -cpval   : Same as -pval, but gives FWE corrected P-values\n",
      " -ztop    : Convert Z-stat to (uncorrected) P\n",
      " -ptoz    : Convert (uncorrected) P to Z\n",
      " -rank    : Convert data to ranks (over T dim)\n",
      " -ranknorm: Transform to Normal dist via ranks\n",
      "\n",
      "Multi-argument operations:\n",
      " -roi <xmin> <xsize> <ymin> <ysize> <zmin> <zsize> <tmin> <tsize> : zero outside roi (using voxel coordinates). Inputting -1 for a size will set it to the full image extent for that dimension.\n",
      " -bptf  <hp_sigma> <lp_sigma> : (-t in ip.c) Bandpass temporal filtering; nonlinear highpass and Gaussian linear lowpass (with sigmas in volumes, not seconds); set either sigma<0 to skip that filter\n",
      " -roc <AROC-thresh> <outfile> [4Dnoiseonly] <truth> : take (normally binary) truth and test current image in ROC analysis against truth. <AROC-thresh> is usually 0.05 and is limit of Area-under-ROC measure FP axis. <outfile> is a text file of the ROC curve (triplets of values: FP TP threshold). If the truth image contains negative voxels these get excluded from all calculations. If <AROC-thresh> is positive then the [4Dnoiseonly] option needs to be set, and the FP rate is determined from this noise-only data, and is set to be the fraction of timepoints where any FP (anywhere) is seen, as found in the noise-only 4d-dataset. This is then controlling the FWE rate. If <AROC-thresh> is negative the FP rate is calculated from the zero-value parts of the <truth> image, this time averaging voxelwise FP rate over all timepoints. In both cases the TP rate is the average fraction of truth=positive voxels correctly found.\n",
      "\n",
      "Combining 4D and 3D images:\n",
      " If you apply a Binary operation (one that takes the current image and a new image together), when one is 3D and the other is 4D,\n",
      " the 3D image is cloned temporally to match the temporal dimensions of the 4D image.\n",
      "\n",
      "e.g. fslmaths inputVolume -add inputVolume2 output_volume\n",
      "     fslmaths inputVolume -add 2.5 output_volume\n",
      "     fslmaths inputVolume -add 2.5 -mul inputVolume2 output_volume\n",
      "\n",
      "     fslmaths 4D_inputVolume -Tmean -mul -1 -add 4D_inputVolume demeaned_4D_inputVolume\n",
      "\n",
      "\n"
     ]
    },
    {
     "data": {
      "text/plain": [
       "(0, None, None)"
      ]
     },
     "execution_count": 12,
     "metadata": {},
     "output_type": "execute_result"
    }
   ],
   "source": [
    "fsl_math.run()"
   ]
  },
  {
   "cell_type": "code",
   "execution_count": 120,
   "metadata": {},
   "outputs": [],
   "source": [
    "os.remove(\"sub-test.2.log\")"
   ]
  },
  {
   "cell_type": "code",
   "execution_count": 39,
   "metadata": {},
   "outputs": [],
   "source": [
    "fsl_math.check_dependency()"
   ]
  },
  {
   "cell_type": "code",
   "execution_count": 13,
   "metadata": {},
   "outputs": [],
   "source": [
    "fsl_val = Command(\"fslval\")"
   ]
  },
  {
   "cell_type": "code",
   "execution_count": 14,
   "metadata": {},
   "outputs": [
    {
     "name": "stderr",
     "output_type": "stream",
     "text": [
      "Running: fslval\n",
      "command: fslval \n",
      " Failed with returncode 1\n",
      "Usage: fslval <input> <keyword>\n",
      "\n"
     ]
    },
    {
     "data": {
      "text/plain": [
       "(1, None, None)"
      ]
     },
     "execution_count": 14,
     "metadata": {},
     "output_type": "execute_result"
    }
   ],
   "source": [
    "fsl_val.run()"
   ]
  },
  {
   "cell_type": "code",
   "execution_count": null,
   "metadata": {},
   "outputs": [],
   "source": []
  }
 ],
 "metadata": {
  "kernelspec": {
   "display_name": "Python 3",
   "language": "python",
   "name": "python3"
  },
  "language_info": {
   "codemirror_mode": {
    "name": "ipython",
    "version": 3
   },
   "file_extension": ".py",
   "mimetype": "text/x-python",
   "name": "python",
   "nbconvert_exporter": "python",
   "pygments_lexer": "ipython3",
   "version": "3.7.3"
  }
 },
 "nbformat": 4,
 "nbformat_minor": 2
}

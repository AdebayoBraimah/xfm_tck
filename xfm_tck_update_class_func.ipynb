{
 "cells": [
  {
   "cell_type": "code",
   "execution_count": 1,
   "metadata": {},
   "outputs": [],
   "source": [
    "import subprocess\n",
    "import logging\n",
    "import os\n",
    "import numpy as np\n",
    "import random\n",
    "import shutil\n",
    "import platform\n",
    "import sys\n",
    "import gzip\n",
    "from typing import Union, List, Optional, Tuple"
   ]
  },
  {
   "cell_type": "code",
   "execution_count": 2,
   "metadata": {},
   "outputs": [],
   "source": [
    "class DependencyError(Exception):\n",
    "    pass"
   ]
  },
  {
   "cell_type": "code",
   "execution_count": 3,
   "metadata": {},
   "outputs": [],
   "source": [
    "class File(object):\n",
    "    '''Creates File object that encapsulates a number of methods and properites\n",
    "    for file and filename handling.\n",
    "    \n",
    "    Attributes (class and instance attributes):\n",
    "        file (class and instance): Class variable that is set once class is instantiated.\n",
    "    '''\n",
    "    \n",
    "    file: str = \"\"\n",
    "    \n",
    "    def __init__(self,\n",
    "                 file: str,\n",
    "                 ext: str = \"\") -> None:\n",
    "        '''Init doc-string for File object class.\n",
    "        \n",
    "        Usage example:\n",
    "            file_obj = File(\"<file_name.txt>\")\n",
    "            file_obj.file -> \"<file_name.txt>\" # Returns filename str\n",
    "        \n",
    "        Args:\n",
    "            file: Input file (need not exist at runtime/instantiated).\n",
    "            ext: File extension of input file. \n",
    "        '''\n",
    "        self.file: str = file\n",
    "        if ext:\n",
    "            self.ext: str = ext\n",
    "        elif '.gz' in self.file:\n",
    "            self.ext: str = self.file[-(7):]\n",
    "        else:\n",
    "            self.ext: str = self.file[-(4):]\n",
    "        \n",
    "    def touch(self) -> str:\n",
    "        '''Creates empty file.\n",
    "        \n",
    "        Usage example:\n",
    "            file_obj = File(\"<file_name.txt>\")\n",
    "            file_obj.touch()   # Creates empty file\n",
    "        '''\n",
    "        with open(self.file,'w') as tmp_file:\n",
    "            pass\n",
    "        return self.file\n",
    "    \n",
    "    def abs_path(self) -> str:\n",
    "        '''Returns absolute path of file.\n",
    "        \n",
    "        Usage example:\n",
    "            file_obj = File(\"<file_name.txt>\")\n",
    "            file_obj.abs_path()   # Returns abs path of file as str\n",
    "        '''\n",
    "        if os.path.exists(self.file):\n",
    "            return os.path.abspath(self.file)\n",
    "        else:\n",
    "            self.touch()\n",
    "            file_path = os.path.abspath(self.file)\n",
    "            os.remove(self.file)\n",
    "            return file_path\n",
    "    \n",
    "    def rm_ext(self,\n",
    "              ext: str = \"\") -> str:\n",
    "        '''Removes file extension from the file.\n",
    "        \n",
    "        Usage example:\n",
    "            # Recommended\n",
    "            file_obj = File(\"<file_name.txt>\")\n",
    "            file_obj.rm_ext(\".txt\")\n",
    "            \n",
    "            # or\n",
    "            \n",
    "            # Not recommended\n",
    "            file_obj = File(\"<file_name.txt>\")\n",
    "            file_obj.rm_ext()   # Returns \"file_name\"\n",
    "        \n",
    "        Args:\n",
    "            ext: File extension.\n",
    "        \n",
    "        Returns:\n",
    "            file: File name with no extension.\n",
    "        '''\n",
    "        if ext:\n",
    "            ext_num = len(ext)\n",
    "            return self.file[:-(ext_num)]\n",
    "        elif self.ext:\n",
    "            ext_num = len(self.ext)\n",
    "            return self.file[:-(ext_num)]\n",
    "        else:\n",
    "            return self.file[:-(4)]\n",
    "        \n",
    "    def write_txt(self,\n",
    "                 txt: str = \"\") -> str:\n",
    "        '''Writes/appends text to file.\n",
    "        \n",
    "        Usage example:\n",
    "            file_obj = File(\"<file_name.txt>\")\n",
    "            file_obj.write_txt(\"<Some text to be written>\")\n",
    "        \n",
    "        Args:\n",
    "            txt: Text to be written to file.\n",
    "        Returns:\n",
    "            file: File with text written/appended to it.\n",
    "        '''\n",
    "        with open(self.file,\"a\") as tmp_file:\n",
    "            tmp_file.write(txt)\n",
    "            tmp_file.close()\n",
    "        return self.file\n",
    "    \n",
    "    def file_parts(self,\n",
    "                  ext: str = \"\") -> Tuple[str,str,str]:\n",
    "        '''Splits a file and its path into its constituent \n",
    "        parts:\n",
    "            * file path\n",
    "            * filename\n",
    "            * extension\n",
    "        \n",
    "        Usage example:\n",
    "            file_obj = File(\"<file_name.txt>\")\n",
    "            file_obj.file_parts()\n",
    "        \n",
    "        Args:\n",
    "            ext: File extension, needed if the file extension of file \n",
    "                object is longer than 4 characters.\n",
    "        \n",
    "        Returns:\n",
    "            path: Absolute file path, excluding filename.\n",
    "            filename: Filename, excluding extension.\n",
    "            ext: File extension.\n",
    "        '''\n",
    "        \n",
    "        file: str = self.file\n",
    "        file = self.abs_path()\n",
    "        \n",
    "        if platform.system().lower() == \"windows\":\n",
    "            [path, _filename] = os.path.splitdrive(file)\n",
    "        else:\n",
    "            [path, _filename] = os.path.split(file)\n",
    "        \n",
    "        if ext:\n",
    "            ext_num = len(ext)\n",
    "            _filename = _filename[:-(ext_num)]\n",
    "            [filename, _ext] = os.path.splitext(_filename)\n",
    "        elif self.ext:\n",
    "            ext = self.ext\n",
    "            ext_num = len(ext)\n",
    "            _filename = _filename[:-(ext_num)]\n",
    "            [filename, _ext] = os.path.splitext(_filename)\n",
    "        else:\n",
    "            [filename, ext] = os.path.splitext(_filename)\n",
    "        \n",
    "        return path, filename, ext"
   ]
  },
  {
   "cell_type": "code",
   "execution_count": 60,
   "metadata": {},
   "outputs": [],
   "source": [
    "file_2 = \"../sub-C01/ses-001/dwi/bval-b2000_run-01/sub-C01_ses-001_bval-b2000_run-01_dwi.nii.gz\""
   ]
  },
  {
   "cell_type": "code",
   "execution_count": 61,
   "metadata": {},
   "outputs": [],
   "source": [
    "t = \"test.txt\""
   ]
  },
  {
   "cell_type": "code",
   "execution_count": 62,
   "metadata": {},
   "outputs": [
    {
     "name": "stdout",
     "output_type": "stream",
     "text": [
      "go\n"
     ]
    }
   ],
   "source": [
    "if t.count(\".\") is 1:\n",
    "    print(\"go\")"
   ]
  },
  {
   "cell_type": "code",
   "execution_count": 63,
   "metadata": {},
   "outputs": [
    {
     "data": {
      "text/plain": [
       "4"
      ]
     },
     "execution_count": 63,
     "metadata": {},
     "output_type": "execute_result"
    }
   ],
   "source": [
    "file_2.count(\".\")"
   ]
  },
  {
   "cell_type": "code",
   "execution_count": null,
   "metadata": {},
   "outputs": [],
   "source": []
  },
  {
   "cell_type": "code",
   "execution_count": 64,
   "metadata": {},
   "outputs": [],
   "source": [
    "f = File(\"test.txt\")"
   ]
  },
  {
   "cell_type": "code",
   "execution_count": 65,
   "metadata": {},
   "outputs": [
    {
     "data": {
      "text/plain": [
       "'test.txt'"
      ]
     },
     "execution_count": 65,
     "metadata": {},
     "output_type": "execute_result"
    }
   ],
   "source": [
    "f.file"
   ]
  },
  {
   "cell_type": "code",
   "execution_count": 66,
   "metadata": {},
   "outputs": [
    {
     "data": {
      "text/plain": [
       "'.txt'"
      ]
     },
     "execution_count": 66,
     "metadata": {},
     "output_type": "execute_result"
    }
   ],
   "source": [
    "f.ext"
   ]
  },
  {
   "cell_type": "code",
   "execution_count": 67,
   "metadata": {},
   "outputs": [
    {
     "data": {
      "text/plain": [
       "'test'"
      ]
     },
     "execution_count": 67,
     "metadata": {},
     "output_type": "execute_result"
    }
   ],
   "source": [
    "f.rm_ext()"
   ]
  },
  {
   "cell_type": "code",
   "execution_count": null,
   "metadata": {},
   "outputs": [],
   "source": []
  },
  {
   "cell_type": "code",
   "execution_count": null,
   "metadata": {},
   "outputs": [],
   "source": []
  },
  {
   "cell_type": "code",
   "execution_count": 68,
   "metadata": {},
   "outputs": [
    {
     "data": {
      "text/plain": [
       "('/mnt/c/Users/smart/Desktop/IRC317H_NAS/dti/data.dti/xfm_tck', 'test', '.txt')"
      ]
     },
     "execution_count": 68,
     "metadata": {},
     "output_type": "execute_result"
    }
   ],
   "source": [
    "f.file_parts()"
   ]
  },
  {
   "cell_type": "code",
   "execution_count": 69,
   "metadata": {},
   "outputs": [
    {
     "data": {
      "text/plain": [
       "'test.txt'"
      ]
     },
     "execution_count": 69,
     "metadata": {},
     "output_type": "execute_result"
    }
   ],
   "source": [
    "f.file"
   ]
  },
  {
   "cell_type": "code",
   "execution_count": 70,
   "metadata": {},
   "outputs": [
    {
     "data": {
      "text/plain": [
       "('/mnt/c/Users/smart/Desktop/IRC317H_NAS/dti/data.dti/xfm_tck', 'test', '.txt')"
      ]
     },
     "execution_count": 70,
     "metadata": {},
     "output_type": "execute_result"
    }
   ],
   "source": [
    "f.file_parts(\".txt\")"
   ]
  },
  {
   "cell_type": "code",
   "execution_count": 71,
   "metadata": {},
   "outputs": [
    {
     "data": {
      "text/plain": [
       "'/mnt/c/Users/smart/Desktop/IRC317H_NAS/dti/data.dti/xfm_tck/test.txt'"
      ]
     },
     "execution_count": 71,
     "metadata": {},
     "output_type": "execute_result"
    }
   ],
   "source": [
    "f.abs_path()"
   ]
  },
  {
   "cell_type": "code",
   "execution_count": 28,
   "metadata": {
    "scrolled": true
   },
   "outputs": [
    {
     "data": {
      "text/plain": [
       "('/mnt/c/Users/smart/Desktop/IRC317H_NAS/dti/data.dti/xfm_tck', 'test.txt')"
      ]
     },
     "execution_count": 28,
     "metadata": {},
     "output_type": "execute_result"
    }
   ],
   "source": [
    "os.path.split(f.abs_path())"
   ]
  },
  {
   "cell_type": "code",
   "execution_count": 29,
   "metadata": {},
   "outputs": [
    {
     "data": {
      "text/plain": [
       "('', '/mnt/c/Users/smart/Desktop/IRC317H_NAS/dti/data.dti/xfm_tck/test.txt')"
      ]
     },
     "execution_count": 29,
     "metadata": {},
     "output_type": "execute_result"
    }
   ],
   "source": [
    "os.path.splitdrive(f.abs_path())"
   ]
  },
  {
   "cell_type": "code",
   "execution_count": 47,
   "metadata": {},
   "outputs": [
    {
     "data": {
      "text/plain": [
       "('/mnt/c/Users/smart/Desktop/IRC317H_NAS/dti/data.dti/xfm_tck/test', '.txt')"
      ]
     },
     "execution_count": 47,
     "metadata": {},
     "output_type": "execute_result"
    }
   ],
   "source": [
    "os.path.splitext(f.abs_path())"
   ]
  },
  {
   "cell_type": "code",
   "execution_count": 31,
   "metadata": {},
   "outputs": [
    {
     "data": {
      "text/plain": [
       "('', 'test.txt')"
      ]
     },
     "execution_count": 31,
     "metadata": {},
     "output_type": "execute_result"
    }
   ],
   "source": [
    "os.path.split(\"test.txt\")"
   ]
  },
  {
   "cell_type": "code",
   "execution_count": 34,
   "metadata": {},
   "outputs": [
    {
     "data": {
      "text/plain": [
       "'.txt'"
      ]
     },
     "execution_count": 34,
     "metadata": {},
     "output_type": "execute_result"
    }
   ],
   "source": [
    "f.file[-4:]"
   ]
  },
  {
   "cell_type": "code",
   "execution_count": 45,
   "metadata": {},
   "outputs": [
    {
     "data": {
      "text/plain": [
       "'Linux'"
      ]
     },
     "execution_count": 45,
     "metadata": {},
     "output_type": "execute_result"
    }
   ],
   "source": [
    "platform.system()"
   ]
  },
  {
   "cell_type": "code",
   "execution_count": 72,
   "metadata": {},
   "outputs": [],
   "source": [
    "ff = File(file_2)"
   ]
  },
  {
   "cell_type": "code",
   "execution_count": 73,
   "metadata": {},
   "outputs": [
    {
     "data": {
      "text/plain": [
       "'../sub-C01/ses-001/dwi/bval-b2000_run-01/sub-C01_ses-001_bval-b2000_run-01_dwi.nii.gz'"
      ]
     },
     "execution_count": 73,
     "metadata": {},
     "output_type": "execute_result"
    }
   ],
   "source": [
    "ff.file"
   ]
  },
  {
   "cell_type": "code",
   "execution_count": 74,
   "metadata": {},
   "outputs": [
    {
     "data": {
      "text/plain": [
       "'.nii.gz'"
      ]
     },
     "execution_count": 74,
     "metadata": {},
     "output_type": "execute_result"
    }
   ],
   "source": [
    "ff.ext"
   ]
  },
  {
   "cell_type": "code",
   "execution_count": 48,
   "metadata": {},
   "outputs": [],
   "source": [
    "# os.path.split(ff.abs_path())[1]"
   ]
  },
  {
   "cell_type": "code",
   "execution_count": 49,
   "metadata": {},
   "outputs": [],
   "source": [
    "# os.path.splitext(os.path.split(ff.abs_path())[1])"
   ]
  },
  {
   "cell_type": "code",
   "execution_count": 75,
   "metadata": {},
   "outputs": [
    {
     "data": {
      "text/plain": [
       "'../sub-C01/ses-001/dwi/bval-b2000_run-01/sub-C01_ses-001_bval-b2000_run-01_dwi'"
      ]
     },
     "execution_count": 75,
     "metadata": {},
     "output_type": "execute_result"
    }
   ],
   "source": [
    "# ff.rm_ext(\".nii.gz\")\n",
    "ff.rm_ext()"
   ]
  },
  {
   "cell_type": "code",
   "execution_count": 51,
   "metadata": {
    "scrolled": true
   },
   "outputs": [
    {
     "data": {
      "text/plain": [
       "('/mnt/c/Users/smart/Desktop/IRC317H_NAS/dti/data.dti/sub-C01/ses-001/dwi/bval-b2000_run-01',\n",
       " 'sub-C01_ses-001_bval-b2000_run-01_dwi',\n",
       " '.nii.gz')"
      ]
     },
     "execution_count": 51,
     "metadata": {},
     "output_type": "execute_result"
    }
   ],
   "source": [
    "ff.file_parts()"
   ]
  },
  {
   "cell_type": "code",
   "execution_count": 106,
   "metadata": {},
   "outputs": [
    {
     "data": {
      "text/plain": [
       "'../sub-C01/ses-001/dwi/bval-b2000_run-01/sub-C01_ses-001_bval-b2000_run-01_dwi'"
      ]
     },
     "execution_count": 106,
     "metadata": {},
     "output_type": "execute_result"
    }
   ],
   "source": [
    "ff.file[:-7]"
   ]
  },
  {
   "cell_type": "code",
   "execution_count": null,
   "metadata": {},
   "outputs": [],
   "source": []
  },
  {
   "cell_type": "code",
   "execution_count": 261,
   "metadata": {},
   "outputs": [
    {
     "data": {
      "text/plain": [
       "('/mnt/c/Users/smart/Desktop/IRC317H_NAS/dti/data.dti/xfm_tck', 'test', '.txt')"
      ]
     },
     "execution_count": 261,
     "metadata": {},
     "output_type": "execute_result"
    }
   ],
   "source": [
    "f.file_parts()"
   ]
  },
  {
   "cell_type": "code",
   "execution_count": null,
   "metadata": {},
   "outputs": [],
   "source": []
  },
  {
   "cell_type": "code",
   "execution_count": null,
   "metadata": {},
   "outputs": [],
   "source": []
  },
  {
   "cell_type": "code",
   "execution_count": 15,
   "metadata": {
    "scrolled": true
   },
   "outputs": [
    {
     "data": {
      "text/plain": [
       "'test.txt'"
      ]
     },
     "execution_count": 15,
     "metadata": {},
     "output_type": "execute_result"
    }
   ],
   "source": [
    "f.write_txt()"
   ]
  },
  {
   "cell_type": "code",
   "execution_count": 18,
   "metadata": {},
   "outputs": [],
   "source": [
    "os.remove(f.file)"
   ]
  },
  {
   "cell_type": "code",
   "execution_count": null,
   "metadata": {},
   "outputs": [],
   "source": []
  },
  {
   "cell_type": "code",
   "execution_count": 4,
   "metadata": {},
   "outputs": [],
   "source": [
    "class TmpDir(object):\n",
    "    '''Temporary directory class that creates temporary directories and files\n",
    "    given a parent directory.\n",
    "    \n",
    "    Attributes (class and instance attributes):\n",
    "        tmp_dir (class and instance): Temproary directory.\n",
    "        parent_tmp_dir (class and instance): Input parent directory.\n",
    "    '''\n",
    "    \n",
    "    # Set parent tmp directory, as tmp_dir is overwritten\n",
    "    tmp_dir: str = \"\"\n",
    "    parent_tmp_dir: str = \"\"\n",
    "    \n",
    "    def __init__(self,\n",
    "                tmp_dir: str,\n",
    "                use_cwd: bool = False) -> None:\n",
    "        '''Init doc-string for TmpDir class.\n",
    "        \n",
    "        Usage example:\n",
    "            tmp_directory = TmpDir(\"<temporary_directory>\")\n",
    "            tmp_directory.tmp_dir()   # Returns temporoary directory path str\n",
    "        \n",
    "        Args:\n",
    "            tmp_dir: Temporary parent directory name/path.\n",
    "            use_cwd: Use current working directory as working direcory.\n",
    "        '''\n",
    "        _n: int = 10000 # maximum N for random number generator\n",
    "        tmp_dir: str = os.path.join(tmp_dir,'tmp_dir_' + \n",
    "                               str(random.randint(0,_n)))\n",
    "        self.tmp_dir: str = tmp_dir\n",
    "        self.parent_tmp_dir: str = os.path.dirname(self.tmp_dir)\n",
    "        if use_cwd:\n",
    "            _cwd = os.getcwd()\n",
    "            self.tmp_dir = os.path.join(_cwd,self.tmp_dir)\n",
    "            self.parent_tmp_dir = os.path.dirname(self.tmp_dir)\n",
    "        \n",
    "    def mk_tmp_dir(self) -> None:\n",
    "        '''Creates/makes temporary directory.\n",
    "        \n",
    "        Usage example:\n",
    "            tmp_directory = TmpDir(\"<temporary_directory>\")\n",
    "            tmp_directory.mk_tmp_dir()   # Makes temporary_directory\n",
    "        '''\n",
    "        if not os.path.exists(self.tmp_dir):\n",
    "            return os.makedirs(self.tmp_dir)\n",
    "        else:\n",
    "            print(\"Temporary directory already exists\")\n",
    "        \n",
    "    def rm_tmp_dir(self,\n",
    "                  rm_parent: bool = False) -> None:\n",
    "        '''Removes temporary directory.\n",
    "        \n",
    "        Usage example:\n",
    "            tmp_directory = TmpDir(\"<temporary_directory>\")\n",
    "            tmp_directory.rm_tmp_dir()   # Removes temporary directory\n",
    "        \n",
    "        Args:\n",
    "            rm_parent: Removes parent directory as well.\n",
    "        '''\n",
    "        if rm_parent and os.path.exists(self.parent_tmp_dir):\n",
    "            return shutil.rmtree(self.parent_tmp_dir)\n",
    "        elif os.path.exists(self.tmp_dir):\n",
    "            return shutil.rmtree(self.tmp_dir)\n",
    "        else:\n",
    "            print(\"Temporary directory does not exist\")\n",
    "    \n",
    "    class TmpFile(File):\n",
    "        '''Child/sub-class of TmpDir. Creates temporary files by inheriting File object\n",
    "        methods and properties from the File class.\n",
    "        \n",
    "        Attributes (class and instance attributes):\n",
    "            tmp_file (class and instance): Temporary file name.\n",
    "        '''\n",
    "        \n",
    "        tmp_file: File = \"\"\n",
    "        tmp_dir: str = \"\"\n",
    "\n",
    "        def __init__(self,\n",
    "                    tmp_file: File,\n",
    "                    tmp_dir: str = \"\") -> None:\n",
    "            '''Init doc-string for TmpFile class. Allows for creation of \n",
    "            a temporary file in parent class' temporary directory location.\n",
    "            TmpFile also inherits methods from the File class.\n",
    "            \n",
    "            Usage example:\n",
    "                tmp_directory = TmpDir(\"<temporary_directory>\")\n",
    "                temp_file = TmpDir.TmpFile(\"<temporary_file>\", tmp_directory.tmp_dir)\n",
    "                temp_file.tmp_file   # Returns temporary filename as str\n",
    "            \n",
    "            Args:\n",
    "                tmp_file: Temporary file name.\n",
    "                tmp_dir: Temporary directory name.\n",
    "            '''\n",
    "            self.tmp_file = tmp_file\n",
    "            self.tmp_dir = tmp_dir\n",
    "            self.tmp_file = os.path.join(self.tmp_dir,self.tmp_file)\n",
    "            File.__init__(self,self.tmp_file)"
   ]
  },
  {
   "cell_type": "code",
   "execution_count": 204,
   "metadata": {},
   "outputs": [],
   "source": [
    "d = \"test.dir\""
   ]
  },
  {
   "cell_type": "code",
   "execution_count": 205,
   "metadata": {},
   "outputs": [],
   "source": [
    "dd = TmpDir(d, True)"
   ]
  },
  {
   "cell_type": "code",
   "execution_count": 206,
   "metadata": {},
   "outputs": [],
   "source": [
    "dd.mk_tmp_dir()"
   ]
  },
  {
   "cell_type": "code",
   "execution_count": 207,
   "metadata": {},
   "outputs": [],
   "source": [
    "f = 'test.file'"
   ]
  },
  {
   "cell_type": "code",
   "execution_count": 208,
   "metadata": {},
   "outputs": [
    {
     "data": {
      "text/plain": [
       "'/mnt/c/Users/smart/Desktop/IRC317H_NAS/dti/data.dti/xfm_tck/test.dir/tmp_dir_326'"
      ]
     },
     "execution_count": 208,
     "metadata": {},
     "output_type": "execute_result"
    }
   ],
   "source": [
    "dd.tmp_dir"
   ]
  },
  {
   "cell_type": "code",
   "execution_count": 209,
   "metadata": {},
   "outputs": [],
   "source": [
    "ff = TmpDir.TmpFile(f,dd.tmp_dir)"
   ]
  },
  {
   "cell_type": "code",
   "execution_count": 210,
   "metadata": {},
   "outputs": [
    {
     "data": {
      "text/plain": [
       "'/mnt/c/Users/smart/Desktop/IRC317H_NAS/dti/data.dti/xfm_tck/test.dir/tmp_dir_326/test.file'"
      ]
     },
     "execution_count": 210,
     "metadata": {},
     "output_type": "execute_result"
    }
   ],
   "source": [
    "ff.touch()"
   ]
  },
  {
   "cell_type": "code",
   "execution_count": 211,
   "metadata": {},
   "outputs": [
    {
     "data": {
      "text/plain": [
       "'/mnt/c/Users/smart/Desktop/IRC317H_NAS/dti/data.dti/xfm_tck/test.dir/tmp_dir_326'"
      ]
     },
     "execution_count": 211,
     "metadata": {},
     "output_type": "execute_result"
    }
   ],
   "source": [
    "ff.tmp_dir"
   ]
  },
  {
   "cell_type": "code",
   "execution_count": 212,
   "metadata": {},
   "outputs": [
    {
     "data": {
      "text/plain": [
       "'/mnt/c/Users/smart/Desktop/IRC317H_NAS/dti/data.dti/xfm_tck/test.dir/tmp_dir_326/test.file'"
      ]
     },
     "execution_count": 212,
     "metadata": {},
     "output_type": "execute_result"
    }
   ],
   "source": [
    "ff.abs_path()"
   ]
  },
  {
   "cell_type": "code",
   "execution_count": 213,
   "metadata": {},
   "outputs": [
    {
     "data": {
      "text/plain": [
       "'/mnt/c/Users/smart/Desktop/IRC317H_NAS/dti/data.dti/xfm_tck/test.dir/tmp_dir_326/test.file'"
      ]
     },
     "execution_count": 213,
     "metadata": {},
     "output_type": "execute_result"
    }
   ],
   "source": [
    "ff.tmp_file"
   ]
  },
  {
   "cell_type": "code",
   "execution_count": 214,
   "metadata": {},
   "outputs": [
    {
     "data": {
      "text/plain": [
       "'/mnt/c/Users/smart/Desktop/IRC317H_NAS/dti/data.dti/xfm_tck/test.dir/tmp_dir_326/test.file'"
      ]
     },
     "execution_count": 214,
     "metadata": {},
     "output_type": "execute_result"
    }
   ],
   "source": [
    "ff.tmp_file"
   ]
  },
  {
   "cell_type": "code",
   "execution_count": 215,
   "metadata": {},
   "outputs": [
    {
     "data": {
      "text/plain": [
       "'/mnt/c/Users/smart/Desktop/IRC317H_NAS/dti/data.dti/xfm_tck/test.dir/tmp_dir_326/test.file'"
      ]
     },
     "execution_count": 215,
     "metadata": {},
     "output_type": "execute_result"
    }
   ],
   "source": [
    "ff.touch()"
   ]
  },
  {
   "cell_type": "code",
   "execution_count": 216,
   "metadata": {},
   "outputs": [],
   "source": [
    "dd.rm_tmp_dir(True)"
   ]
  },
  {
   "cell_type": "code",
   "execution_count": 20,
   "metadata": {},
   "outputs": [],
   "source": [
    "# os.remove(\"test.file\")"
   ]
  },
  {
   "cell_type": "code",
   "execution_count": null,
   "metadata": {},
   "outputs": [],
   "source": []
  },
  {
   "cell_type": "code",
   "execution_count": 5,
   "metadata": {},
   "outputs": [],
   "source": [
    "class NiiFile(File):\n",
    "    '''NIFTI file class object for handling NIFTI files. Inherits methods and \n",
    "    properties from the File class.\n",
    "    \n",
    "    Attributes (class and instance attributes):\n",
    "        file (class and instance): NIFTI file path.\n",
    "    '''\n",
    "    def __init__(self,\n",
    "                 file: File) -> None:\n",
    "        '''Init doc-string for NiiFile class.\n",
    "        \n",
    "        Usage example:\n",
    "            nii_file = NiiFile(\"<file.nii>\")\n",
    "            nii_file.file   # Returns NIFTI filename as str\n",
    "        '''\n",
    "        self.file = file\n",
    "        File.__init__(self,self.file)\n"
   ]
  },
  {
   "cell_type": "code",
   "execution_count": 77,
   "metadata": {},
   "outputs": [],
   "source": [
    "f = \"../sub-C01/ses-001/dwi/bval-b2000_run-01/sub-C01_ses-001_bval-b2000_run-01_dwi.nii.gz\""
   ]
  },
  {
   "cell_type": "code",
   "execution_count": 78,
   "metadata": {},
   "outputs": [],
   "source": [
    "n_file = NiiFile(f)"
   ]
  },
  {
   "cell_type": "code",
   "execution_count": 79,
   "metadata": {},
   "outputs": [
    {
     "data": {
      "text/plain": [
       "'../sub-C01/ses-001/dwi/bval-b2000_run-01/sub-C01_ses-001_bval-b2000_run-01_dwi.nii.gz'"
      ]
     },
     "execution_count": 79,
     "metadata": {},
     "output_type": "execute_result"
    }
   ],
   "source": [
    "n_file.file"
   ]
  },
  {
   "cell_type": "code",
   "execution_count": 80,
   "metadata": {},
   "outputs": [
    {
     "data": {
      "text/plain": [
       "'.nii.gz'"
      ]
     },
     "execution_count": 80,
     "metadata": {},
     "output_type": "execute_result"
    }
   ],
   "source": [
    "n_file.ext"
   ]
  },
  {
   "cell_type": "code",
   "execution_count": 251,
   "metadata": {},
   "outputs": [],
   "source": [
    "# n_file.file = n_file.abs_path()\n",
    "# n_file.file"
   ]
  },
  {
   "cell_type": "code",
   "execution_count": 81,
   "metadata": {},
   "outputs": [
    {
     "data": {
      "text/plain": [
       "'../sub-C01/ses-001/dwi/bval-b2000_run-01/sub-C01_ses-001_bval-b2000_run-01_dwi'"
      ]
     },
     "execution_count": 81,
     "metadata": {},
     "output_type": "execute_result"
    }
   ],
   "source": [
    "n_file.rm_ext()"
   ]
  },
  {
   "cell_type": "code",
   "execution_count": 82,
   "metadata": {},
   "outputs": [
    {
     "data": {
      "text/plain": [
       "('/mnt/c/Users/smart/Desktop/IRC317H_NAS/dti/data.dti/sub-C01/ses-001/dwi/bval-b2000_run-01',\n",
       " 'sub-C01_ses-001_bval-b2000_run-01_dwi',\n",
       " '.nii.gz')"
      ]
     },
     "execution_count": 82,
     "metadata": {},
     "output_type": "execute_result"
    }
   ],
   "source": [
    "n_file.file_parts()"
   ]
  },
  {
   "cell_type": "code",
   "execution_count": null,
   "metadata": {},
   "outputs": [],
   "source": []
  },
  {
   "cell_type": "code",
   "execution_count": null,
   "metadata": {},
   "outputs": [],
   "source": []
  },
  {
   "cell_type": "code",
   "execution_count": null,
   "metadata": {},
   "outputs": [],
   "source": []
  },
  {
   "cell_type": "code",
   "execution_count": null,
   "metadata": {},
   "outputs": [],
   "source": []
  },
  {
   "cell_type": "code",
   "execution_count": null,
   "metadata": {},
   "outputs": [],
   "source": []
  },
  {
   "cell_type": "code",
   "execution_count": 6,
   "metadata": {},
   "outputs": [],
   "source": [
    "class LogFile(File):\n",
    "    '''Class that creates a log file for logging purposes. Due to how this \n",
    "    class is constructed - its intended use case requires that this class \n",
    "    is instantiated/called once and ONLY once.\n",
    "    \n",
    "    Once a class instance has been instantiated, then it and its associated\n",
    "    methods can be used.\n",
    "    \n",
    "    Attributes (class and instance attributes):\n",
    "        log_file: Log file filename.\n",
    "    '''\n",
    "    \n",
    "    def __init__(self,\n",
    "                 log_file: File = \"\") -> None:\n",
    "        '''Init doc-string for LogFile class. Initiates logging and its \n",
    "        associated methods.\n",
    "        \n",
    "        Usage examples:\n",
    "            log = LogFile(\"<file.log>\")\n",
    "            log.file   # Returns log file's filename\n",
    "        \n",
    "        Args:\n",
    "            file: Log filename (need not exist at runtime).\n",
    "        '''\n",
    "        self.log_file: File = log_file\n",
    "        \n",
    "        # Set-up logging to file\n",
    "        logging.basicConfig(level=logging.INFO,\n",
    "                            format='%(asctime)s %(name)-12s %(levelname)-8s %(message)s',\n",
    "                            datefmt='%d-%m-%y %H:%M:%S',\n",
    "                            filename=self.log_file,\n",
    "                            filemode='a')\n",
    "        \n",
    "        # Define a Handler which writes INFO messages or higher to the sys.stderr\n",
    "        self.console = logging.StreamHandler()\n",
    "        self.console.setLevel(logging.INFO)\n",
    "        \n",
    "        # Add the handler to the root logger\n",
    "        logging.getLogger().addHandler(self.console)\n",
    "        \n",
    "        # Define logging\n",
    "        self.logger = logging.getLogger(__name__)\n",
    "        \n",
    "    def info(self,\n",
    "            msg: str = \"\") -> None:\n",
    "        '''Writes information to log file.\n",
    "        \n",
    "        Usage examples:\n",
    "            log = LogFile(\"<file.log>\")\n",
    "            log.info(\"<str>\")\n",
    "        \n",
    "        Args:\n",
    "            msg: String to be printed to log file.\n",
    "        '''\n",
    "        self.logger.info(msg)\n",
    "        \n",
    "    def debug(self,\n",
    "            msg: str = \"\") -> None:\n",
    "        '''Writes debug information to file.\n",
    "        \n",
    "        Usage examples:\n",
    "            log = LogFile(\"<file.log>\")\n",
    "            log.debug(\"<str>\")\n",
    "        \n",
    "        Args:\n",
    "            msg: String to be printed to log file.\n",
    "        '''\n",
    "        self.logger.debug(msg)\n",
    "        \n",
    "    def error(self,\n",
    "            msg: str = \"\") -> None:\n",
    "        '''Writes error information to file.\n",
    "        \n",
    "        Usage examples:\n",
    "            log = LogFile(\"<file.log>\")\n",
    "            log.error(\"<str>\")\n",
    "        \n",
    "        Args:\n",
    "            msg: String to be printed to log file.\n",
    "        '''\n",
    "        self.logger.error(msg)\n",
    "        \n",
    "    def warning(self,\n",
    "            msg: str = \"\") -> None:\n",
    "        '''Writes warnings to file.\n",
    "        \n",
    "        Usage examples:\n",
    "            log = LogFile(\"<file.log>\")\n",
    "            log.warning(\"<str>\")\n",
    "        \n",
    "        Args:\n",
    "            msg: String to be printed to log file.\n",
    "        '''\n",
    "        self.logger.warning(msg)\n",
    "    \n",
    "    def log(self,\n",
    "        log_cmd: str = \"\"):\n",
    "        '''\n",
    "        Log function for logging commands and messages to some log file.\n",
    "        \n",
    "        Usage examples:\n",
    "            log = LogFile(\"<file.log>\")\n",
    "            log.log(\"<log_cmd>\")\n",
    "            \n",
    "        Args:\n",
    "            log_cmd: Message to be written to log file\n",
    "        '''\n",
    "\n",
    "        # Log command/message\n",
    "        self.info(log_cmd)"
   ]
  },
  {
   "cell_type": "code",
   "execution_count": 34,
   "metadata": {},
   "outputs": [
    {
     "data": {
      "text/plain": [
       "''"
      ]
     },
     "execution_count": 34,
     "metadata": {},
     "output_type": "execute_result"
    }
   ],
   "source": [
    "# Needs to be instantiated once and ONLY once\n",
    "# log = LogFile(\"sub-test.2.log\")\n",
    "log = LogFile(\"\"); log.file"
   ]
  },
  {
   "cell_type": "code",
   "execution_count": null,
   "metadata": {},
   "outputs": [],
   "source": []
  },
  {
   "cell_type": "code",
   "execution_count": 8,
   "metadata": {},
   "outputs": [],
   "source": [
    "class Command(object):\n",
    "    '''Creates a command and an empty command list for UNIX command line programs/applications. Primary use and\n",
    "    use-cases are intended for the subprocess module and its associated classes (i.e. Popen/call/run).\n",
    "    \n",
    "    Attributes (class and instance attributes):\n",
    "        command (instance): Command to be performed on the command line.\n",
    "        cmd_list (instance): Mutable list that can be appended to.\n",
    "    '''\n",
    "\n",
    "    def __init__(self,\n",
    "                 command: str) -> list:\n",
    "        '''Init doc-string for Command class. Initializes a command to be used on UNIX command line.\n",
    "        The input argument is a command (string), and a mutable list is returned (, that can later\n",
    "        be appended to).\n",
    "        \n",
    "        Usage example:\n",
    "            >>> echo = Command(\"echo\")\n",
    "            >>> echo.cmd_list.append(\"Hi!\")\n",
    "            >>> echo.cmd_list.append(\"I have arrived!\")\n",
    "        \n",
    "        Arguments:\n",
    "            command: Command to be used. Note: command used must be in system path\n",
    "        \n",
    "        Returns:\n",
    "            cmd_list: Mutable list that can be appended to.\n",
    "        '''\n",
    "        self.command = command\n",
    "        self.cmd_list = [f\"{self.command}\"]\n",
    "        \n",
    "    def check_dependency(self,\n",
    "                         err_msg: Optional[str] = None) -> Union[bool,None]:\n",
    "        '''Checks dependency of some command line executable. Should the \n",
    "        dependency not be met, then an exception is raised. Check the \n",
    "        system path should problems arise and ensure that the executable\n",
    "        of interest is installed.\n",
    "        \n",
    "        Usage example:\n",
    "            >>> figlet = Command(\"figlet\")\n",
    "            >>> figlet.check_dependency()   # Raises exception if not in system path\n",
    "        \n",
    "        Args:\n",
    "            err_msg: Error message to print to screen.\n",
    "\n",
    "        Returns:\n",
    "            Returns True if dependency is met.\n",
    "        \n",
    "        Raises:\n",
    "            DependencyError: Dependency error exception is raised if the dependency\n",
    "                is not met.\n",
    "        '''\n",
    "        if not shutil.which(self.command):\n",
    "            if err_msg:\n",
    "                print(f\"\\n \\t {err_msg} \\n\")\n",
    "            else:\n",
    "                print(f\"\\n \\t The required dependency {self.command} is not installed or in the system path. \\n\")\n",
    "            raise DependencyError(\"Command executable not found in system path.\")\n",
    "        else:\n",
    "            return True\n",
    "        \n",
    "    def run(self,\n",
    "            log: LogFile = \"\",\n",
    "            debug: bool = False,\n",
    "            dryrun: bool = False,\n",
    "            env: dict = {},\n",
    "            stdout: File = \"\",\n",
    "            shell: bool = False\n",
    "           ) -> Tuple[int,File,File]:\n",
    "        '''Uses python's built-in subprocess class to execute (run) a command from an input command list.\n",
    "        The standard output and error can optionally be written to file.\n",
    "        \n",
    "        NOTE: The contents of the 'stdout' output file will be empty if 'shell' is set to True.\n",
    "        \n",
    "        Usage example:\n",
    "            >>> # Create command and cmd_list\n",
    "            >>> echo = Command(\"echo\")\n",
    "            >>> echo.cmd_list.append(\"Hi!\")\n",
    "            >>> echo.cmd_list.append(\"I have arrived!\")\n",
    "            \n",
    "            >>> # Run/execute command\n",
    "            >>> echo.run()\n",
    "            (0, '', '')\n",
    "        \n",
    "        Args:\n",
    "            log: LogFile object\n",
    "            debug: Sets logging function verbosity to DEBUG level\n",
    "            dryrun: Dry run -- does not run task. Command is recorded to log file.\n",
    "            env: Dictionary of environment variables to add to subshell.\n",
    "            stdout: Output file to write standard output to.\n",
    "            shell: Use shell to execute command.\n",
    "            \n",
    "        Returns:\n",
    "            p.returncode: Return code for command execution should the 'log_file' option be used.\n",
    "            stdout: Standard output writtent to file should the 'stdout' option be used.\n",
    "            stderr: Standard error writtent to file should the 'stdout' option be used.\n",
    "        '''\n",
    "        \n",
    "        # Create command str for log\n",
    "        cmd: str = ' '.join(self.cmd_list) # Join list for logging purposes\n",
    "        \n",
    "        if log:\n",
    "            if debug:\n",
    "                log.debug(f\"Running: {cmd}\")\n",
    "            else:\n",
    "                log.info(f\"Running: {cmd}\")\n",
    "        \n",
    "        if log:\n",
    "            if dryrun:\n",
    "                log.info(\"Performing command as dryrun\")\n",
    "                return 0\n",
    "            else:\n",
    "                print(\"Performing command as dryrun\")\n",
    "                return 0\n",
    "        \n",
    "        # Define environment variables\n",
    "        merged_env: dict = os.environ\n",
    "        if env:\n",
    "            merged_env.update(env)\n",
    "        \n",
    "        # Execute/run command\n",
    "        p = subprocess.Popen(self.cmd_list,shell=shell,env=merged_env,\n",
    "                        stdout=subprocess.PIPE,stderr=subprocess.PIPE)\n",
    "\n",
    "        # Write log files\n",
    "        out,err = p.communicate()\n",
    "        out = out.decode('utf-8')\n",
    "        err = err.decode('utf-8')\n",
    "\n",
    "        # Write std output/error files\n",
    "        if stdout:\n",
    "            stderr: str = os.path.splitext(stdout)[0] + \".err\"\n",
    "                \n",
    "            stdout: File = File(stdout)\n",
    "            stderr: File = File(stderr)\n",
    "            \n",
    "            stdout.write_txt(out)\n",
    "            stderr.write_txt(err)\n",
    "        else:\n",
    "            stdout = None\n",
    "            stderr = None\n",
    "\n",
    "        if p.returncode:\n",
    "            if log:\n",
    "                log.error(f\"command: {cmd} \\n Failed with returncode {p.returncode}\")\n",
    "            else:\n",
    "                print(f\"command: {cmd} \\n Failed with returncode {p.returncode}\")\n",
    "\n",
    "        if len(out) > 0:\n",
    "            if log:\n",
    "                if debug:\n",
    "                    log.debug(out)\n",
    "                else:\n",
    "                    log.info(out)\n",
    "\n",
    "        if len(err) > 0:\n",
    "            if log:\n",
    "                if debug:\n",
    "                    log.info(err)\n",
    "                else:\n",
    "                    log.warning(err)\n",
    "            else:\n",
    "                print(f\"ERROR: {err}\")\n",
    "        return p.returncode,stdout,stderr"
   ]
  },
  {
   "cell_type": "code",
   "execution_count": null,
   "metadata": {},
   "outputs": [],
   "source": []
  },
  {
   "cell_type": "code",
   "execution_count": 9,
   "metadata": {},
   "outputs": [
    {
     "data": {
      "text/plain": [
       "True"
      ]
     },
     "execution_count": 9,
     "metadata": {},
     "output_type": "execute_result"
    }
   ],
   "source": [
    "figlet = Command(\"figlet\"); figlet.check_dependency()"
   ]
  },
  {
   "cell_type": "code",
   "execution_count": null,
   "metadata": {},
   "outputs": [],
   "source": []
  },
  {
   "cell_type": "code",
   "execution_count": null,
   "metadata": {},
   "outputs": [],
   "source": []
  },
  {
   "cell_type": "code",
   "execution_count": 13,
   "metadata": {},
   "outputs": [
    {
     "data": {
      "text/plain": [
       "str"
      ]
     },
     "execution_count": 13,
     "metadata": {},
     "output_type": "execute_result"
    }
   ],
   "source": []
  },
  {
   "cell_type": "code",
   "execution_count": 10,
   "metadata": {},
   "outputs": [],
   "source": [
    "fsl_math = Command(\"fslmaths\")"
   ]
  },
  {
   "cell_type": "code",
   "execution_count": 11,
   "metadata": {},
   "outputs": [],
   "source": [
    "fsl_math.cmd_list.append(\"-h\")"
   ]
  },
  {
   "cell_type": "code",
   "execution_count": 12,
   "metadata": {},
   "outputs": [
    {
     "data": {
      "text/plain": [
       "['fslmaths', '-h']"
      ]
     },
     "execution_count": 12,
     "metadata": {},
     "output_type": "execute_result"
    }
   ],
   "source": [
    "fsl_math.cmd_list"
   ]
  },
  {
   "cell_type": "code",
   "execution_count": 13,
   "metadata": {},
   "outputs": [
    {
     "data": {
      "text/plain": [
       "(0, None, None)"
      ]
     },
     "execution_count": 13,
     "metadata": {},
     "output_type": "execute_result"
    }
   ],
   "source": [
    "fsl_math.run()"
   ]
  },
  {
   "cell_type": "code",
   "execution_count": 120,
   "metadata": {},
   "outputs": [],
   "source": [
    "os.remove(\"sub-test.2.log\")"
   ]
  },
  {
   "cell_type": "code",
   "execution_count": 39,
   "metadata": {},
   "outputs": [],
   "source": [
    "fsl_math.check_dependency()"
   ]
  },
  {
   "cell_type": "code",
   "execution_count": 13,
   "metadata": {},
   "outputs": [],
   "source": [
    "fsl_val = Command(\"fslval\")"
   ]
  },
  {
   "cell_type": "code",
   "execution_count": 14,
   "metadata": {},
   "outputs": [
    {
     "name": "stderr",
     "output_type": "stream",
     "text": [
      "Running: fslval\n",
      "command: fslval \n",
      " Failed with returncode 1\n",
      "Usage: fslval <input> <keyword>\n",
      "\n"
     ]
    },
    {
     "data": {
      "text/plain": [
       "(1, None, None)"
      ]
     },
     "execution_count": 14,
     "metadata": {},
     "output_type": "execute_result"
    }
   ],
   "source": [
    "fsl_val.run()"
   ]
  },
  {
   "cell_type": "code",
   "execution_count": null,
   "metadata": {},
   "outputs": [],
   "source": []
  }
 ],
 "metadata": {
  "kernelspec": {
   "display_name": "Python 3",
   "language": "python",
   "name": "python3"
  },
  "language_info": {
   "codemirror_mode": {
    "name": "ipython",
    "version": 3
   },
   "file_extension": ".py",
   "mimetype": "text/x-python",
   "name": "python",
   "nbconvert_exporter": "python",
   "pygments_lexer": "ipython3",
   "version": "3.7.3"
  }
 },
 "nbformat": 4,
 "nbformat_minor": 2
}

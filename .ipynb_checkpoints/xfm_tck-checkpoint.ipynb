{
 "cells": [
  {
   "cell_type": "code",
   "execution_count": 1,
   "metadata": {},
   "outputs": [],
   "source": [
    "import subprocess\n",
    "import logging\n",
    "import os\n",
    "import numpy as np\n",
    "import random\n",
    "import shutil\n",
    "import platform\n",
    "import sys\n",
    "from typing import Union, List"
   ]
  },
  {
   "cell_type": "code",
   "execution_count": 103,
   "metadata": {},
   "outputs": [],
   "source": [
    "# Type hinting for custom/user-defined classes:\n",
    "# https://stackoverflow.com/questions/44664040/type-hints-with-user-defined-classes\n",
    "# https://stackoverflow.com/questions/33387042/type-hinting-argument-of-type-class\n",
    "# https://docs.python.org/3/library/typing.html\n",
    "# https://python-type-checking.readthedocs.io/en/latest/types.html\n",
    "# https://mypy.readthedocs.io/en/stable/cheat_sheet_py3.html"
   ]
  },
  {
   "cell_type": "code",
   "execution_count": 102,
   "metadata": {},
   "outputs": [],
   "source": [
    "class Command(object):\n",
    "    '''\n",
    "    Creates a command and an empty command list for UNIX command line programs/applications. Primary use and\n",
    "    use-cases are intended for the subprocess module and its associated classes (i.e. Popen/call/run).\n",
    "    \n",
    "    Attributes (class and instance attributes):\n",
    "        command (instance): Command to be performed on the command line.\n",
    "        cmd_list (instance): Mutable list that can be appended to.\n",
    "    \n",
    "    Modules/Packages required:\n",
    "        - os\n",
    "        - logging\n",
    "        - subprocess\n",
    "    '''\n",
    "\n",
    "    def __init__(self,\n",
    "                 command: str) -> list:\n",
    "        '''\n",
    "        Init doc-string for Command class. Initializes a command to be used on UNIX command line.\n",
    "        The input argument is a command (string), and a mutable list is returned (, that can later\n",
    "        be appended to).\n",
    "        \n",
    "        Usage:\n",
    "            echo = Command(\"echo\")\n",
    "            echo.cmd_list.append(\"Hi!\")\n",
    "            echo.cmd_list.append(\"I have arrived!\")\n",
    "        \n",
    "        Arguments:\n",
    "            command (string): Command to be used. Note: command used must be in system path\n",
    "        Returns:\n",
    "            cmd_list (list): Mutable list that can be appended to.\n",
    "        '''\n",
    "        self.command = command\n",
    "        self.cmd_list = [f\"{self.command}\"]\n",
    "        \n",
    "    def check_sys(self,\n",
    "                 err_msg: str):\n",
    "        '''doc-string'''\n",
    "        if not shutil.which(self.command):\n",
    "            print(\"\\n\")\n",
    "        \n",
    "    def log(self,\n",
    "            log_file: str = \"log_file.log\",\n",
    "            log_cmd: str = \"\"):\n",
    "        '''\n",
    "        Log function for logging commands and messages to some log file.\n",
    "        \n",
    "        Usage:\n",
    "            # Initialize the `log` function command\n",
    "            log_msg = Command(\"log\")\n",
    "            \n",
    "            # Specify output file and message\n",
    "            log_msg.log(\"sub.log\",\"test message 1\")\n",
    "            \n",
    "            # Record message, however - no need to re-initialize `log` funcion command or log output file\n",
    "            log_msg.log(\"test message 2\")\n",
    "        \n",
    "        NOTE: The input `log_file` only needs to be specified once. Once specified,\n",
    "            this log is written to each time this or the `run` function is invoked.\n",
    "        \n",
    "        Arguments:\n",
    "            log_file(file): Log file to be written to. \n",
    "            log_cmd(str): Message to be written to log file\n",
    "        '''\n",
    "        \n",
    "        # Set-up logging to file\n",
    "        logging.basicConfig(level=logging.INFO,\n",
    "                            format='%(asctime)s %(name)-12s %(levelname)-8s %(message)s',\n",
    "                            datefmt='%d-%m-%y %H:%M:%S',\n",
    "                            filename=log_file,\n",
    "                            filemode='a')\n",
    "        \n",
    "        # Define a Handler which writes INFO messages or higher to the sys.stderr\n",
    "        console = logging.StreamHandler()\n",
    "        console.setLevel(logging.INFO)\n",
    "        \n",
    "        # Add the handler to the root logger\n",
    "        logging.getLogger().addHandler(console)\n",
    "        \n",
    "        # Define logging\n",
    "        logger = logging.getLogger(__name__)\n",
    "        \n",
    "        # Log command/message\n",
    "        logger.info(f\"{log_cmd}\")\n",
    "        \n",
    "    def run(self,\n",
    "            log_file: str = \"\",\n",
    "            debug: bool = False,\n",
    "            dryrun: bool = False,\n",
    "            env: dict = {},\n",
    "            stdout: str = \"\",\n",
    "            shell: bool = False\n",
    "           ) -> Union[int,str,str,str]:\n",
    "        '''\n",
    "        Uses python's built-in subprocess class to execute (run) a command from an input command list.\n",
    "        The standard output and error can optionally be written to file.\n",
    "        \n",
    "        Usage:\n",
    "            echo.run() # This will return tuple (returncode,log,None,None), but will echo \"Hi!\" to screen.\n",
    "            \n",
    "        NOTE: \n",
    "            - The contents of the 'stdout' output file will be empty if 'shell' is set to True.\n",
    "            - Once the log file name 'log_file' has been set, that value is stored and cannot be changed.\n",
    "                - This log file will continue to be appended to for each invocation of this class.\n",
    "        Arguments:\n",
    "            log_file(file): Output log file name.\n",
    "            debug(bool): Sets logging function verbosity to DEBUG level\n",
    "            dryrun(bool): Dry run -- does not run task. Command is recorded to log file.\n",
    "            env(dict): Dictionary of environment variables to add to subshell.\n",
    "            stdout(file): Output file to write standard output to.\n",
    "            shell(bool): Use shell to execute command.\n",
    "        Returns:\n",
    "            p.returncode(int): Return code for command execution should the 'log_file' option be used.\n",
    "            log_file(file): Output log file with appended information should the 'log_file' option be used.\n",
    "            stdout(file): Standard output writtent to file should the 'stdout' option be used.\n",
    "            stderr(file): Standard error writtent to file should the 'stdout' option be used.\n",
    "        '''\n",
    "        \n",
    "        # Define logging\n",
    "        logger = logging.getLogger(__name__)\n",
    "        cmd = ' '.join(self.cmd_list) # Join list for logging purposes\n",
    "        \n",
    "        if debug:\n",
    "            logger.debug(f\"Running: {cmd}\")\n",
    "        else:\n",
    "            logger.info(f\"Running: {cmd}\")\n",
    "        \n",
    "        if dryrun:\n",
    "            logger.info(\"Performing command as dryrun\")\n",
    "            return 0\n",
    "        \n",
    "        # Define environment variables\n",
    "        merged_env = os.environ\n",
    "        if env:\n",
    "            merged_env.update(env)\n",
    "        \n",
    "        # Execute/run command\n",
    "        p = subprocess.Popen(self.cmd_list,shell=shell,env=merged_env,\n",
    "                        stdout=subprocess.PIPE,stderr=subprocess.PIPE)\n",
    "\n",
    "        # Write log files\n",
    "        out,err = p.communicate()\n",
    "        out = out.decode('utf-8')\n",
    "        err = err.decode('utf-8')\n",
    "\n",
    "        # Write std output/error files\n",
    "        if stdout:\n",
    "            stderr = os.path.splitext(stdout)[0] + \".err\"\n",
    "            with open(stdout,\"w\") as f_out:\n",
    "                with open(stderr,\"w\") as f_err:\n",
    "                    f_out.write(out)\n",
    "                    f_err.write(err)\n",
    "                    f_out.close(); f_err.close()\n",
    "        else:\n",
    "            stdout = None\n",
    "            stderr = None\n",
    "\n",
    "        if p.returncode:\n",
    "            logger.error(f\"command: {cmd} \\n Failed with returncode {p.returncode}\")\n",
    "\n",
    "        if len(out) > 0:\n",
    "            if debug:\n",
    "                logger.debug(out)\n",
    "            else:\n",
    "                logger.info(out)\n",
    "\n",
    "        if len(err) > 0:\n",
    "            if debug:\n",
    "                logger.info(err)\n",
    "            else:\n",
    "                logger.warning(err)\n",
    "        return p.returncode,log_file,stdout,stderr"
   ]
  },
  {
   "cell_type": "code",
   "execution_count": 3,
   "metadata": {},
   "outputs": [],
   "source": [
    "class File(object):\n",
    "    '''\n",
    "    class description\n",
    "    '''\n",
    "    \n",
    "    file = \"\"\n",
    "    \n",
    "    def __init__(self,\n",
    "                 file: str):\n",
    "        self.file = file\n",
    "        \n",
    "    def abs_path(self) -> str:\n",
    "        '''doc-string'''\n",
    "        if os.path.exists(self.file):\n",
    "            return os.path.abspath(self.file)\n",
    "        else:\n",
    "            with open(self.file,'w') as tmp_file:\n",
    "                pass\n",
    "            file_path = os.path.abspath(self.file)\n",
    "            os.remove(self.file)\n",
    "            return file_path\n",
    "    \n",
    "    def rm_ext(self,\n",
    "              ext: str = \"\") -> str:\n",
    "        '''doc-string'''\n",
    "        self.ext = ext\n",
    "        if self.ext is None:\n",
    "            return self.file[:-(4)]\n",
    "        else:\n",
    "            ext_num = len(self.ext)\n",
    "            return self.file[:-(ext_num)]"
   ]
  },
  {
   "cell_type": "code",
   "execution_count": 93,
   "metadata": {},
   "outputs": [],
   "source": [
    "class TmpDir(object):\n",
    "    '''\n",
    "    class description\n",
    "    '''\n",
    "    \n",
    "    # Set parent tmp directory, as tmp_dir is overwritten\n",
    "    tmp_dir = \"\"\n",
    "    parent_tmp_dir = \"\"\n",
    "    \n",
    "    def __init__(self,\n",
    "                tmp_dir: str,\n",
    "                use_cwd: bool = False):\n",
    "        '''init doc-string'''\n",
    "        _n = 10000 # maximum N for random number generator\n",
    "        tmp_dir = os.path.join(tmp_dir,'tmp_dir_' + \n",
    "                               str(random.randint(0,_n)))\n",
    "        self.tmp_dir = tmp_dir\n",
    "        self.parent_tmp_dir = os.path.dirname(self.tmp_dir)\n",
    "        if use_cwd:\n",
    "            _cwd = os.getcwd()\n",
    "            self.tmp_dir = os.path.join(_cwd,self.tmp_dir)\n",
    "            self.parent_tmp_dir = os.path.dirname(self.tmp_dir)\n",
    "        \n",
    "    def mk_tmp_dir(self):\n",
    "        '''doc-string'''\n",
    "        if not os.path.exists(self.tmp_dir):\n",
    "            return os.makedirs(self.tmp_dir)\n",
    "        else:\n",
    "            print(\"Temporary directory already exists\")\n",
    "        \n",
    "    def rm_tmp_dir(self,\n",
    "                  rm_parent: bool = False):\n",
    "        '''doc-string'''\n",
    "        if rm_parent and os.path.exists(self.parent_tmp_dir):\n",
    "            return shutil.rmtree(self.parent_tmp_dir)\n",
    "        elif os.path.exists(self.tmp_dir):\n",
    "            return shutil.rmtree(self.tmp_dir)\n",
    "        else:\n",
    "            print(\"Temporary directory does not exist\")\n",
    "    \n",
    "    class TmpFile(File):\n",
    "        '''\n",
    "        class description - make this a child class of TmpDir\n",
    "        '''\n",
    "        \n",
    "        tmp_file = \"\"\n",
    "\n",
    "        def __init__(self,\n",
    "                    tmp_file: str):\n",
    "            File.__init__(self,tmp_file)"
   ]
  },
  {
   "cell_type": "code",
   "execution_count": 28,
   "metadata": {},
   "outputs": [],
   "source": [
    "d = \"tmp_dir.test\""
   ]
  },
  {
   "cell_type": "code",
   "execution_count": 95,
   "metadata": {},
   "outputs": [],
   "source": [
    "d_tmp = TmpDir(d,True)"
   ]
  },
  {
   "cell_type": "code",
   "execution_count": 96,
   "metadata": {},
   "outputs": [
    {
     "data": {
      "text/plain": [
       "'/mnt/c/Users/smart/Desktop/IRC317H_NAS/dti/data.dti/xfm_tck/tmp_dir.test/tmp_dir_6103'"
      ]
     },
     "execution_count": 96,
     "metadata": {},
     "output_type": "execute_result"
    }
   ],
   "source": [
    "d_tmp.tmp_dir"
   ]
  },
  {
   "cell_type": "code",
   "execution_count": 97,
   "metadata": {},
   "outputs": [
    {
     "data": {
      "text/plain": [
       "'/mnt/c/Users/smart/Desktop/IRC317H_NAS/dti/data.dti/xfm_tck/tmp_dir.test'"
      ]
     },
     "execution_count": 97,
     "metadata": {},
     "output_type": "execute_result"
    }
   ],
   "source": [
    "d_tmp.parent_tmp_dir"
   ]
  },
  {
   "cell_type": "code",
   "execution_count": 99,
   "metadata": {},
   "outputs": [
    {
     "name": "stdout",
     "output_type": "stream",
     "text": [
      "Temporary directory already exists\n"
     ]
    }
   ],
   "source": [
    "d_tmp.mk_tmp_dir()"
   ]
  },
  {
   "cell_type": "code",
   "execution_count": 101,
   "metadata": {},
   "outputs": [
    {
     "name": "stdout",
     "output_type": "stream",
     "text": [
      "Temporary directory does not exist\n"
     ]
    }
   ],
   "source": [
    "d_tmp.rm_tmp_dir(True)"
   ]
  },
  {
   "cell_type": "code",
   "execution_count": null,
   "metadata": {},
   "outputs": [],
   "source": []
  },
  {
   "cell_type": "code",
   "execution_count": 141,
   "metadata": {},
   "outputs": [],
   "source": [
    "class NiiFile(File):\n",
    "    '''\n",
    "    class description\n",
    "    '''\n",
    "    def __init__(self,file: str):\n",
    "        File.__init__(self,file)\n",
    "    \n",
    "    def rm_ext(self):\n",
    "        '''\n",
    "        Intended for use-cases pertaining to NIFTI files.\n",
    "        '''\n",
    "        if '.nii.gz' in self.file:\n",
    "            return self.file[:-7]\n",
    "        elif '.nii' in self.file:\n",
    "            return self.file[:-4]\n",
    "        else:\n",
    "            return self.file"
   ]
  },
  {
   "cell_type": "code",
   "execution_count": 13,
   "metadata": {},
   "outputs": [],
   "source": [
    "def test(t: dict={}):\n",
    "    pass"
   ]
  },
  {
   "cell_type": "code",
   "execution_count": 26,
   "metadata": {},
   "outputs": [
    {
     "data": {
      "text/plain": [
       "4"
      ]
     },
     "execution_count": 26,
     "metadata": {},
     "output_type": "execute_result"
    }
   ],
   "source": [
    "f = \".txt\"\n",
    "len(f)"
   ]
  },
  {
   "cell_type": "code",
   "execution_count": 34,
   "metadata": {},
   "outputs": [],
   "source": [
    "f = \"../sub-C01/ses-001/dwi/bval-b2000_run-01/sub-C01_ses-001_bval-b2000_run-01_dwi.nii.gz\""
   ]
  },
  {
   "cell_type": "code",
   "execution_count": 128,
   "metadata": {},
   "outputs": [],
   "source": [
    "dwi = File(f)"
   ]
  },
  {
   "cell_type": "code",
   "execution_count": 131,
   "metadata": {},
   "outputs": [
    {
     "ename": "TypeError",
     "evalue": "'File' object is not callable",
     "output_type": "error",
     "traceback": [
      "\u001b[0;31m---------------------------------------------------------------------------\u001b[0m",
      "\u001b[0;31mTypeError\u001b[0m                                 Traceback (most recent call last)",
      "\u001b[0;32m<ipython-input-131-2601f50ceb9d>\u001b[0m in \u001b[0;36m<module>\u001b[0;34m\u001b[0m\n\u001b[0;32m----> 1\u001b[0;31m \u001b[0mdwi\u001b[0m\u001b[0;34m(\u001b[0m\u001b[0;34m)\u001b[0m\u001b[0;34m\u001b[0m\u001b[0;34m\u001b[0m\u001b[0m\n\u001b[0m",
      "\u001b[0;31mTypeError\u001b[0m: 'File' object is not callable"
     ]
    }
   ],
   "source": [
    "dwi()"
   ]
  },
  {
   "cell_type": "code",
   "execution_count": 129,
   "metadata": {},
   "outputs": [
    {
     "data": {
      "text/plain": [
       "'/mnt/c/Users/smart/Desktop/IRC317H_NAS/dti/data.dti/sub-C01/ses-001/dwi/bval-b2000_run-01/sub-C01_ses-001_bval-b2000_run-01_dwi.nii.gz'"
      ]
     },
     "execution_count": 129,
     "metadata": {},
     "output_type": "execute_result"
    }
   ],
   "source": [
    "dwi.abs_path()"
   ]
  },
  {
   "cell_type": "code",
   "execution_count": 133,
   "metadata": {},
   "outputs": [
    {
     "data": {
      "text/plain": [
       "'../sub-C01/ses-001/dwi/bval-b2000_run-01/sub-C01_ses-001_bval-b2000_run-01_dwi'"
      ]
     },
     "execution_count": 133,
     "metadata": {},
     "output_type": "execute_result"
    }
   ],
   "source": [
    "dwi.rm_ext('.nii.gz')"
   ]
  },
  {
   "cell_type": "code",
   "execution_count": null,
   "metadata": {},
   "outputs": [],
   "source": [
    "'.nii.gz' in dwi"
   ]
  },
  {
   "cell_type": "code",
   "execution_count": null,
   "metadata": {},
   "outputs": [],
   "source": []
  },
  {
   "cell_type": "code",
   "execution_count": 142,
   "metadata": {},
   "outputs": [],
   "source": [
    "dwi = NiiFile(f)"
   ]
  },
  {
   "cell_type": "code",
   "execution_count": 143,
   "metadata": {},
   "outputs": [
    {
     "data": {
      "text/plain": [
       "__main__.NiiFile"
      ]
     },
     "execution_count": 143,
     "metadata": {},
     "output_type": "execute_result"
    }
   ],
   "source": [
    "type(dwi)"
   ]
  },
  {
   "cell_type": "code",
   "execution_count": 144,
   "metadata": {},
   "outputs": [
    {
     "data": {
      "text/plain": [
       "'/mnt/c/Users/smart/Desktop/IRC317H_NAS/dti/data.dti/sub-C01/ses-001/dwi/bval-b2000_run-01/sub-C01_ses-001_bval-b2000_run-01_dwi.nii.gz'"
      ]
     },
     "execution_count": 144,
     "metadata": {},
     "output_type": "execute_result"
    }
   ],
   "source": [
    "dwi.abs_path()"
   ]
  },
  {
   "cell_type": "code",
   "execution_count": 145,
   "metadata": {},
   "outputs": [
    {
     "data": {
      "text/plain": [
       "'../sub-C01/ses-001/dwi/bval-b2000_run-01/sub-C01_ses-001_bval-b2000_run-01_dwi'"
      ]
     },
     "execution_count": 145,
     "metadata": {},
     "output_type": "execute_result"
    }
   ],
   "source": [
    "dwi.rm_ext()"
   ]
  },
  {
   "cell_type": "code",
   "execution_count": 147,
   "metadata": {},
   "outputs": [
    {
     "data": {
      "text/plain": [
       "'../sub-C01/ses-001/dwi/bval-b2000_run-01/sub-C01_ses-001_bval-b2000_run-01_dwi.nii.gz'"
      ]
     },
     "execution_count": 147,
     "metadata": {},
     "output_type": "execute_result"
    }
   ],
   "source": [
    "dwi.file"
   ]
  },
  {
   "cell_type": "code",
   "execution_count": 163,
   "metadata": {},
   "outputs": [],
   "source": [
    "t = File(\"test.txt\")"
   ]
  },
  {
   "cell_type": "code",
   "execution_count": 164,
   "metadata": {},
   "outputs": [
    {
     "data": {
      "text/plain": [
       "'/mnt/c/Users/smart/Desktop/IRC317H_NAS/dti/data.dti/xfm_tck/test.txt'"
      ]
     },
     "execution_count": 164,
     "metadata": {},
     "output_type": "execute_result"
    }
   ],
   "source": [
    "t.abs_path()"
   ]
  },
  {
   "cell_type": "code",
   "execution_count": null,
   "metadata": {},
   "outputs": [],
   "source": []
  }
 ],
 "metadata": {
  "kernelspec": {
   "display_name": "Python 3",
   "language": "python",
   "name": "python3"
  },
  "language_info": {
   "codemirror_mode": {
    "name": "ipython",
    "version": 3
   },
   "file_extension": ".py",
   "mimetype": "text/x-python",
   "name": "python",
   "nbconvert_exporter": "python",
   "pygments_lexer": "ipython3",
   "version": "3.7.3"
  }
 },
 "nbformat": 4,
 "nbformat_minor": 2
}

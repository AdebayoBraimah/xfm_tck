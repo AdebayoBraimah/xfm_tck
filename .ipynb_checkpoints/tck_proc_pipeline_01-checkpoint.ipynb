{
 "cells": [
  {
   "cell_type": "code",
   "execution_count": 6,
   "metadata": {},
   "outputs": [],
   "source": [
    "# Import modules/packages\n",
    "import os\n",
    "import numpy as np\n",
    "\n",
    "# Import third-party modules/packages\n",
    "import utils\n",
    "from utils import File, Command"
   ]
  },
  {
   "cell_type": "code",
   "execution_count": 2,
   "metadata": {},
   "outputs": [],
   "source": [
    "class ReconMRtrix (object):\n",
    "    '''class doc-string'''\n",
    "    \n",
    "    def __init__(self):\n",
    "        '''doc-string'''\n",
    "        \n",
    "    class Mif(utils.File):\n",
    "        '''class doc-string'''\n",
    "        \n",
    "        def __init__(self,file):\n",
    "            '''doc-string'''\n",
    "            self.file = file\n",
    "            File.__init__(self,self.file)\n",
    "    \n",
    "    def nifti_to_mif(nii_file,bval,bvec,json_file=\"\"):\n",
    "        '''doc-string'''\n",
    "    \n",
    "    def estimate_response(mif,method=\"dhollander\"):\n",
    "        '''doc-string'''\n",
    "    \n",
    "    def mr_upsample(mif,output):\n",
    "        '''doc-string'''\n",
    "    \n",
    "    def create_mask(mif,frac_int):\n",
    "        '''doc-string'''\n",
    "        \n",
    "    def ss3t_csd(mif,mask,wm_res,gm_res,csf_res):\n",
    "        '''doc-string'''\n",
    "    \n",
    "    def bias_field_correction(wm_fod,gm,csf,mask):\n",
    "        '''doc-string'''\n",
    "    \n",
    "    def compute_dec_map(wm_fod,mask):\n",
    "        '''doc-string'''\n",
    "    \n",
    "    def mr_trk_global(wm_fod,mask,stream_lines, cutoff):\n",
    "        '''doc-string'''\n",
    "    \n",
    "    # write visualization functions later"
   ]
  },
  {
   "cell_type": "code",
   "execution_count": 3,
   "metadata": {},
   "outputs": [],
   "source": [
    "class DTKrecon(object):\n",
    "    '''class doc-string'''\n",
    "    \n",
    "    def __init__(self):\n",
    "        '''doc-string'''\n",
    "    \n",
    "    def dti_fit(dwi,mask,bvec,bval,threshold):\n",
    "        '''doc-string'''\n",
    "    \n",
    "    def create_mask(dwi,bval):\n",
    "        '''doc-string'''\n",
    "    \n",
    "    def extract_b0s(dwi,bval):\n",
    "        '''doc-string'''\n",
    "        # DWIxfm.extract_b0s\n",
    "    \n",
    "    def dti_recon(dwi,mask,threshold):\n",
    "        '''doc-string'''\n",
    "    \n",
    "    # write visualization functions later"
   ]
  },
  {
   "cell_type": "code",
   "execution_count": 4,
   "metadata": {},
   "outputs": [],
   "source": [
    "class DWIxfm(object):\n",
    "    '''class doc-string'''\n",
    "    \n",
    "    def __init__(self):\n",
    "        '''doc-string'''\n",
    "    \n",
    "    def extract_b0s(dwi,bval):\n",
    "        '''doc-string'''\n",
    "    \n",
    "    def create_mask(dwi,bval):\n",
    "        '''doc-string'''\n",
    "    \n",
    "    def compute_linear_xfm(dwi,template,dof):\n",
    "        '''doc-string'''\n",
    "    \n",
    "    def compute_non_linear_xfm():\n",
    "        '''doc-string'''\n",
    "    \n",
    "    def compute_combined_xfm():\n",
    "        '''doc-string:\n",
    "        computes combined linear and non-linear transform.'''\n",
    "    \n",
    "    def applywarp():\n",
    "        '''doc-string'''"
   ]
  },
  {
   "cell_type": "code",
   "execution_count": 7,
   "metadata": {},
   "outputs": [],
   "source": [
    "def test(file: File):\n",
    "    pass"
   ]
  },
  {
   "cell_type": "code",
   "execution_count": null,
   "metadata": {},
   "outputs": [],
   "source": [
    "utils."
   ]
  }
 ],
 "metadata": {
  "kernelspec": {
   "display_name": "Python 3",
   "language": "python",
   "name": "python3"
  },
  "language_info": {
   "codemirror_mode": {
    "name": "ipython",
    "version": 3
   },
   "file_extension": ".py",
   "mimetype": "text/x-python",
   "name": "python",
   "nbconvert_exporter": "python",
   "pygments_lexer": "ipython3",
   "version": "3.7.3"
  }
 },
 "nbformat": 4,
 "nbformat_minor": 2
}

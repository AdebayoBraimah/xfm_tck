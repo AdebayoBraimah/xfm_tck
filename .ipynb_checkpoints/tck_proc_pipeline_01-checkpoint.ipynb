{
 "cells": [
  {
   "cell_type": "code",
   "execution_count": 1,
   "metadata": {},
   "outputs": [],
   "source": [
    "# Import modules/packages\n",
    "import os\n",
    "import numpy as np\n",
    "from shutil import copyfile, copy\n",
    "\n",
    "# Import third-party modules/packages\n",
    "# import utils\n",
    "from utils import File, Command, NiiFile, LogFile, TmpDir, DependencyError\n",
    "from typing import Optional, Union, Tuple"
   ]
  },
  {
   "cell_type": "code",
   "execution_count": 51,
   "metadata": {},
   "outputs": [],
   "source": [
    "# scripts_dir = os.path.realpath(__file__)\n",
    "scripts_dir = os.getcwd()"
   ]
  },
  {
   "cell_type": "code",
   "execution_count": 53,
   "metadata": {},
   "outputs": [],
   "source": [
    "class ReconMRtrix (object):\n",
    "    '''Class that contains the associated wrapper functions for performing\n",
    "    tractography using MRtrix v3.x.\n",
    "    \n",
    "    Attributes:\n",
    "        *\n",
    "    '''\n",
    "    \n",
    "    nii_file: NiiFile = \"\"\n",
    "    bval: File = \"\"\n",
    "    bvec: File = \"\"\n",
    "    json_file: File = \"\"\n",
    "    log: LogFile = \"\"\n",
    "    \n",
    "    def __init__(self,\n",
    "                 nii_file: str,\n",
    "                 bval: str,\n",
    "                 bvec: str,\n",
    "                 json_file: str = \"\",\n",
    "                 log: str = \"\") -> None:\n",
    "        '''Init doc string for ReconMRtrix class.\n",
    "        \n",
    "        Usage example:\n",
    "            >>> dwi_obj = ReconMRtrix(\"file.nii\",\n",
    "            >>>                       \"file.bval\",\n",
    "            >>>                       \"file.bvec\",\n",
    "            >>>                       \"file.json\",\n",
    "            >>>                       \"file.log\")\n",
    "            >>> dwi_obj.file\n",
    "            \"file.nii\"\n",
    "        \n",
    "        Args:\n",
    "            nii_file: Input file path to DWI NIFTI file.\n",
    "            bval: Input file path to corresponding bval file.\n",
    "            bvec: Input file path to corresponding bvec file.\n",
    "            json_file: Input file path to corresponding JSON (sidecar) file.\n",
    "            log: Log filename for output log file (, need not exist at runtime).\n",
    "        '''\n",
    "        self.nii_file: str = nii_file\n",
    "        self.bval: str = bval\n",
    "        self.bvec: str = bvec\n",
    "        \n",
    "        self.nii_file = NiiFile(self.nii_file)\n",
    "        self.bval = File(self.bval)\n",
    "        self.bvec = File(self.bvec)\n",
    "        \n",
    "        if json_file:\n",
    "            self.json_file: str = json_file\n",
    "            self.json_file = File(self.json_file)\n",
    "        else:\n",
    "            self.json_file = \"\"\n",
    "            self.json_file = File(self.json_file)\n",
    "            \n",
    "        if log:\n",
    "            self.log: str = log\n",
    "            self.log = LogFile(self.log)\n",
    "        else:\n",
    "            self.log: str = \"\"\n",
    "            self.log = LogFile(self.log)\n",
    "        \n",
    "    class Mif(File):\n",
    "        '''Creates MIF files for use with MRtrix executables. Inherits \n",
    "        methods and properties from the File class.\n",
    "        \n",
    "        Attributes:\n",
    "            * \n",
    "        '''\n",
    "        \n",
    "        def __init__(self,\n",
    "                     file: File,\n",
    "                     gzip: bool = False) -> None:\n",
    "            '''Init doc string for Mif class. Inherits methods and properties\n",
    "            from the File class. The MIF file can also be gzipped if desired.\n",
    "            \n",
    "            Usage example:\n",
    "                >>> dwi_obj = ReconMRtrix(\"file.nii\",\n",
    "                >>>                       \"file.bval\",\n",
    "                >>>                       \"file.bvec\",\n",
    "                >>>                       \"file.json\",\n",
    "                >>>                       \"file.log\")\n",
    "                >>> dwi_obj.Mif(dwi_obj.file)\n",
    "                >>> dwi_obj.Mif.file\n",
    "                >>> \"file.mif\"\n",
    "                >>>\n",
    "                >>> # To gzip the MIF file\n",
    "                >>> dwi_obj.Mif(dwi_obj.file,gzip=True)\n",
    "            \n",
    "            Args:\n",
    "                file: Input filename of MIF file (need not exist).\n",
    "                gzip: Gzips output MIF file\n",
    "            '''\n",
    "            self.file = file\n",
    "            \n",
    "            if '.gz' in self.file:\n",
    "                if gzip:\n",
    "                    self.ext: str = self.file[-(7):]\n",
    "                    self.file = self.file[:-(7)] + \".mif.gz\"\n",
    "                else:\n",
    "                    self.ext: str = self.file[-(7):]\n",
    "                    self.file = self.file[:-(7)] + \".mif\"\n",
    "            else:\n",
    "                if gzip:\n",
    "                    self.ext: str = self.file[-(4):]\n",
    "                    self.file = self.file[:-(4)] + \".mif.gz\"\n",
    "                else:\n",
    "                    self.ext: str = self.file[-(4):]\n",
    "                    self.file = self.file[:-(4)] + \".mif\"\n",
    "            File.__init__(self,self.file,self.ext)\n",
    "    \n",
    "    def nifti_to_mif(self,\n",
    "                     force: bool = False,\n",
    "                     gzip: bool = False) -> Mif:\n",
    "        '''Converts DWI NIFTI file and its associated files to MIF files.\n",
    "        \n",
    "        Usage example:\n",
    "            >>> dwi_obj = ReconMRtrix(\"file.nii\",\n",
    "            >>>                       \"file.bval\",\n",
    "            >>>                       \"file.bvec\",\n",
    "            >>>                       \"file.json\",\n",
    "            >>>                       \"file.log\")\n",
    "            >>> dwi_obj.nifti_to_mif()\n",
    "            >>> Mif\n",
    "        \n",
    "        Args:\n",
    "            force: Force overwrite of existing MIF file.\n",
    "            gzip: Gzip output MIF file.\n",
    "        \n",
    "        Returns:\n",
    "            mif_file: Mif file object.\n",
    "        '''\n",
    "        mif_file: str = self.nii_file.abs_path()\n",
    "        mif_file: Mif = self.Mif(mif_file,gzip=gzip)\n",
    "        \n",
    "        mr_convert = Command(\"mrconvert\")\n",
    "        if force:\n",
    "            mr_convert.cmd_list.append(\"-force\")\n",
    "        if self.json_file:\n",
    "            mr_convert.cmd_list.append(\"-json_import\")\n",
    "            mr_convert.cmd_list.append(self.json_file.file)\n",
    "        mr_convert.cmd_list.append(\"-fslgrad\")\n",
    "        mr_convert.cmd_list.append(f\"{self.bvec.file}\")\n",
    "        mr_convert.cmd_list.append(f\"{self.bval.file}\")\n",
    "        mr_convert.cmd_list.append(f\"{self.nii_file.file}\")\n",
    "        mr_convert.cmd_list.append(f\"{mif_file.file}\")\n",
    "        \n",
    "        mr_convert.run(self.log)\n",
    "        return mif_file\n",
    "    \n",
    "    def estimate_response(self,\n",
    "                          mif: Mif,\n",
    "                          method: str = \"dhollander\",\n",
    "                          force: bool = False,\n",
    "                          gzip: bool = False) -> Tuple[File,File,File]:\n",
    "        '''doc-string\n",
    "        Todo:\n",
    "            * function returns should be File objects, not strs\n",
    "        '''\n",
    "        [path, filename, ext] = self.nii_file.file_parts()\n",
    "        \n",
    "        wm_res: str = os.path.join(path,filename + \"_response_wm.txt\")\n",
    "        gm_res: str = os.path.join(path,filename + \"_response_gm.txt\")\n",
    "        csf_res: str = os.path.join(path,filename + \"_response_csf.txt\")\n",
    "            \n",
    "        wm_res: File = File(wm_res)\n",
    "        gm_res: File = File(gm_res)\n",
    "        csf_res: File = File(csf_res)\n",
    "        \n",
    "        dwi_response = Command(\"dwi2response\")\n",
    "        if force:\n",
    "            dwi_response.cmd_list.append(\"-force\")\n",
    "        dwi_response.cmd_list.append(method)\n",
    "        dwi_response.cmd_list.append(mif.file)\n",
    "        dwi_response.cmd_list.append(wm_res.file)\n",
    "        dwi_response.cmd_list.append(gm_res.file)\n",
    "        dwi_response.cmd_list.append(csf_res.file)\n",
    "        \n",
    "        dwi_response.run(self.log)\n",
    "        \n",
    "        return wm_res, gm_res, csf_res\n",
    "    \n",
    "    def mr_upsample(self,\n",
    "                    mif: Mif,\n",
    "                    vox: float,\n",
    "                    gzip: bool = False) -> Mif:\n",
    "        '''doc-string'''\n",
    "        [path, filename, _ext] = self.nii_file.file_parts()\n",
    "        [_path, _filename, ext] = mif.file_parts() # Keep original file extension\n",
    "        \n",
    "        if \".gz\" in mif.file:\n",
    "            gzip = True\n",
    "        \n",
    "        filename = filename + \"_upsampled\"\n",
    "        upsampled_mif = os.path.join(path,filename + ext)\n",
    "        upsampled_mif: Mif = self.Mif(upsampled_mif,gzip=gzip)\n",
    "        \n",
    "        try:\n",
    "            upsample = Command(\"mrresize\")\n",
    "            upsample.cmd_list.append(mif.file)\n",
    "            upsample.cmd_list.append(\"-vox\")\n",
    "            upsample.cmd_list.append(f\"{vox}\")\n",
    "            upsample.cmd_list.append(upsampled_mif.file)\n",
    "\n",
    "            upsample.check_dependency()\n",
    "            upsample.run(self.log)\n",
    "            return upsampled_mif\n",
    "        except DependencyError:\n",
    "            upsample = Command(\"mrgrid\") \n",
    "            upsample.cmd_list.append(mif.file)\n",
    "            upsample.cmd_list.append(\"regrid\")\n",
    "            upsample.cmd_list.append(upsampled_mif.file)\n",
    "            upsample.cmd_list.append(\"-voxel\")\n",
    "            upsample.cmd_list.append(f\"{vox}\")\n",
    "            \n",
    "            upsample.check_dependency()\n",
    "            upsample.run(self.log)\n",
    "            return upsampled_mif\n",
    "    \n",
    "    def create_mask(self,\n",
    "                    mif: Mif,\n",
    "                    frac_int: float = 0.5,\n",
    "                    gzip: bool = False,\n",
    "                    cleanup: bool = True) -> Mif:\n",
    "        '''doc-string'''\n",
    "        [path, _filename, _ext] = self.nii_file.file_parts()\n",
    "        [_path, filename, ext] = mif.file_parts() # Keep original file extension\n",
    "        \n",
    "        if \".gz\" in mif.file:\n",
    "            gzip = True\n",
    "        \n",
    "        filename = filename + \"_mask\"\n",
    "        mask_mif = os.path.join(path,filename + ext)\n",
    "        mask_mif: Mif = self.Mif(mask_mif,gzip=gzip)\n",
    "            \n",
    "        # Create temporary directory\n",
    "        work_dir: TmpDir = TmpDir(tmp_dir=path,use_cwd=False)\n",
    "        work_dir.mk_tmp_dir()\n",
    "        \n",
    "        tmp_b0s: TmpFile = work_dir.TmpFile(tmp_file=\"tmp_B0s\" + _ext,\n",
    "                                            tmp_dir=work_dir.tmp_dir)\n",
    "        \n",
    "        tmp_b0: TmpFile = work_dir.TmpFile(tmp_file=\"tmp_B0\" + _ext,\n",
    "                                           tmp_dir=work_dir.tmp_dir)\n",
    "        \n",
    "        tmp_mask: TmpFile = work_dir.TmpFile(tmp_file=tmp_b0.rm_ext(ext=_ext) + \n",
    "                                             _ext,\n",
    "                                             tmp_dir=work_dir.tmp_dir)\n",
    "        \n",
    "        # Extract B0s\n",
    "        extract_b0s = Command(\"dwiextract\")\n",
    "        extract_b0s.cmd_list.append(\"-bzero\")\n",
    "        extract_b0s.cmd_list.append(mif.file)\n",
    "        extract_b0s.cmd_list.append(tmp_b0s.file)\n",
    "        extract_b0s.run(self.log)\n",
    "        \n",
    "        # Merge B0s, by obtaining mean of images\n",
    "        merge_b0s = Command(\"fslmaths\")\n",
    "        merge_b0s.cmd_list.append(tmp_b0s.file)\n",
    "        merge_b0s.cmd_list.append(\"-Tmean\")\n",
    "        merge_b0s.cmd_list.append(tmp_b0.file)\n",
    "        merge_b0s.run(self.log)\n",
    "        \n",
    "        # Create brain mask\n",
    "        bet = Command(\"bet\")\n",
    "        bet.cmd_list.append(tmp_b0.file)\n",
    "        bet.cmd_list.append(tmp_mask.file)\n",
    "        bet.cmd_list.append(\"-R\")\n",
    "        bet.cmd_list.append(\"-m\")\n",
    "        bet.cmd_list.append(\"-f\")\n",
    "        bet.cmd_list.append(f\"{frac_int}\")\n",
    "        bet.run(self.log)\n",
    "        \n",
    "        # Convert NIFTI to MIF\n",
    "        mr_convert = Command(\"mrconvert\")\n",
    "        mr_convert.cmd_list.append(tmp_mask.file)\n",
    "        mr_convert.cmd_list.append(mask_mif.file)\n",
    "        mr_convert.run(self.log)\n",
    "        \n",
    "        # Clean-up\n",
    "        if cleanup:\n",
    "            work_dir.rm_tmp_dir(rm_parent=False)\n",
    "        return mask_mif\n",
    "        \n",
    "    def ss3t_csd(self,\n",
    "                 mif: Mif,\n",
    "                 mask: Mif,\n",
    "                 wm_res: File,\n",
    "                 gm_res: File,\n",
    "                 csf_res: File,\n",
    "                 gzip: bool = False) -> Tuple[Mif,Mif,Mif]:\n",
    "        '''doc-string'''\n",
    "        [path, _filename, _ext] = self.nii_file.file_parts()\n",
    "        [_path, filename, ext] = mif.file_parts() # Keep original file extension\n",
    "        \n",
    "        if \".gz\" in mif.file:\n",
    "            gzip = True\n",
    "        \n",
    "        wm_fod = filename + \"_wm_fod\"\n",
    "        gm_tis = filename + \"_gm_tis\"\n",
    "        csf_tis = filename + \"_csf_tis\"\n",
    "        \n",
    "        wm_fod: str = os.path.join(path,wm_fod + ext)\n",
    "        gm_tis: str = os.path.join(path,gm_tis + ext)\n",
    "        csf_tis: str = os.path.join(path,csf_tis + ext)\n",
    "        \n",
    "        wm_fod: Mif = self.Mif(wm_fod,gzip=gzip)\n",
    "        gm_tis: Mif = self.Mif(gm_tis,gzip=gzip)\n",
    "        csf_tis: Mif = self.Mif(csf_tis,gzip=gzip)\n",
    "        \n",
    "        # Compute WM FOD\n",
    "        ss3t = Command(\"ss3t_csd_beta1\")\n",
    "        ss3t.cmd_list.append(mif.file)\n",
    "        ss3t.cmd_list.append(wm_res.file)\n",
    "        ss3t.cmd_list.append(wm_fod.file)\n",
    "        ss3t.cmd_list.append(gm_res.file)\n",
    "        ss3t.cmd_list.append(gm_tis.file)\n",
    "        ss3t.cmd_list.append(csf_res.file)\n",
    "        ss3t.cmd_list.append(csf_tis.file)\n",
    "        ss3t.cmd_list.append(\"-mask\")\n",
    "        ss3t.cmd_list.append(mask.file)\n",
    "        ss3t.run(self.log)\n",
    "        return wm_fod, gm_tis, csf_tis\n",
    "    \n",
    "    def bias_field_correction(self,\n",
    "                              wm_fod: Mif,\n",
    "                              gm_tis: Mif,\n",
    "                              csf_tis: Mif,\n",
    "                              mask: Mif, \n",
    "                              gzip: bool = False\n",
    "                             ) -> Tuple[Mif,Mif,Mif]:\n",
    "        '''doc-string'''\n",
    "        [path, filename, _ext] = self.nii_file.file_parts()\n",
    "        \n",
    "        if \".gz\" in wm_fod.file:\n",
    "            gzip = True\n",
    "            ext = \".mif.gz\"\n",
    "        else:\n",
    "            ext = \".mif\"\n",
    "        \n",
    "        wm_fod_norm = filename + \"_wm_fod_norm\"\n",
    "        gm_tis_norm = filename + \"_gm_tis_norm\"\n",
    "        csf_tis_norm = filename + \"_csf_tis_norm\"\n",
    "        \n",
    "        wm_fod_norm: str = os.path.join(path,wm_fod_norm + ext)\n",
    "        gm_tis_norm: str = os.path.join(path,gm_tis_norm + ext)\n",
    "        csf_tis_norm: str = os.path.join(path,csf_tis_norm + ext)\n",
    "        \n",
    "        wm_fod_norm: Mif = self.Mif(wm_fod_norm,gzip=gzip)\n",
    "        gm_tis_norm: Mif = self.Mif(gm_tis_norm,gzip=gzip)\n",
    "        csf_tis_norm: Mif = self.Mif(csf_tis_norm,gzip=gzip)\n",
    "            \n",
    "        # Perform joint bias field correction\n",
    "        bias_correct = Command(\"mtnormalise\")\n",
    "        bias_correct.cmd_list.append(wm_fod.file)\n",
    "        bias_correct.cmd_list.append(wm_fod_norm.file)\n",
    "        bias_correct.cmd_list.append(gm_tis.file)\n",
    "        bias_correct.cmd_list.append(gm_tis_norm.file)\n",
    "        bias_correct.cmd_list.append(csf_tis.file)\n",
    "        bias_correct.cmd_list.append(csf_tis_norm.file)\n",
    "        bias_correct.cmd_list.append(\"-mask\")\n",
    "        bias_correct.cmd_list.append(mask.file)\n",
    "        bias_correct.run(self.log)\n",
    "        return wm_fod_norm, gm_tis_norm, csf_tis_norm\n",
    "    \n",
    "    def compute_dec_map(self,\n",
    "                        wm_fod: Mif,\n",
    "                        gm_tis: Mif,\n",
    "                        csf_tis: Mif,\n",
    "                        mask: Mif,\n",
    "                        gzip: bool = False) -> Tuple[Mif,Mif]:\n",
    "        '''doc-string\n",
    "        Todo:\n",
    "            * write shell script to produce vf maps\n",
    "        '''\n",
    "        [path, filename, _ext] = self.nii_file.file_parts()\n",
    "        \n",
    "        if \".gz\" in wm_fod.file:\n",
    "            gzip = True\n",
    "            ext = \".mif.gz\"\n",
    "        else:\n",
    "            ext = \".mif\"\n",
    "        \n",
    "        # Create output filenames\n",
    "        dec = os.path.join(path,filename + \"_dec\" + ext)\n",
    "        dec: Mif = self.Mif(dec,gzip=gzip)\n",
    "        \n",
    "        vf = os.path.join(path,filename + \"_vf\" + ext)\n",
    "        vf: Mif = self.Mif(vf,gzip=gzip)\n",
    "            \n",
    "        # Compute DEC map\n",
    "        fod2dec = Command(\"fod2dec\")\n",
    "        fod2dec.cmd_list.append(wm_fod.file)\n",
    "        fod2dec.cmd_list.append(dec.file)\n",
    "        fod2dec.cmd_list.append(\"-mask\")\n",
    "        fod2dec.cmd_list.append(mask.file)\n",
    "        fod2dec.run(self.log)\n",
    "        \n",
    "        # Compute RGB tissue (signal contribution) maps\n",
    "        rgb = Command(\"mrconvert\")\n",
    "        rgb.cmd_list.append(\"-coord\")\n",
    "        rgb.cmd_list.append(\"3\")\n",
    "        rgb.cmd_list.append(\"0\")\n",
    "        rgb.cmd_list.append(wm_fod.file)\n",
    "        rgb.cmd_list.append(\"-\")\n",
    "        rgb.cmd_list.append(\"|\")\n",
    "        rgb.cmd_list.append(\"mrcat\")\n",
    "        rgb.cmd_list.append(csf_tis.file)\n",
    "        rgb.cmd_list.append(gm_tis.file)\n",
    "        rgb.cmd_list.append(\"-\")\n",
    "        rgb.cmd_list.append(vf.file)\n",
    "        \n",
    "        return dec, vf\n",
    "    \n",
    "    def mr_tck_global(self,\n",
    "                      wm_fod: Mif,\n",
    "                      mask: Mif,\n",
    "                      stream_lines: int = 100000, \n",
    "                      cutoff: float = 0.07) -> File:\n",
    "        '''doc-string\n",
    "        Todo:\n",
    "            * investigate ACT for neonates\n",
    "        '''\n",
    "        [path, filename, _ext] = self.nii_file.file_parts()\n",
    "        \n",
    "        # Create output filenames\n",
    "        tck: str = os.path.join(path,filename + f\".{stream_lines}.streamlines\" + \".tck\")\n",
    "        tck: File = File(tck)\n",
    "        \n",
    "        # Construct tracts\n",
    "        tckgen = Command(\"tckgen\")\n",
    "        tckgen.cmd_list.append(wm_fod.file)\n",
    "        tckgen.cmd_list.append(tck.file)\n",
    "        tckgen.cmd_list.append(\"-seed_image\")\n",
    "        tckgen.cmd_list.append(mask.file)\n",
    "        tckgen.cmd_list.append(\"-select\")\n",
    "        tckgen.cmd_list.append(f\"{stream_lines}\")\n",
    "        tckgen.cmd_list.append(\"-cutoff\")\n",
    "        tckgen.cmd_list.append(f\"{cutoff}\")\n",
    "        tckgen.run(self.log)\n",
    "        \n",
    "        return tckgen\n",
    "        \n",
    "    \n",
    "    # write visualization functions later"
   ]
  },
  {
   "cell_type": "code",
   "execution_count": 4,
   "metadata": {},
   "outputs": [],
   "source": [
    "class DWIxfm(object):\n",
    "    '''class doc-string'''\n",
    "    \n",
    "    def __init__(self):\n",
    "        '''doc-string'''\n",
    "    \n",
    "    def extract_b0s(dwi,bval):\n",
    "        '''doc-string'''\n",
    "    \n",
    "    def create_mask(dwi,bval):\n",
    "        '''doc-string'''\n",
    "    \n",
    "    def compute_linear_xfm(dwi,template,dof):\n",
    "        '''doc-string'''\n",
    "    \n",
    "    def compute_non_linear_xfm():\n",
    "        '''doc-string'''\n",
    "    \n",
    "    def compute_combined_xfm():\n",
    "        '''doc-string:\n",
    "        computes combined linear and non-linear transform.'''\n",
    "    \n",
    "    def applywarp():\n",
    "        '''doc-string'''"
   ]
  },
  {
   "cell_type": "code",
   "execution_count": 3,
   "metadata": {},
   "outputs": [],
   "source": [
    "class ReconDTK(object):\n",
    "    '''class doc-string'''\n",
    "    \n",
    "    def __init__(self):\n",
    "        '''doc-string'''\n",
    "    \n",
    "    def dti_fit(dwi,mask,bvec,bval,threshold):\n",
    "        '''doc-string'''\n",
    "    \n",
    "    def create_mask(dwi,bval):\n",
    "        '''doc-string'''\n",
    "    \n",
    "    def extract_b0s(dwi,bval):\n",
    "        '''doc-string'''\n",
    "        # DWIxfm.extract_b0s\n",
    "    \n",
    "    def dti_recon(dwi,mask,threshold):\n",
    "        '''doc-string'''\n",
    "    \n",
    "    # write visualization functions later"
   ]
  },
  {
   "cell_type": "code",
   "execution_count": null,
   "metadata": {},
   "outputs": [],
   "source": []
  },
  {
   "cell_type": "code",
   "execution_count": 5,
   "metadata": {},
   "outputs": [],
   "source": [
    "f = \"../sub-C01/ses-001/dwi/bval-b2000_run-01/sub-C01_ses-001_bval-b2000_run-01_dwi.nii.gz\"\n",
    "b = \"../sub-C01/ses-001/dwi/bval-b2000_run-01/sub-C01_ses-001_bval-b2000_run-01_dwi.bval\"\n",
    "e = \"../sub-C01/ses-001/dwi/bval-b2000_run-01/sub-C01_ses-001_bval-b2000_run-01_dwi.bvec\"\n",
    "j = \"../sub-C01/ses-001/dwi/bval-b2000_run-01/sub-C01_ses-001_bval-b2000_run-01_dwi.json\"\n",
    "log = \"sub-test.log\""
   ]
  },
  {
   "cell_type": "code",
   "execution_count": 7,
   "metadata": {},
   "outputs": [],
   "source": [
    "work_tmp = TmpDir(\"work.tmp\",use_cwd=True)"
   ]
  },
  {
   "cell_type": "code",
   "execution_count": 8,
   "metadata": {},
   "outputs": [],
   "source": [
    "# work_tmp.rm_tmp_dir(rm_parent=True)\n",
    "# os.remove(log)"
   ]
  },
  {
   "cell_type": "code",
   "execution_count": 9,
   "metadata": {},
   "outputs": [],
   "source": [
    "f_tmp = work_tmp.TmpFile(os.path.basename(f),work_tmp.tmp_dir)\n",
    "b_tmp = work_tmp.TmpFile(os.path.basename(b),work_tmp.tmp_dir)\n",
    "e_tmp = work_tmp.TmpFile(os.path.basename(e),work_tmp.tmp_dir)\n",
    "j_tmp = work_tmp.TmpFile(os.path.basename(j),work_tmp.tmp_dir)"
   ]
  },
  {
   "cell_type": "code",
   "execution_count": 10,
   "metadata": {},
   "outputs": [],
   "source": [
    "work_tmp.mk_tmp_dir()"
   ]
  },
  {
   "cell_type": "code",
   "execution_count": 11,
   "metadata": {},
   "outputs": [
    {
     "data": {
      "text/plain": [
       "'/mnt/c/Users/smart/Desktop/IRC317H_NAS/dti/data.dti/xfm_tck/work.tmp/tmp_dir_4025/sub-C01_ses-001_bval-b2000_run-01_dwi.json'"
      ]
     },
     "execution_count": 11,
     "metadata": {},
     "output_type": "execute_result"
    }
   ],
   "source": [
    "copy(f,f_tmp.file)\n",
    "copy(b,b_tmp.file)\n",
    "copy(e,e_tmp.file)\n",
    "copy(j,j_tmp.file)"
   ]
  },
  {
   "cell_type": "code",
   "execution_count": 37,
   "metadata": {},
   "outputs": [],
   "source": [
    "mm = ReconMRtrix(f_tmp.file,\n",
    "                 b_tmp.file,\n",
    "                 e_tmp.file,\n",
    "                 j_tmp.file,\n",
    "                 log)"
   ]
  },
  {
   "cell_type": "code",
   "execution_count": 13,
   "metadata": {},
   "outputs": [
    {
     "data": {
      "text/plain": [
       "'/mnt/c/Users/smart/Desktop/IRC317H_NAS/dti/data.dti/xfm_tck/work.tmp/tmp_dir_4025/sub-C01_ses-001_bval-b2000_run-01_dwi.nii.gz'"
      ]
     },
     "execution_count": 13,
     "metadata": {},
     "output_type": "execute_result"
    }
   ],
   "source": [
    "mm.nii_file.file"
   ]
  },
  {
   "cell_type": "code",
   "execution_count": 14,
   "metadata": {},
   "outputs": [
    {
     "data": {
      "text/plain": [
       "'/mnt/c/Users/smart/Desktop/IRC317H_NAS/dti/data.dti/xfm_tck/work.tmp/tmp_dir_4025/sub-C01_ses-001_bval-b2000_run-01_dwi.mif'"
      ]
     },
     "execution_count": 14,
     "metadata": {},
     "output_type": "execute_result"
    }
   ],
   "source": [
    "mf = mm.Mif(mm.nii_file.file)\n",
    "mf.file"
   ]
  },
  {
   "cell_type": "code",
   "execution_count": 15,
   "metadata": {
    "scrolled": true
   },
   "outputs": [
    {
     "name": "stderr",
     "output_type": "stream",
     "text": [
      "Running: mrconvert -force -json_import /mnt/c/Users/smart/Desktop/IRC317H_NAS/dti/data.dti/xfm_tck/work.tmp/tmp_dir_4025/sub-C01_ses-001_bval-b2000_run-01_dwi.json -fslgrad /mnt/c/Users/smart/Desktop/IRC317H_NAS/dti/data.dti/xfm_tck/work.tmp/tmp_dir_4025/sub-C01_ses-001_bval-b2000_run-01_dwi.bvec /mnt/c/Users/smart/Desktop/IRC317H_NAS/dti/data.dti/xfm_tck/work.tmp/tmp_dir_4025/sub-C01_ses-001_bval-b2000_run-01_dwi.bval /mnt/c/Users/smart/Desktop/IRC317H_NAS/dti/data.dti/xfm_tck/work.tmp/tmp_dir_4025/sub-C01_ses-001_bval-b2000_run-01_dwi.nii.gz /mnt/c/Users/smart/Desktop/IRC317H_NAS/dti/data.dti/xfm_tck/work.tmp/tmp_dir_4025/sub-C01_ses-001_bval-b2000_run-01_dwi.mif\n",
      "mrconvert: \u001b[00;31m[WARNING] existing output files will be overwritten\u001b[0m\n",
      "mrconvert: [100%] uncompressing image \"/mnt/c/Users/smart/Desktop/IRC317H_NAS/dti/data.dti/xfm_tck/work.tmp/tmp_dir_4025/sub-C01_ses-001_bval-b2000_run-01_dwi.nii.gz\"\u001b[0K\u001b[0K\u001b[?7h\u001b[?7l\n",
      "mrconvert: [100%] copying from \"/mnt/c/Use...val-b2000_run-01_dwi.nii.gz\" to \"/mnt/c/Use...1_bval-b2000_run-01_dwi.mif\"\u001b[0K\u001b[0K\u001b[?7h\u001b[?7l\n",
      "\n"
     ]
    }
   ],
   "source": [
    "mi = mm.nifti_to_mif(force=True)"
   ]
  },
  {
   "cell_type": "code",
   "execution_count": 17,
   "metadata": {},
   "outputs": [
    {
     "data": {
      "text/plain": [
       "'/mnt/c/Users/smart/Desktop/IRC317H_NAS/dti/data.dti/xfm_tck/work.tmp/tmp_dir_4025/sub-C01_ses-001_bval-b2000_run-01_dwi.mif'"
      ]
     },
     "execution_count": 17,
     "metadata": {},
     "output_type": "execute_result"
    }
   ],
   "source": [
    "mi.file"
   ]
  },
  {
   "cell_type": "code",
   "execution_count": 18,
   "metadata": {
    "scrolled": true
   },
   "outputs": [
    {
     "name": "stderr",
     "output_type": "stream",
     "text": [
      "Running: dwi2response -force dhollander /mnt/c/Users/smart/Desktop/IRC317H_NAS/dti/data.dti/xfm_tck/work.tmp/tmp_dir_4025/sub-C01_ses-001_bval-b2000_run-01_dwi.mif /mnt/c/Users/smart/Desktop/IRC317H_NAS/dti/data.dti/xfm_tck/work.tmp/tmp_dir_4025/sub-C01_ses-001_bval-b2000_run-01_dwi_response_wm.txt /mnt/c/Users/smart/Desktop/IRC317H_NAS/dti/data.dti/xfm_tck/work.tmp/tmp_dir_4025/sub-C01_ses-001_bval-b2000_run-01_dwi_response_gm.txt /mnt/c/Users/smart/Desktop/IRC317H_NAS/dti/data.dti/xfm_tck/work.tmp/tmp_dir_4025/sub-C01_ses-001_bval-b2000_run-01_dwi_response_csf.txt\n",
      "dwi2response: \n",
      "dwi2response: Note that this script makes use of commands / algorithms that have relevant articles for citation. Please consult the help page (-help option) for more information.\n",
      "dwi2response: \n",
      "dwi2response: Generated scratch directory: /mnt/c/Users/smart/Desktop/IRC317H_NAS/dti/data.dti/xfm_tck/dwi2response-tmp-HBDEU8/\n",
      "dwi2response: Importing DWI data (/mnt/c/Users/smart/Desktop/IRC317H_NAS/dti/data.dti/xfm_tck/work.tmp/tmp_dir_4025/sub-C01_ses-001_bval-b2000_run-01_dwi.mif)...\n",
      "dwi2response: Changing to scratch directory (/mnt/c/Users/smart/Desktop/IRC317H_NAS/dti/data.dti/xfm_tck/dwi2response-tmp-HBDEU8/)\n",
      "dwi2response: Computing brain mask (dwi2mask)...\n",
      "dwi2response: -------\n",
      "dwi2response: 2 unique b-value(s) detected: 0,2000 with 7,61 volumes\n",
      "dwi2response: -------\n",
      "dwi2response: Preparation:\n",
      "dwi2response: * Eroding brain mask by 3 pass(es)...\n",
      "dwi2response:   [ mask: 119075 -> 80199 ]\n",
      "dwi2response: * Computing signal decay metric (SDM):\n",
      "dwi2response:  * b=0...\n",
      "dwi2response:  * b=2000...\n",
      "dwi2response: * Removing erroneous voxels from mask and correcting SDM...\n",
      "dwi2response:   [ mask: 80199 -> 79990 ]\n",
      "dwi2response: -------\n",
      "dwi2response: Crude segmentation:\n",
      "dwi2response: * Crude WM versus GM-CSF separation (at FA=0.2)...\n",
      "dwi2response:   [ 79990 -> 26082 (WM) & 53908 (GM-CSF) ]\n",
      "dwi2response: * Crude GM versus CSF separation...\n",
      "dwi2response:   [ 53908 -> 42657 (GM) & 11251 (CSF) ]\n",
      "dwi2response: -------\n",
      "dwi2response: Refined segmentation:\n",
      "dwi2response: * Refining WM...\n",
      "dwi2response:   [ WM: 26082 -> 25940 ]\n",
      "dwi2response: * Refining GM...\n",
      "dwi2response:   [ GM: 42657 -> 30108 ]\n",
      "dwi2response: * Refining CSF...\n",
      "dwi2response:   [ CSF: 11251 -> 2396 ]\n",
      "dwi2response: -------\n",
      "dwi2response: Final voxel selection and response function estimation:\n",
      "dwi2response: * CSF:\n",
      "dwi2response:  * Selecting final voxels (10.0% of refined CSF)...\n",
      "dwi2response:    [ CSF: 2396 -> 240 ]\n",
      "dwi2response:  * Estimating response function...\n",
      "dwi2response: * GM:\n",
      "dwi2response:  * Selecting final voxels (2.0% of refined GM)...\n",
      "dwi2response:    [ GM: 30108 -> 602 ]\n",
      "dwi2response:  * Estimating response function...\n",
      "dwi2response: * single-fibre WM:\n",
      "dwi2response:  * Selecting final voxels (0.5% of refined WM)...\n",
      "dwi2response:    [ WM: 25940 -> 130 (single-fibre) ]\n",
      "dwi2response:  * Estimating response function...\n",
      "dwi2response: -------\n",
      "dwi2response: Generating outputs...\n",
      "dwi2response: -------\n",
      "dwi2response: Changing back to original directory (/mnt/c/Users/smart/Desktop/IRC317H_NAS/dti/data.dti/xfm_tck)\n",
      "dwi2response: Deleting scratch directory (/mnt/c/Users/smart/Desktop/IRC317H_NAS/dti/data.dti/xfm_tck/dwi2response-tmp-HBDEU8/)\n",
      "\n"
     ]
    }
   ],
   "source": [
    "[wm_res,gm_res,csf_res] = mm.estimate_response(mif=mi,force=True)"
   ]
  },
  {
   "cell_type": "code",
   "execution_count": 19,
   "metadata": {
    "scrolled": true
   },
   "outputs": [
    {
     "name": "stderr",
     "output_type": "stream",
     "text": [
      "Running: mrgrid /mnt/c/Users/smart/Desktop/IRC317H_NAS/dti/data.dti/xfm_tck/work.tmp/tmp_dir_4025/sub-C01_ses-001_bval-b2000_run-01_dwi.mif regrid /mnt/c/Users/smart/Desktop/IRC317H_NAS/dti/data.dti/xfm_tck/work.tmp/tmp_dir_4025/sub-C01_ses-001_bval-b2000_run-01_dwi_upsampled.mif -voxel 1.5\n"
     ]
    },
    {
     "name": "stdout",
     "output_type": "stream",
     "text": [
      "\n",
      " \t The required dependency mrresize is not installed or in the system path. \n",
      "\n"
     ]
    },
    {
     "name": "stderr",
     "output_type": "stream",
     "text": [
      "IOPub data rate exceeded.\n",
      "The notebook server will temporarily stop sending output\n",
      "to the client in order to avoid crashing it.\n",
      "To change this limit, set the config variable\n",
      "`--NotebookApp.iopub_data_rate_limit`.\n",
      "\n",
      "Current values:\n",
      "NotebookApp.iopub_data_rate_limit=1000000.0 (bytes/sec)\n",
      "NotebookApp.rate_limit_window=3.0 (secs)\n",
      "\n"
     ]
    }
   ],
   "source": [
    "up_mif = mm.mr_upsample(mif=mi,vox=1.5)"
   ]
  },
  {
   "cell_type": "code",
   "execution_count": 20,
   "metadata": {
    "scrolled": true
   },
   "outputs": [
    {
     "name": "stderr",
     "output_type": "stream",
     "text": [
      "Running: dwiextract -bzero /mnt/c/Users/smart/Desktop/IRC317H_NAS/dti/data.dti/xfm_tck/work.tmp/tmp_dir_4025/sub-C01_ses-001_bval-b2000_run-01_dwi_upsampled.mif /mnt/c/Users/smart/Desktop/IRC317H_NAS/dti/data.dti/xfm_tck/work.tmp/tmp_dir_4025/tmp_dir_2352/tmp_B0s.nii.gz\n",
      "dwiextract: [100%] extracting volumes\u001b[0K\u001b[0K\u001b[?7h\u001b[?7l\n",
      "dwiextract: [100%] compressing image \"/mnt/c/Users/smart/Desktop/IRC317H_NAS/dti/data.dti/xfm_tck/work.tmp/tmp_dir_4025/tmp_dir_2352/tmp_B0s.nii.gz\"\u001b[0K\u001b[0K\u001b[?7h\u001b[?7l\n",
      "\n",
      "Running: fslmaths /mnt/c/Users/smart/Desktop/IRC317H_NAS/dti/data.dti/xfm_tck/work.tmp/tmp_dir_4025/tmp_dir_2352/tmp_B0s.nii.gz -Tmean /mnt/c/Users/smart/Desktop/IRC317H_NAS/dti/data.dti/xfm_tck/work.tmp/tmp_dir_4025/tmp_dir_2352/tmp_B0.nii.gz\n",
      "Running: bet /mnt/c/Users/smart/Desktop/IRC317H_NAS/dti/data.dti/xfm_tck/work.tmp/tmp_dir_4025/tmp_dir_2352/tmp_B0.nii.gz /mnt/c/Users/smart/Desktop/IRC317H_NAS/dti/data.dti/xfm_tck/work.tmp/tmp_dir_4025/tmp_dir_2352/tmp_B0.nii.gz -R -m -f 0.5\n",
      "Running: mrconvert /mnt/c/Users/smart/Desktop/IRC317H_NAS/dti/data.dti/xfm_tck/work.tmp/tmp_dir_4025/tmp_dir_2352/tmp_B0.nii.gz /mnt/c/Users/smart/Desktop/IRC317H_NAS/dti/data.dti/xfm_tck/work.tmp/tmp_dir_4025/sub-C01_ses-001_bval-b2000_run-01_dwi_upsamp_mask.mif\n",
      "mrconvert: [100%] uncompressing image \"/mnt/c/Users/smart/Desktop/IRC317H_NAS/dti/data.dti/xfm_tck/work.tmp/tmp_dir_4025/tmp_dir_2352/tmp_B0.nii.gz\"\u001b[0K\u001b[0K\u001b[?7h\u001b[?7l\n",
      "mrconvert: [100%] copying from \"/mnt/c/Use.../tmp_dir_2352/tmp_B0.nii.gz\" to \"/mnt/c/Use..._run-01_dwi_upsamp_mask.mif\"\u001b[0K\u001b[0K\u001b[?7h\u001b[?7l\n",
      "\n"
     ]
    }
   ],
   "source": [
    "mask = mm.create_mask(up_mif)"
   ]
  },
  {
   "cell_type": "code",
   "execution_count": 27,
   "metadata": {
    "scrolled": true
   },
   "outputs": [
    {
     "name": "stderr",
     "output_type": "stream",
     "text": [
      "Running: ss3t_csd_beta1 /mnt/c/Users/smart/Desktop/IRC317H_NAS/dti/data.dti/xfm_tck/work.tmp/tmp_dir_4025/sub-C01_ses-001_bval-b2000_run-01_dwi_upsampled.mif /mnt/c/Users/smart/Desktop/IRC317H_NAS/dti/data.dti/xfm_tck/work.tmp/tmp_dir_4025/sub-C01_ses-001_bval-b2000_run-01_dwi_response_wm.txt /mnt/c/Users/smart/Desktop/IRC317H_NAS/dti/data.dti/xfm_tck/work.tmp/tmp_dir_4025/sub-C01_ses-001_bval-b2000_run-01_dwi_upsamp_wm_fod.mif /mnt/c/Users/smart/Desktop/IRC317H_NAS/dti/data.dti/xfm_tck/work.tmp/tmp_dir_4025/sub-C01_ses-001_bval-b2000_run-01_dwi_response_gm.txt /mnt/c/Users/smart/Desktop/IRC317H_NAS/dti/data.dti/xfm_tck/work.tmp/tmp_dir_4025/sub-C01_ses-001_bval-b2000_run-01_dwi_upsamp_gm_tis.mif /mnt/c/Users/smart/Desktop/IRC317H_NAS/dti/data.dti/xfm_tck/work.tmp/tmp_dir_4025/sub-C01_ses-001_bval-b2000_run-01_dwi_response_csf.txt /mnt/c/Users/smart/Desktop/IRC317H_NAS/dti/data.dti/xfm_tck/work.tmp/tmp_dir_4025/sub-C01_ses-001_bval-b2000_run-01_dwi_upsamp_csf_tis.mif -mask /mnt/c/Users/smart/Desktop/IRC317H_NAS/dti/data.dti/xfm_tck/work.tmp/tmp_dir_4025/sub-C01_ses-001_bval-b2000_run-01_dwi_upsamp_mask.mif\n",
      "Running: ss3t_csd_beta1 /mnt/c/Users/smart/Desktop/IRC317H_NAS/dti/data.dti/xfm_tck/work.tmp/tmp_dir_4025/sub-C01_ses-001_bval-b2000_run-01_dwi_upsampled.mif /mnt/c/Users/smart/Desktop/IRC317H_NAS/dti/data.dti/xfm_tck/work.tmp/tmp_dir_4025/sub-C01_ses-001_bval-b2000_run-01_dwi_response_wm.txt /mnt/c/Users/smart/Desktop/IRC317H_NAS/dti/data.dti/xfm_tck/work.tmp/tmp_dir_4025/sub-C01_ses-001_bval-b2000_run-01_dwi_upsamp_wm_fod.mif /mnt/c/Users/smart/Desktop/IRC317H_NAS/dti/data.dti/xfm_tck/work.tmp/tmp_dir_4025/sub-C01_ses-001_bval-b2000_run-01_dwi_response_gm.txt /mnt/c/Users/smart/Desktop/IRC317H_NAS/dti/data.dti/xfm_tck/work.tmp/tmp_dir_4025/sub-C01_ses-001_bval-b2000_run-01_dwi_upsamp_gm_tis.mif /mnt/c/Users/smart/Desktop/IRC317H_NAS/dti/data.dti/xfm_tck/work.tmp/tmp_dir_4025/sub-C01_ses-001_bval-b2000_run-01_dwi_response_csf.txt /mnt/c/Users/smart/Desktop/IRC317H_NAS/dti/data.dti/xfm_tck/work.tmp/tmp_dir_4025/sub-C01_ses-001_bval-b2000_run-01_dwi_upsamp_csf_tis.mif -mask /mnt/c/Users/smart/Desktop/IRC317H_NAS/dti/data.dti/xfm_tck/work.tmp/tmp_dir_4025/sub-C01_ses-001_bval-b2000_run-01_dwi_upsamp_mask.mif\n",
      "ss3t_csd_beta1: \n",
      "ss3t_csd_beta1: Note that this script makes use of commands / algorithms that have relevant articles for citation. Please consult the help page (-help option) for more information.\n",
      "ss3t_csd_beta1: \n",
      "ss3t_csd_beta1: -------\n",
      "ss3t_csd_beta1: 2 unique b-value(s) detected: 0,2000 with 7,61 volumes\n",
      "ss3t_csd_beta1: -------\n",
      "ss3t_csd_beta1: Importing response functions:\n",
      "ss3t_csd_beta1: * Importing SF WM response function...\n",
      "ss3t_csd_beta1:   [ SDM = 1.467417593073772 ]\n",
      "ss3t_csd_beta1: * Importing GM response function...\n",
      "ss3t_csd_beta1:   [ SDM = 1.942751103465729 ]\n",
      "ss3t_csd_beta1: * Importing CSF response function...\n",
      "ss3t_csd_beta1:   [ SDM = 4.175243220558377 ]\n",
      "ss3t_csd_beta1: -------\n",
      "ss3t_csd_beta1: Generated scratch directory: /mnt/c/Users/smart/Desktop/IRC317H_NAS/dti/data.dti/xfm_tck/ss3t_csd_beta1-tmp-Q28QKR/\n",
      "ss3t_csd_beta1: Importing image data...\n",
      "ss3t_csd_beta1: Changing to scratch directory (/mnt/c/Users/smart/Desktop/IRC317H_NAS/dti/data.dti/xfm_tck/ss3t_csd_beta1-tmp-Q28QKR/)\n",
      "ss3t_csd_beta1: -------\n",
      "ss3t_csd_beta1: Starting algorithm (niter = 3, bzero_pct = 10.0)...\n",
      "ss3t_csd_beta1: * Initialisation...\n",
      "ss3t_csd_beta1: * Iteration 1...\n",
      "ss3t_csd_beta1: * Iteration 2...\n",
      "ss3t_csd_beta1: * Iteration 3...\n",
      "ss3t_csd_beta1: -------\n",
      "ss3t_csd_beta1: Generating outputs...\n",
      "ss3t_csd_beta1: -------\n",
      "ss3t_csd_beta1: Changing back to original directory (/mnt/c/Users/smart/Desktop/IRC317H_NAS/dti/data.dti/xfm_tck)\n",
      "ss3t_csd_beta1: Deleting scratch directory (/mnt/c/Users/smart/Desktop/IRC317H_NAS/dti/data.dti/xfm_tck/ss3t_csd_beta1-tmp-Q28QKR/)\n",
      "\n",
      "ss3t_csd_beta1: \n",
      "ss3t_csd_beta1: Note that this script makes use of commands / algorithms that have relevant articles for citation. Please consult the help page (-help option) for more information.\n",
      "ss3t_csd_beta1: \n",
      "ss3t_csd_beta1: -------\n",
      "ss3t_csd_beta1: 2 unique b-value(s) detected: 0,2000 with 7,61 volumes\n",
      "ss3t_csd_beta1: -------\n",
      "ss3t_csd_beta1: Importing response functions:\n",
      "ss3t_csd_beta1: * Importing SF WM response function...\n",
      "ss3t_csd_beta1:   [ SDM = 1.467417593073772 ]\n",
      "ss3t_csd_beta1: * Importing GM response function...\n",
      "ss3t_csd_beta1:   [ SDM = 1.942751103465729 ]\n",
      "ss3t_csd_beta1: * Importing CSF response function...\n",
      "ss3t_csd_beta1:   [ SDM = 4.175243220558377 ]\n",
      "ss3t_csd_beta1: -------\n",
      "ss3t_csd_beta1: Generated scratch directory: /mnt/c/Users/smart/Desktop/IRC317H_NAS/dti/data.dti/xfm_tck/ss3t_csd_beta1-tmp-Q28QKR/\n",
      "ss3t_csd_beta1: Importing image data...\n",
      "ss3t_csd_beta1: Changing to scratch directory (/mnt/c/Users/smart/Desktop/IRC317H_NAS/dti/data.dti/xfm_tck/ss3t_csd_beta1-tmp-Q28QKR/)\n",
      "ss3t_csd_beta1: -------\n",
      "ss3t_csd_beta1: Starting algorithm (niter = 3, bzero_pct = 10.0)...\n",
      "ss3t_csd_beta1: * Initialisation...\n",
      "ss3t_csd_beta1: * Iteration 1...\n",
      "ss3t_csd_beta1: * Iteration 2...\n",
      "ss3t_csd_beta1: * Iteration 3...\n",
      "ss3t_csd_beta1: -------\n",
      "ss3t_csd_beta1: Generating outputs...\n",
      "ss3t_csd_beta1: -------\n",
      "ss3t_csd_beta1: Changing back to original directory (/mnt/c/Users/smart/Desktop/IRC317H_NAS/dti/data.dti/xfm_tck)\n",
      "ss3t_csd_beta1: Deleting scratch directory (/mnt/c/Users/smart/Desktop/IRC317H_NAS/dti/data.dti/xfm_tck/ss3t_csd_beta1-tmp-Q28QKR/)\n",
      "\n"
     ]
    }
   ],
   "source": [
    "[wm_fod, gm, csf] = mm.ss3t_csd(mif=up_mif, \n",
    "                             mask=mask, \n",
    "                             wm_res=wm_res, \n",
    "                             gm_res=gm_res, \n",
    "                             csf_res=csf_res)"
   ]
  },
  {
   "cell_type": "code",
   "execution_count": 31,
   "metadata": {
    "scrolled": true
   },
   "outputs": [
    {
     "name": "stderr",
     "output_type": "stream",
     "text": [
      "Running: mtnormalise /mnt/c/Users/smart/Desktop/IRC317H_NAS/dti/data.dti/xfm_tck/work.tmp/tmp_dir_4025/sub-C01_ses-001_bval-b2000_run-01_dwi_upsamp_wm_fod.mif /mnt/c/Users/smart/Desktop/IRC317H_NAS/dti/data.dti/xfm_tck/work.tmp/tmp_dir_4025/sub-C01_ses-001_bval-b2000_run-01_dwi_upsamp_wm__wm_fod_norm.mif /mnt/c/Users/smart/Desktop/IRC317H_NAS/dti/data.dti/xfm_tck/work.tmp/tmp_dir_4025/sub-C01_ses-001_bval-b2000_run-01_dwi_upsamp_gm_tis.mif /mnt/c/Users/smart/Desktop/IRC317H_NAS/dti/data.dti/xfm_tck/work.tmp/tmp_dir_4025/sub-C01_ses-001_bval-b2000_run-01_dwi_upsamp_wm__gm_tis_norm.mif /mnt/c/Users/smart/Desktop/IRC317H_NAS/dti/data.dti/xfm_tck/work.tmp/tmp_dir_4025/sub-C01_ses-001_bval-b2000_run-01_dwi_upsamp_csf_tis.mif /mnt/c/Users/smart/Desktop/IRC317H_NAS/dti/data.dti/xfm_tck/work.tmp/tmp_dir_4025/sub-C01_ses-001_bval-b2000_run-01_dwi_upsamp_wm__csf_tis_norm.mif -mask /mnt/c/Users/smart/Desktop/IRC317H_NAS/dti/data.dti/xfm_tck/work.tmp/tmp_dir_4025/sub-C01_ses-001_bval-b2000_run-01_dwi_upsamp_mask.mif\n",
      "Running: mtnormalise /mnt/c/Users/smart/Desktop/IRC317H_NAS/dti/data.dti/xfm_tck/work.tmp/tmp_dir_4025/sub-C01_ses-001_bval-b2000_run-01_dwi_upsamp_wm_fod.mif /mnt/c/Users/smart/Desktop/IRC317H_NAS/dti/data.dti/xfm_tck/work.tmp/tmp_dir_4025/sub-C01_ses-001_bval-b2000_run-01_dwi_upsamp_wm__wm_fod_norm.mif /mnt/c/Users/smart/Desktop/IRC317H_NAS/dti/data.dti/xfm_tck/work.tmp/tmp_dir_4025/sub-C01_ses-001_bval-b2000_run-01_dwi_upsamp_gm_tis.mif /mnt/c/Users/smart/Desktop/IRC317H_NAS/dti/data.dti/xfm_tck/work.tmp/tmp_dir_4025/sub-C01_ses-001_bval-b2000_run-01_dwi_upsamp_wm__gm_tis_norm.mif /mnt/c/Users/smart/Desktop/IRC317H_NAS/dti/data.dti/xfm_tck/work.tmp/tmp_dir_4025/sub-C01_ses-001_bval-b2000_run-01_dwi_upsamp_csf_tis.mif /mnt/c/Users/smart/Desktop/IRC317H_NAS/dti/data.dti/xfm_tck/work.tmp/tmp_dir_4025/sub-C01_ses-001_bval-b2000_run-01_dwi_upsamp_wm__csf_tis_norm.mif -mask /mnt/c/Users/smart/Desktop/IRC317H_NAS/dti/data.dti/xfm_tck/work.tmp/tmp_dir_4025/sub-C01_ses-001_bval-b2000_run-01_dwi_upsamp_mask.mif\n",
      "Running: mtnormalise /mnt/c/Users/smart/Desktop/IRC317H_NAS/dti/data.dti/xfm_tck/work.tmp/tmp_dir_4025/sub-C01_ses-001_bval-b2000_run-01_dwi_upsamp_wm_fod.mif /mnt/c/Users/smart/Desktop/IRC317H_NAS/dti/data.dti/xfm_tck/work.tmp/tmp_dir_4025/sub-C01_ses-001_bval-b2000_run-01_dwi_upsamp_wm__wm_fod_norm.mif /mnt/c/Users/smart/Desktop/IRC317H_NAS/dti/data.dti/xfm_tck/work.tmp/tmp_dir_4025/sub-C01_ses-001_bval-b2000_run-01_dwi_upsamp_gm_tis.mif /mnt/c/Users/smart/Desktop/IRC317H_NAS/dti/data.dti/xfm_tck/work.tmp/tmp_dir_4025/sub-C01_ses-001_bval-b2000_run-01_dwi_upsamp_wm__gm_tis_norm.mif /mnt/c/Users/smart/Desktop/IRC317H_NAS/dti/data.dti/xfm_tck/work.tmp/tmp_dir_4025/sub-C01_ses-001_bval-b2000_run-01_dwi_upsamp_csf_tis.mif /mnt/c/Users/smart/Desktop/IRC317H_NAS/dti/data.dti/xfm_tck/work.tmp/tmp_dir_4025/sub-C01_ses-001_bval-b2000_run-01_dwi_upsamp_wm__csf_tis_norm.mif -mask /mnt/c/Users/smart/Desktop/IRC317H_NAS/dti/data.dti/xfm_tck/work.tmp/tmp_dir_4025/sub-C01_ses-001_bval-b2000_run-01_dwi_upsamp_mask.mif\n",
      "mtnormalise: [done] loading input images\u001b[0K\u001b[0K\u001b[?7h\u001b[?7l\n",
      "mtnormalise: [100%] performing log-domain intensity normalisation\u001b[0K\u001b[0K\u001b[?7h\u001b[?7l\n",
      "mtnormalise: [done] writing output images\u001b[0K\u001b[0K\u001b[?7h\u001b[?7l\n",
      "mtnormalise: [100%] performing log-domain intensity normalisation\u001b[0K\n",
      "mtnormalise: [done] loading input images\u001b[0K\n",
      "\n",
      "mtnormalise: [done] loading input images\u001b[0K\u001b[0K\u001b[?7h\u001b[?7l\n",
      "mtnormalise: [100%] performing log-domain intensity normalisation\u001b[0K\u001b[0K\u001b[?7h\u001b[?7l\n",
      "mtnormalise: [done] writing output images\u001b[0K\u001b[0K\u001b[?7h\u001b[?7l\n",
      "mtnormalise: [100%] performing log-domain intensity normalisation\u001b[0K\n",
      "mtnormalise: [done] loading input images\u001b[0K\n",
      "\n",
      "mtnormalise: [done] loading input images\u001b[0K\u001b[0K\u001b[?7h\u001b[?7l\n",
      "mtnormalise: [100%] performing log-domain intensity normalisation\u001b[0K\u001b[0K\u001b[?7h\u001b[?7l\n",
      "mtnormalise: [done] writing output images\u001b[0K\u001b[0K\u001b[?7h\u001b[?7l\n",
      "mtnormalise: [100%] performing log-domain intensity normalisation\u001b[0K\n",
      "mtnormalise: [done] loading input images\u001b[0K\n",
      "\n"
     ]
    }
   ],
   "source": [
    "[wm_fod_norm, gm_norm, csf_norm] = mm.bias_field_correction(wm_fod=wm_fod, \n",
    "                                                            gm_tis=gm, \n",
    "                                                            csf_tis=csf, \n",
    "                                                            mask=mask)"
   ]
  },
  {
   "cell_type": "code",
   "execution_count": 46,
   "metadata": {
    "scrolled": true
   },
   "outputs": [
    {
     "name": "stderr",
     "output_type": "stream",
     "text": [
      "Running: fod2dec /mnt/c/Users/smart/Desktop/IRC317H_NAS/dti/data.dti/xfm_tck/work.tmp/tmp_dir_4025/sub-C01_ses-001_bval-b2000_run-01_dwi_upsamp_wm__wm_fod_norm.mif /mnt/c/Users/smart/Desktop/IRC317H_NAS/dti/data.dti/xfm_tck/work.tmp/tmp_dir_4025/sub-C01_ses-001_bval-b2000_run-01_dwi_dec.mif -mask /mnt/c/Users/smart/Desktop/IRC317H_NAS/dti/data.dti/xfm_tck/work.tmp/tmp_dir_4025/sub-C01_ses-001_bval-b2000_run-01_dwi_upsamp_mask.mif\n",
      "Running: fod2dec /mnt/c/Users/smart/Desktop/IRC317H_NAS/dti/data.dti/xfm_tck/work.tmp/tmp_dir_4025/sub-C01_ses-001_bval-b2000_run-01_dwi_upsamp_wm__wm_fod_norm.mif /mnt/c/Users/smart/Desktop/IRC317H_NAS/dti/data.dti/xfm_tck/work.tmp/tmp_dir_4025/sub-C01_ses-001_bval-b2000_run-01_dwi_dec.mif -mask /mnt/c/Users/smart/Desktop/IRC317H_NAS/dti/data.dti/xfm_tck/work.tmp/tmp_dir_4025/sub-C01_ses-001_bval-b2000_run-01_dwi_upsamp_mask.mif\n",
      "Running: fod2dec /mnt/c/Users/smart/Desktop/IRC317H_NAS/dti/data.dti/xfm_tck/work.tmp/tmp_dir_4025/sub-C01_ses-001_bval-b2000_run-01_dwi_upsamp_wm__wm_fod_norm.mif /mnt/c/Users/smart/Desktop/IRC317H_NAS/dti/data.dti/xfm_tck/work.tmp/tmp_dir_4025/sub-C01_ses-001_bval-b2000_run-01_dwi_dec.mif -mask /mnt/c/Users/smart/Desktop/IRC317H_NAS/dti/data.dti/xfm_tck/work.tmp/tmp_dir_4025/sub-C01_ses-001_bval-b2000_run-01_dwi_upsamp_mask.mif\n",
      "Running: fod2dec /mnt/c/Users/smart/Desktop/IRC317H_NAS/dti/data.dti/xfm_tck/work.tmp/tmp_dir_4025/sub-C01_ses-001_bval-b2000_run-01_dwi_upsamp_wm__wm_fod_norm.mif /mnt/c/Users/smart/Desktop/IRC317H_NAS/dti/data.dti/xfm_tck/work.tmp/tmp_dir_4025/sub-C01_ses-001_bval-b2000_run-01_dwi_dec.mif -mask /mnt/c/Users/smart/Desktop/IRC317H_NAS/dti/data.dti/xfm_tck/work.tmp/tmp_dir_4025/sub-C01_ses-001_bval-b2000_run-01_dwi_upsamp_mask.mif\n",
      "Running: fod2dec /mnt/c/Users/smart/Desktop/IRC317H_NAS/dti/data.dti/xfm_tck/work.tmp/tmp_dir_4025/sub-C01_ses-001_bval-b2000_run-01_dwi_upsamp_wm__wm_fod_norm.mif /mnt/c/Users/smart/Desktop/IRC317H_NAS/dti/data.dti/xfm_tck/work.tmp/tmp_dir_4025/sub-C01_ses-001_bval-b2000_run-01_dwi_dec.mif -mask /mnt/c/Users/smart/Desktop/IRC317H_NAS/dti/data.dti/xfm_tck/work.tmp/tmp_dir_4025/sub-C01_ses-001_bval-b2000_run-01_dwi_upsamp_mask.mif\n",
      "fod2dec: [100%] computing colours\u001b[0K\u001b[0K\u001b[?7h\u001b[?7l\n",
      "fod2dec: [100%] (re)weighting\u001b[0K\u001b[0K\u001b[?7h\u001b[?7l\n",
      "\n",
      "IOPub data rate exceeded.\n",
      "The notebook server will temporarily stop sending output\n",
      "to the client in order to avoid crashing it.\n",
      "To change this limit, set the config variable\n",
      "`--NotebookApp.iopub_data_rate_limit`.\n",
      "\n",
      "Current values:\n",
      "NotebookApp.iopub_data_rate_limit=1000000.0 (bytes/sec)\n",
      "NotebookApp.rate_limit_window=3.0 (secs)\n",
      "\n"
     ]
    }
   ],
   "source": [
    "[dec,vf] = mm.compute_dec_map(wm_fod_norm, gm_norm, csf_norm,mask)"
   ]
  },
  {
   "cell_type": "code",
   "execution_count": 44,
   "metadata": {},
   "outputs": [
    {
     "data": {
      "text/plain": [
       "'/mnt/c/Users/smart/Desktop/IRC317H_NAS/dti/data.dti/xfm_tck/work.tmp/tmp_dir_4025/sub-C01_ses-001_bval-b2000_run-01_dwi_vf.mif'"
      ]
     },
     "execution_count": 44,
     "metadata": {},
     "output_type": "execute_result"
    }
   ],
   "source": [
    "dec.file\n",
    "vf.file"
   ]
  },
  {
   "cell_type": "code",
   "execution_count": 52,
   "metadata": {
    "scrolled": true
   },
   "outputs": [
    {
     "name": "stderr",
     "output_type": "stream",
     "text": [
      "Running: tckgen /mnt/c/Users/smart/Desktop/IRC317H_NAS/dti/data.dti/xfm_tck/work.tmp/tmp_dir_4025/sub-C01_ses-001_bval-b2000_run-01_dwi_upsamp_wm__wm_fod_norm.mif /mnt/c/Users/smart/Desktop/IRC317H_NAS/dti/data.dti/xfm_tck/work.tmp/tmp_dir_4025/sub-C01_ses-001_bval-b2000_run-01_dwi.100000streamlines.tck -seed_image /mnt/c/Users/smart/Desktop/IRC317H_NAS/dti/data.dti/xfm_tck/work.tmp/tmp_dir_4025/sub-C01_ses-001_bval-b2000_run-01_dwi_upsamp_mask.mif -select 100000 -cutoff 0.07\n",
      "Running: tckgen /mnt/c/Users/smart/Desktop/IRC317H_NAS/dti/data.dti/xfm_tck/work.tmp/tmp_dir_4025/sub-C01_ses-001_bval-b2000_run-01_dwi_upsamp_wm__wm_fod_norm.mif /mnt/c/Users/smart/Desktop/IRC317H_NAS/dti/data.dti/xfm_tck/work.tmp/tmp_dir_4025/sub-C01_ses-001_bval-b2000_run-01_dwi.100000streamlines.tck -seed_image /mnt/c/Users/smart/Desktop/IRC317H_NAS/dti/data.dti/xfm_tck/work.tmp/tmp_dir_4025/sub-C01_ses-001_bval-b2000_run-01_dwi_upsamp_mask.mif -select 100000 -cutoff 0.07\n",
      "Running: tckgen /mnt/c/Users/smart/Desktop/IRC317H_NAS/dti/data.dti/xfm_tck/work.tmp/tmp_dir_4025/sub-C01_ses-001_bval-b2000_run-01_dwi_upsamp_wm__wm_fod_norm.mif /mnt/c/Users/smart/Desktop/IRC317H_NAS/dti/data.dti/xfm_tck/work.tmp/tmp_dir_4025/sub-C01_ses-001_bval-b2000_run-01_dwi.100000streamlines.tck -seed_image /mnt/c/Users/smart/Desktop/IRC317H_NAS/dti/data.dti/xfm_tck/work.tmp/tmp_dir_4025/sub-C01_ses-001_bval-b2000_run-01_dwi_upsamp_mask.mif -select 100000 -cutoff 0.07\n",
      "Running: tckgen /mnt/c/Users/smart/Desktop/IRC317H_NAS/dti/data.dti/xfm_tck/work.tmp/tmp_dir_4025/sub-C01_ses-001_bval-b2000_run-01_dwi_upsamp_wm__wm_fod_norm.mif /mnt/c/Users/smart/Desktop/IRC317H_NAS/dti/data.dti/xfm_tck/work.tmp/tmp_dir_4025/sub-C01_ses-001_bval-b2000_run-01_dwi.100000streamlines.tck -seed_image /mnt/c/Users/smart/Desktop/IRC317H_NAS/dti/data.dti/xfm_tck/work.tmp/tmp_dir_4025/sub-C01_ses-001_bval-b2000_run-01_dwi_upsamp_mask.mif -select 100000 -cutoff 0.07\n",
      "Running: tckgen /mnt/c/Users/smart/Desktop/IRC317H_NAS/dti/data.dti/xfm_tck/work.tmp/tmp_dir_4025/sub-C01_ses-001_bval-b2000_run-01_dwi_upsamp_wm__wm_fod_norm.mif /mnt/c/Users/smart/Desktop/IRC317H_NAS/dti/data.dti/xfm_tck/work.tmp/tmp_dir_4025/sub-C01_ses-001_bval-b2000_run-01_dwi.100000streamlines.tck -seed_image /mnt/c/Users/smart/Desktop/IRC317H_NAS/dti/data.dti/xfm_tck/work.tmp/tmp_dir_4025/sub-C01_ses-001_bval-b2000_run-01_dwi_upsamp_mask.mif -select 100000 -cutoff 0.07\n",
      "tckgen: [100%]   318849 seeds,   208882 streamlines,   100000 selected\u001b[0K\u001b[?7h\u001b[?7l\n",
      "\n",
      "tckgen: [100%]   318849 seeds,   208882 streamlines,   100000 selected\u001b[0K\u001b[?7h\u001b[?7l\n",
      "\n",
      "tckgen: [100%]   318849 seeds,   208882 streamlines,   100000 selected\u001b[0K\u001b[?7h\u001b[?7l\n",
      "\n",
      "tckgen: [100%]   318849 seeds,   208882 streamlines,   100000 selected\u001b[0K\u001b[?7h\u001b[?7l\n",
      "\n",
      "tckgen: [100%]   318849 seeds,   208882 streamlines,   100000 selected\u001b[0K\u001b[?7h\u001b[?7l\n",
      "\n"
     ]
    }
   ],
   "source": [
    "tcks = mm.mr_tck_global(wm_fod_norm,mask)"
   ]
  },
  {
   "cell_type": "code",
   "execution_count": null,
   "metadata": {},
   "outputs": [],
   "source": []
  }
 ],
 "metadata": {
  "kernelspec": {
   "display_name": "Python 3",
   "language": "python",
   "name": "python3"
  },
  "language_info": {
   "codemirror_mode": {
    "name": "ipython",
    "version": 3
   },
   "file_extension": ".py",
   "mimetype": "text/x-python",
   "name": "python",
   "nbconvert_exporter": "python",
   "pygments_lexer": "ipython3",
   "version": "3.7.3"
  }
 },
 "nbformat": 4,
 "nbformat_minor": 2
}

{
 "cells": [
  {
   "cell_type": "code",
   "execution_count": 1,
   "metadata": {},
   "outputs": [],
   "source": [
    "# Import modules/packages\n",
    "import os\n",
    "import numpy as np\n",
    "\n",
    "# Import third-party modules/packages\n",
    "# import utils\n",
    "from utils import File, Command, NiiFile, LogFile\n",
    "from typing import Optional, Union"
   ]
  },
  {
   "cell_type": "code",
   "execution_count": 2,
   "metadata": {},
   "outputs": [],
   "source": [
    "class ReconMRtrix (object):\n",
    "    '''Class that contains the associated wrapper functions for performing\n",
    "    tractography using MRtrix v3.x.\n",
    "    \n",
    "    Attributes:\n",
    "        *\n",
    "    '''\n",
    "    \n",
    "    nii_file: NiiFile = \"\"\n",
    "    bval: File = \"\"\n",
    "    bvec: File = \"\"\n",
    "    json_file: File = \"\"\n",
    "    log: LogFile = \"\"\n",
    "    \n",
    "    def __init__(self,\n",
    "                 nii_file: str,\n",
    "                 bval: str,\n",
    "                 bvec: str,\n",
    "                 json_file: str = \"\",\n",
    "                 log: str = \"\") -> None:\n",
    "        '''Init doc string for ReconMRtrix class.\n",
    "        \n",
    "        Usage example:\n",
    "            >>> dwi_obj = ReconMRtrix(\"file.nii\",\n",
    "            >>>                       \"file.bval\",\n",
    "            >>>                       \"file.bvec\",\n",
    "            >>>                       \"file.json\",\n",
    "            >>>                       \"file.log\")\n",
    "            >>> dwi_obj.file\n",
    "            \"file.nii\"\n",
    "        \n",
    "        Args:\n",
    "            nii_file: Input file path to DWI NIFTI file.\n",
    "            bval: Input file path to corresponding bval file.\n",
    "            bvec: Input file path to corresponding bvec file.\n",
    "            json_file: Input file path to corresponding JSON (sidecar) file.\n",
    "            log: Log filename for output log file (, need not exist at runtime).\n",
    "        '''\n",
    "        self.nii_file: str = nii_file\n",
    "        self.bval: str = bval\n",
    "        self.bvec: str = bvec\n",
    "        \n",
    "        self.nii_file = NiiFile(self.nii_file)\n",
    "        self.bval = File(self.bval)\n",
    "        self.bvec = File(self.bvec)\n",
    "        \n",
    "        if json_file:\n",
    "            self.json_file: str = json_file\n",
    "            self.json_file = File(self.json_file)\n",
    "        else:\n",
    "            self.json_file = \"\"\n",
    "            self.json_file = File(self.json_file)\n",
    "        if log:\n",
    "            self.log: str = log\n",
    "            self.log = LogFile(self.log)\n",
    "        else:\n",
    "            self.log: str = \"\"\n",
    "            self.log = LogFile(self.log)\n",
    "        \n",
    "    class Mif(File):\n",
    "        '''Creates MIF files for use with MRtrix executables. Inherits \n",
    "        methods and properties from the File class.\n",
    "        \n",
    "        Attributes:\n",
    "            * \n",
    "        '''\n",
    "        \n",
    "        def __init__(self,\n",
    "                     file: File,\n",
    "                    ext: str = \"\") -> None:\n",
    "            '''Init doc string for Mif class. Inherits methods and properties\n",
    "            from the File class. The desired MIF file's file extension can either\n",
    "            be explicity specified (either: '.mif' or '.mif.gz'), or can be inferred\n",
    "            depending on the input's file extension (e.g. if the file is not gzipped,\n",
    "            then the file extension will be '.mif', and vice versa).\n",
    "            \n",
    "            Usage example:\n",
    "                >>> dwi_obj = ReconMRtrix(\"file.nii\",\n",
    "                >>>                       \"file.bval\",\n",
    "                >>>                       \"file.bvec\",\n",
    "                >>>                       \"file.json\",\n",
    "                >>>                       \"file.log\")\n",
    "                >>> dwi_obj.Mif(dwi_obj.file)\n",
    "                >>> dwi_obj.Mif.file\n",
    "                >>> \"file.mif\"\n",
    "                >>>\n",
    "                >>> # To change the file extension\n",
    "                >>> dwi_obj.Mif(dwi_obj.file,\".mif\")\n",
    "                >>>\n",
    "                >>> # or\n",
    "                >>> dwi_obj.Mif(dwi_obj.file,\".mif.gz\")\n",
    "            \n",
    "            Args:\n",
    "                file: Input filename of MIF file (need not exist).\n",
    "                ext: Desired file extension of MIF file, i.e. the preferred\n",
    "                    extension should be either '.mif' or '.mif.gz'.\n",
    "            '''\n",
    "            self.file = file\n",
    "            if ext:\n",
    "                ext_num: int = len(ext)\n",
    "                self.ext: str = ext\n",
    "                self.file = self.file[:-(ext_num)] + self.ext\n",
    "            elif '.gz' in self.file:\n",
    "                self.ext: str = self.file[-(7):]\n",
    "                self.file = self.file[:-(7)] + \".mif.gz\"\n",
    "            else:\n",
    "                self.ext: str = self.file[-(4):]\n",
    "                self.file = self.file[:-(4)] + \".mif\"\n",
    "            File.__init__(self,self.file,self.ext)\n",
    "    \n",
    "    def nifti_to_mif(self,\n",
    "                     force: bool = False) -> Mif:\n",
    "        '''Converts DWI NIFTI file and its associated files to MIF files.\n",
    "        \n",
    "        Usage example:\n",
    "            >>> dwi_obj = ReconMRtrix(\"file.nii\",\n",
    "            >>>                       \"file.bval\",\n",
    "            >>>                       \"file.bvec\",\n",
    "            >>>                       \"file.json\",\n",
    "            >>>                       \"file.log\")\n",
    "            >>> dwi_obj.nifti_to_mif()\n",
    "            >>> Mif\n",
    "        \n",
    "        Args:\n",
    "            force: Force overwrite of existing MIF file.\n",
    "        \n",
    "        Returns:\n",
    "            mif_file: Mif file object.\n",
    "        '''\n",
    "        # [path, filename, _ext] = self.nii_file.file_parts()\n",
    "        # mif_file: str = os.path.join(path,filename + \".mif\")\n",
    "        # mif_file: Mif = self.Mif(mif_file)\n",
    "        \n",
    "        mif_file: str = self.nii_file.abs_path()\n",
    "        mif_file: Mif = self.Mif(mif_file,\".mif\")\n",
    "        \n",
    "        mr_convert = Command(\"mrconvert\")\n",
    "        if force:\n",
    "            mr_convert.cmd_list.append(\"-force\")\n",
    "        if self.json_file:\n",
    "            mr_convert.cmd_list.append(\"-json_import\")\n",
    "            mr_convert.cmd_list.append(self.json_file.file)\n",
    "        mr_convert.cmd_list.append(\"-fslgrad\")\n",
    "        mr_convert.cmd_list.append(f\"{self.bvec.file}\")\n",
    "        mr_convert.cmd_list.append(f\"{self.bval.file}\")\n",
    "        mr_convert.cmd_list.append(f\"{self.nii_file.file}\")\n",
    "        mr_convert.cmd_list.append(f\"{mif_file.file}\")\n",
    "        \n",
    "        mr_convert.run(self.log)\n",
    "        return mif_file\n",
    "    \n",
    "    def estimate_response(mif,method=\"dhollander\"):\n",
    "        '''doc-string'''\n",
    "    \n",
    "    def mr_upsample(mif,output):\n",
    "        '''doc-string'''\n",
    "    \n",
    "    def create_mask(mif,frac_int):\n",
    "        '''doc-string'''\n",
    "        \n",
    "    def ss3t_csd(mif,mask,wm_res,gm_res,csf_res):\n",
    "        '''doc-string'''\n",
    "    \n",
    "    def bias_field_correction(wm_fod,gm,csf,mask):\n",
    "        '''doc-string'''\n",
    "    \n",
    "    def compute_dec_map(wm_fod,mask):\n",
    "        '''doc-string'''\n",
    "    \n",
    "    def mr_trk_global(wm_fod,mask,stream_lines, cutoff):\n",
    "        '''doc-string'''\n",
    "    \n",
    "    # write visualization functions later"
   ]
  },
  {
   "cell_type": "code",
   "execution_count": 3,
   "metadata": {},
   "outputs": [],
   "source": [
    "class DTKrecon(object):\n",
    "    '''class doc-string'''\n",
    "    \n",
    "    def __init__(self):\n",
    "        '''doc-string'''\n",
    "    \n",
    "    def dti_fit(dwi,mask,bvec,bval,threshold):\n",
    "        '''doc-string'''\n",
    "    \n",
    "    def create_mask(dwi,bval):\n",
    "        '''doc-string'''\n",
    "    \n",
    "    def extract_b0s(dwi,bval):\n",
    "        '''doc-string'''\n",
    "        # DWIxfm.extract_b0s\n",
    "    \n",
    "    def dti_recon(dwi,mask,threshold):\n",
    "        '''doc-string'''\n",
    "    \n",
    "    # write visualization functions later"
   ]
  },
  {
   "cell_type": "code",
   "execution_count": 4,
   "metadata": {},
   "outputs": [],
   "source": [
    "class DWIxfm(object):\n",
    "    '''class doc-string'''\n",
    "    \n",
    "    def __init__(self):\n",
    "        '''doc-string'''\n",
    "    \n",
    "    def extract_b0s(dwi,bval):\n",
    "        '''doc-string'''\n",
    "    \n",
    "    def create_mask(dwi,bval):\n",
    "        '''doc-string'''\n",
    "    \n",
    "    def compute_linear_xfm(dwi,template,dof):\n",
    "        '''doc-string'''\n",
    "    \n",
    "    def compute_non_linear_xfm():\n",
    "        '''doc-string'''\n",
    "    \n",
    "    def compute_combined_xfm():\n",
    "        '''doc-string:\n",
    "        computes combined linear and non-linear transform.'''\n",
    "    \n",
    "    def applywarp():\n",
    "        '''doc-string'''"
   ]
  },
  {
   "cell_type": "code",
   "execution_count": 5,
   "metadata": {},
   "outputs": [],
   "source": [
    "def test(file: File):\n",
    "    pass"
   ]
  },
  {
   "cell_type": "code",
   "execution_count": null,
   "metadata": {},
   "outputs": [],
   "source": []
  },
  {
   "cell_type": "code",
   "execution_count": null,
   "metadata": {},
   "outputs": [],
   "source": []
  },
  {
   "cell_type": "code",
   "execution_count": null,
   "metadata": {},
   "outputs": [],
   "source": []
  },
  {
   "cell_type": "code",
   "execution_count": 5,
   "metadata": {},
   "outputs": [],
   "source": [
    "f = \"../sub-C01/ses-001/dwi/bval-b2000_run-01/sub-C01_ses-001_bval-b2000_run-01_dwi.nii.gz\"\n",
    "b = \"../sub-C01/ses-001/dwi/bval-b2000_run-01/sub-C01_ses-001_bval-b2000_run-01_dwi.bval\"\n",
    "e = \"../sub-C01/ses-001/dwi/bval-b2000_run-01/sub-C01_ses-001_bval-b2000_run-01_dwi.bvec\"\n",
    "j = \"../sub-C01/ses-001/dwi/bval-b2000_run-01/sub-C01_ses-001_bval-b2000_run-01_dwi.json\""
   ]
  },
  {
   "cell_type": "code",
   "execution_count": 6,
   "metadata": {},
   "outputs": [],
   "source": [
    "mm = ReconMRtrix(f,b,e,j)"
   ]
  },
  {
   "cell_type": "code",
   "execution_count": 7,
   "metadata": {},
   "outputs": [
    {
     "data": {
      "text/plain": [
       "'../sub-C01/ses-001/dwi/bval-b2000_run-01/sub-C01_ses-001_bval-b2000_run-01_dwi.nii.gz'"
      ]
     },
     "execution_count": 7,
     "metadata": {},
     "output_type": "execute_result"
    }
   ],
   "source": [
    "mm.nii_file.file"
   ]
  },
  {
   "cell_type": "code",
   "execution_count": 8,
   "metadata": {},
   "outputs": [
    {
     "data": {
      "text/plain": [
       "'/mnt/c/Users/smart/Desktop/IRC317H_NAS/dti/data.dti/sub-C01/ses-001/dwi/bval-b2000_run-01/sub-C01_ses-001_bval-b2000_run-01_dwi.nii.gz'"
      ]
     },
     "execution_count": 8,
     "metadata": {},
     "output_type": "execute_result"
    }
   ],
   "source": [
    "mm.nii_file.abs_path()"
   ]
  },
  {
   "cell_type": "code",
   "execution_count": 10,
   "metadata": {},
   "outputs": [
    {
     "data": {
      "text/plain": [
       "'.nii.gz'"
      ]
     },
     "execution_count": 10,
     "metadata": {},
     "output_type": "execute_result"
    }
   ],
   "source": [
    "# mf = mm.Mif(mm.nii_file.file,\".mif\")\n",
    "mf = mm.Mif(mm.nii_file.file)\n",
    "mf.ext"
   ]
  },
  {
   "cell_type": "code",
   "execution_count": 11,
   "metadata": {},
   "outputs": [
    {
     "data": {
      "text/plain": [
       "'.mif'"
      ]
     },
     "execution_count": 11,
     "metadata": {},
     "output_type": "execute_result"
    }
   ],
   "source": [
    "mf.ext = \".mif\"; mf.ext"
   ]
  },
  {
   "cell_type": "code",
   "execution_count": 12,
   "metadata": {},
   "outputs": [
    {
     "data": {
      "text/plain": [
       "'../sub-C01/ses-001/dwi/bval-b2000_run-01/sub-C01_ses-001_bval-b2000_run-01_dwi.mif.gz'"
      ]
     },
     "execution_count": 12,
     "metadata": {},
     "output_type": "execute_result"
    }
   ],
   "source": [
    "mf.file"
   ]
  },
  {
   "cell_type": "code",
   "execution_count": null,
   "metadata": {},
   "outputs": [],
   "source": []
  },
  {
   "cell_type": "code",
   "execution_count": null,
   "metadata": {},
   "outputs": [],
   "source": []
  },
  {
   "cell_type": "code",
   "execution_count": null,
   "metadata": {},
   "outputs": [],
   "source": []
  },
  {
   "cell_type": "code",
   "execution_count": 13,
   "metadata": {
    "scrolled": true
   },
   "outputs": [
    {
     "name": "stderr",
     "output_type": "stream",
     "text": [
      "03-12-20 16:55:59 utils        INFO     Running: mrconvert -force -json_import ../sub-C01/ses-001/dwi/bval-b2000_run-01/sub-C01_ses-001_bval-b2000_run-01_dwi.json -fslgrad ../sub-C01/ses-001/dwi/bval-b2000_run-01/sub-C01_ses-001_bval-b2000_run-01_dwi.bvec ../sub-C01/ses-001/dwi/bval-b2000_run-01/sub-C01_ses-001_bval-b2000_run-01_dwi.bval ../sub-C01/ses-001/dwi/bval-b2000_run-01/sub-C01_ses-001_bval-b2000_run-01_dwi.nii.gz /mnt/c/Users/smart/Desktop/IRC317H_NAS/dti/data.dti/sub-C01/ses-001/dwi/bval-b2000_run-01/sub-C01_ses-001_bval-b2000_run-01_dwi.ni.mif\n",
      "Running: mrconvert -force -json_import ../sub-C01/ses-001/dwi/bval-b2000_run-01/sub-C01_ses-001_bval-b2000_run-01_dwi.json -fslgrad ../sub-C01/ses-001/dwi/bval-b2000_run-01/sub-C01_ses-001_bval-b2000_run-01_dwi.bvec ../sub-C01/ses-001/dwi/bval-b2000_run-01/sub-C01_ses-001_bval-b2000_run-01_dwi.bval ../sub-C01/ses-001/dwi/bval-b2000_run-01/sub-C01_ses-001_bval-b2000_run-01_dwi.nii.gz /mnt/c/Users/smart/Desktop/IRC317H_NAS/dti/data.dti/sub-C01/ses-001/dwi/bval-b2000_run-01/sub-C01_ses-001_bval-b2000_run-01_dwi.ni.mif\n",
      "IOPub data rate exceeded.\n",
      "The notebook server will temporarily stop sending output\n",
      "to the client in order to avoid crashing it.\n",
      "To change this limit, set the config variable\n",
      "`--NotebookApp.iopub_data_rate_limit`.\n",
      "\n",
      "Current values:\n",
      "NotebookApp.iopub_data_rate_limit=1000000.0 (bytes/sec)\n",
      "NotebookApp.rate_limit_window=3.0 (secs)\n",
      "\n"
     ]
    }
   ],
   "source": [
    "mi = mm.nifti_to_mif(force=True)"
   ]
  },
  {
   "cell_type": "code",
   "execution_count": 44,
   "metadata": {},
   "outputs": [
    {
     "ename": "AttributeError",
     "evalue": "'str' object has no attribute 'log'",
     "output_type": "error",
     "traceback": [
      "\u001b[0;31m---------------------------------------------------------------------------\u001b[0m",
      "\u001b[0;31mAttributeError\u001b[0m                            Traceback (most recent call last)",
      "\u001b[0;32m<ipython-input-44-ece8c8571f5b>\u001b[0m in \u001b[0;36m<module>\u001b[0;34m\u001b[0m\n\u001b[0;32m----> 1\u001b[0;31m \u001b[0mm\u001b[0m \u001b[0;34m=\u001b[0m \u001b[0mReconMRtrix\u001b[0m\u001b[0;34m.\u001b[0m\u001b[0mnifti_to_mif\u001b[0m\u001b[0;34m(\u001b[0m\u001b[0;34m\"\"\u001b[0m\u001b[0;34m,\u001b[0m\u001b[0mf\u001b[0m\u001b[0;34m,\u001b[0m\u001b[0mb\u001b[0m\u001b[0;34m,\u001b[0m\u001b[0me\u001b[0m\u001b[0;34m,\u001b[0m\u001b[0mj\u001b[0m\u001b[0;34m)\u001b[0m\u001b[0;34m\u001b[0m\u001b[0;34m\u001b[0m\u001b[0m\n\u001b[0m",
      "\u001b[0;32m<ipython-input-37-cfe19ecf1e70>\u001b[0m in \u001b[0;36mnifti_to_mif\u001b[0;34m(self, nii_file, bval, bvec, json_file, log, force)\u001b[0m\n\u001b[1;32m     69\u001b[0m             \u001b[0mjson_file\u001b[0m \u001b[0;34m=\u001b[0m \u001b[0mself\u001b[0m\u001b[0;34m.\u001b[0m\u001b[0mjson_file\u001b[0m\u001b[0;34m\u001b[0m\u001b[0;34m\u001b[0m\u001b[0m\n\u001b[1;32m     70\u001b[0m         \u001b[0;32mif\u001b[0m \u001b[0;32mnot\u001b[0m \u001b[0mlog\u001b[0m\u001b[0;34m:\u001b[0m\u001b[0;34m\u001b[0m\u001b[0;34m\u001b[0m\u001b[0m\n\u001b[0;32m---> 71\u001b[0;31m             \u001b[0mlog\u001b[0m \u001b[0;34m=\u001b[0m \u001b[0mself\u001b[0m\u001b[0;34m.\u001b[0m\u001b[0mlog\u001b[0m\u001b[0;34m\u001b[0m\u001b[0;34m\u001b[0m\u001b[0m\n\u001b[0m\u001b[1;32m     72\u001b[0m \u001b[0;34m\u001b[0m\u001b[0m\n\u001b[1;32m     73\u001b[0m         \u001b[0;34m[\u001b[0m\u001b[0mpath\u001b[0m\u001b[0;34m,\u001b[0m \u001b[0mfilename\u001b[0m\u001b[0;34m,\u001b[0m \u001b[0m_ext\u001b[0m\u001b[0;34m]\u001b[0m \u001b[0;34m=\u001b[0m \u001b[0mnii_file\u001b[0m\u001b[0;34m.\u001b[0m\u001b[0mfile_parts\u001b[0m\u001b[0;34m(\u001b[0m\u001b[0;34m)\u001b[0m\u001b[0;34m\u001b[0m\u001b[0;34m\u001b[0m\u001b[0m\n",
      "\u001b[0;31mAttributeError\u001b[0m: 'str' object has no attribute 'log'"
     ]
    }
   ],
   "source": [
    "m = ReconMRtrix.nifti_to_mif(\"\",f,b,e,j)"
   ]
  },
  {
   "cell_type": "code",
   "execution_count": 40,
   "metadata": {},
   "outputs": [],
   "source": [
    "ff = NiiFile(f)"
   ]
  },
  {
   "cell_type": "code",
   "execution_count": 41,
   "metadata": {},
   "outputs": [
    {
     "data": {
      "text/plain": [
       "'/mnt/c/Users/smart/Desktop/IRC317H_NAS/dti/data.dti/sub-C01/ses-001/dwi/bval-b2000_run-01/sub-C01_ses-001_bval-b2000_run-01_dwi.nii.gz'"
      ]
     },
     "execution_count": 41,
     "metadata": {},
     "output_type": "execute_result"
    }
   ],
   "source": [
    "ff.abs_path()"
   ]
  },
  {
   "cell_type": "code",
   "execution_count": 42,
   "metadata": {},
   "outputs": [
    {
     "data": {
      "text/plain": [
       "utils.NiiFile"
      ]
     },
     "execution_count": 42,
     "metadata": {},
     "output_type": "execute_result"
    }
   ],
   "source": [
    "type(ff)"
   ]
  },
  {
   "cell_type": "code",
   "execution_count": 43,
   "metadata": {},
   "outputs": [
    {
     "data": {
      "text/plain": [
       "str"
      ]
     },
     "execution_count": 43,
     "metadata": {},
     "output_type": "execute_result"
    }
   ],
   "source": [
    "type(f)"
   ]
  },
  {
   "cell_type": "code",
   "execution_count": 58,
   "metadata": {},
   "outputs": [
    {
     "name": "stdout",
     "output_type": "stream",
     "text": [
      "<class 'utils.NiiFile'>\n"
     ]
    }
   ],
   "source": [
    "print(str(f\"{NiiFile}\"))"
   ]
  },
  {
   "cell_type": "code",
   "execution_count": 51,
   "metadata": {},
   "outputs": [],
   "source": [
    "def type_check(class_type,var):\n",
    "    class_type = str(f\"{class_type}\")\n",
    "    if type(var) in class_type:\n",
    "        print(\"good\")\n",
    "    else:\n",
    "        print(\"not good\")"
   ]
  },
  {
   "cell_type": "code",
   "execution_count": 52,
   "metadata": {},
   "outputs": [
    {
     "ename": "TypeError",
     "evalue": "'in <string>' requires string as left operand, not type",
     "output_type": "error",
     "traceback": [
      "\u001b[0;31m---------------------------------------------------------------------------\u001b[0m",
      "\u001b[0;31mTypeError\u001b[0m                                 Traceback (most recent call last)",
      "\u001b[0;32m<ipython-input-52-b87aeb07946f>\u001b[0m in \u001b[0;36m<module>\u001b[0;34m\u001b[0m\n\u001b[0;32m----> 1\u001b[0;31m \u001b[0mtype_check\u001b[0m\u001b[0;34m(\u001b[0m\u001b[0mNiiFile\u001b[0m\u001b[0;34m,\u001b[0m\u001b[0mf\u001b[0m\u001b[0;34m)\u001b[0m\u001b[0;34m\u001b[0m\u001b[0;34m\u001b[0m\u001b[0m\n\u001b[0m",
      "\u001b[0;32m<ipython-input-51-22e448075c07>\u001b[0m in \u001b[0;36mtype_check\u001b[0;34m(class_type, var)\u001b[0m\n\u001b[1;32m      1\u001b[0m \u001b[0;32mdef\u001b[0m \u001b[0mtype_check\u001b[0m\u001b[0;34m(\u001b[0m\u001b[0mclass_type\u001b[0m\u001b[0;34m,\u001b[0m\u001b[0mvar\u001b[0m\u001b[0;34m)\u001b[0m\u001b[0;34m:\u001b[0m\u001b[0;34m\u001b[0m\u001b[0;34m\u001b[0m\u001b[0m\n\u001b[0;32m----> 2\u001b[0;31m     \u001b[0;32mif\u001b[0m \u001b[0mtype\u001b[0m\u001b[0;34m(\u001b[0m\u001b[0mvar\u001b[0m\u001b[0;34m)\u001b[0m \u001b[0;32min\u001b[0m \u001b[0;34mf\"{class_type}\"\u001b[0m\u001b[0;34m:\u001b[0m\u001b[0;34m\u001b[0m\u001b[0;34m\u001b[0m\u001b[0m\n\u001b[0m\u001b[1;32m      3\u001b[0m         \u001b[0mprint\u001b[0m\u001b[0;34m(\u001b[0m\u001b[0;34m\"good\"\u001b[0m\u001b[0;34m)\u001b[0m\u001b[0;34m\u001b[0m\u001b[0;34m\u001b[0m\u001b[0m\n\u001b[1;32m      4\u001b[0m     \u001b[0;32melse\u001b[0m\u001b[0;34m:\u001b[0m\u001b[0;34m\u001b[0m\u001b[0;34m\u001b[0m\u001b[0m\n\u001b[1;32m      5\u001b[0m         \u001b[0mprint\u001b[0m\u001b[0;34m(\u001b[0m\u001b[0;34m\"not good\"\u001b[0m\u001b[0;34m)\u001b[0m\u001b[0;34m\u001b[0m\u001b[0;34m\u001b[0m\u001b[0m\n",
      "\u001b[0;31mTypeError\u001b[0m: 'in <string>' requires string as left operand, not type"
     ]
    }
   ],
   "source": [
    "type_check(NiiFile,f)"
   ]
  },
  {
   "cell_type": "code",
   "execution_count": 56,
   "metadata": {},
   "outputs": [
    {
     "data": {
      "text/plain": [
       "('../sub-C01/ses-001/dwi/bval-b2000_run-01/sub-C01_ses-001_bval-b2000_run-01_dwi.nii',\n",
       " '.gz')"
      ]
     },
     "execution_count": 56,
     "metadata": {},
     "output_type": "execute_result"
    }
   ],
   "source": [
    "os.path.splitext(f)"
   ]
  },
  {
   "cell_type": "code",
   "execution_count": 58,
   "metadata": {},
   "outputs": [
    {
     "data": {
      "text/plain": [
       "'../sub-C01/ses-001/dwi/bval-b2000_run-01/sub-C01_ses-001_bval-b2000_run-01_dwi'"
      ]
     },
     "execution_count": 58,
     "metadata": {},
     "output_type": "execute_result"
    }
   ],
   "source": [
    "f[:-7]"
   ]
  },
  {
   "cell_type": "code",
   "execution_count": null,
   "metadata": {},
   "outputs": [],
   "source": []
  }
 ],
 "metadata": {
  "kernelspec": {
   "display_name": "Python 3",
   "language": "python",
   "name": "python3"
  },
  "language_info": {
   "codemirror_mode": {
    "name": "ipython",
    "version": 3
   },
   "file_extension": ".py",
   "mimetype": "text/x-python",
   "name": "python",
   "nbconvert_exporter": "python",
   "pygments_lexer": "ipython3",
   "version": "3.7.3"
  }
 },
 "nbformat": 4,
 "nbformat_minor": 2
}

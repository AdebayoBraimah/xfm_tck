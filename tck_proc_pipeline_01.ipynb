{
 "cells": [
  {
   "cell_type": "code",
   "execution_count": 1,
   "metadata": {},
   "outputs": [],
   "source": [
    "# Import modules/packages\n",
    "import os\n",
    "import numpy as np\n",
    "from shutil import copyfile, copy\n",
    "\n",
    "# Import third-party modules/packages\n",
    "# import utils\n",
    "from utils import File, Command, NiiFile, LogFile, TmpDir, DependencyError\n",
    "from typing import Optional, Union, Tuple"
   ]
  },
  {
   "cell_type": "code",
   "execution_count": 2,
   "metadata": {},
   "outputs": [],
   "source": [
    "# See these links for more info on improving tractograms:\n",
    "# https://community.mrtrix.org/t/pipeline-for-multi-shell-data/1384/3"
   ]
  },
  {
   "cell_type": "code",
   "execution_count": null,
   "metadata": {},
   "outputs": [],
   "source": [
    "# Compute FA and other measures:\n",
    "# https://mrtrix.readthedocs.io/en/latest/reference/commands/tck2connectome.html#tck2connectome"
   ]
  },
  {
   "cell_type": "code",
   "execution_count": null,
   "metadata": {},
   "outputs": [],
   "source": [
    "# Compute connectome:\n",
    "# https://mrtrix.readthedocs.io/en/latest/reference/commands/dwi2tensor.html\n",
    "# https://mrtrix.readthedocs.io/en/latest/reference/commands/tensor2metric.html"
   ]
  },
  {
   "cell_type": "code",
   "execution_count": null,
   "metadata": {},
   "outputs": [],
   "source": []
  },
  {
   "cell_type": "code",
   "execution_count": 2,
   "metadata": {},
   "outputs": [],
   "source": [
    "# scripts_dir = os.path.realpath(__file__)\n",
    "scripts_dir = os.getcwd()"
   ]
  },
  {
   "cell_type": "code",
   "execution_count": 3,
   "metadata": {},
   "outputs": [],
   "source": [
    "class ReconMRtrix (object):\n",
    "    '''Class that contains the associated wrapper functions for performing\n",
    "    tractography using MRtrix v3.x.\n",
    "    \n",
    "    Attributes:\n",
    "        *\n",
    "    \n",
    "    To-do:\n",
    "        * Write general purpose mif to nifti and (nifti to mif) conversion function(s)\n",
    "    '''\n",
    "    \n",
    "    nii_file: NiiFile = \"\"\n",
    "    bval: File = \"\"\n",
    "    bvec: File = \"\"\n",
    "    json_file: File = \"\"\n",
    "    log: LogFile = \"\"\n",
    "    \n",
    "    def __init__(self,\n",
    "                 nii_file: str,\n",
    "                 bval: str,\n",
    "                 bvec: str,\n",
    "                 json_file: str = \"\",\n",
    "                 log: str = \"\") -> None:\n",
    "        '''Init doc string for ReconMRtrix class.\n",
    "        \n",
    "        Usage example:\n",
    "            >>> dwi_obj = ReconMRtrix(\"file.nii\",\n",
    "            >>>                       \"file.bval\",\n",
    "            >>>                       \"file.bvec\",\n",
    "            >>>                       \"file.json\",\n",
    "            >>>                       \"file.log\")\n",
    "            >>> dwi_obj.file\n",
    "            \"file.nii\"\n",
    "        \n",
    "        Args:\n",
    "            nii_file: Input file path to DWI NIFTI file.\n",
    "            bval: Input file path to corresponding bval file.\n",
    "            bvec: Input file path to corresponding bvec file.\n",
    "            json_file: Input file path to corresponding JSON (sidecar) file.\n",
    "            log: Log filename for output log file (, need not exist at runtime).\n",
    "        '''\n",
    "        self.nii_file: str = nii_file\n",
    "        self.bval: str = bval\n",
    "        self.bvec: str = bvec\n",
    "        \n",
    "        self.nii_file = NiiFile(self.nii_file)\n",
    "        self.bval = File(self.bval)\n",
    "        self.bvec = File(self.bvec)\n",
    "        \n",
    "        if json_file:\n",
    "            self.json_file: str = json_file\n",
    "            self.json_file = File(self.json_file)\n",
    "        else:\n",
    "            self.json_file = \"\"\n",
    "            self.json_file = File(self.json_file)\n",
    "            \n",
    "        if log:\n",
    "            self.log: str = log\n",
    "            self.log = LogFile(self.log)\n",
    "        else:\n",
    "            self.log: str = \"\"\n",
    "            self.log = LogFile(self.log)\n",
    "        \n",
    "    class Mif(File):\n",
    "        '''Creates MIF files for use with MRtrix executables. Inherits \n",
    "        methods and properties from the File class.\n",
    "        \n",
    "        Attributes:\n",
    "            * \n",
    "        '''\n",
    "        \n",
    "        def __init__(self,\n",
    "                     file: File,\n",
    "                     gzip: bool = False) -> None:\n",
    "            '''Init doc string for Mif class. Inherits methods and properties\n",
    "            from the File class. The MIF file can also be gzipped if desired.\n",
    "            \n",
    "            Usage example:\n",
    "                >>> dwi_obj = ReconMRtrix(\"file.nii\",\n",
    "                >>>                       \"file.bval\",\n",
    "                >>>                       \"file.bvec\",\n",
    "                >>>                       \"file.json\",\n",
    "                >>>                       \"file.log\")\n",
    "                >>> dwi_obj.Mif(dwi_obj.file)\n",
    "                >>> dwi_obj.Mif.file\n",
    "                >>> \"file.mif\"\n",
    "                >>>\n",
    "                >>> # To gzip the MIF file\n",
    "                >>> dwi_obj.Mif(dwi_obj.file,gzip=True)\n",
    "            \n",
    "            Args:\n",
    "                file: Input filename of MIF file (need not exist).\n",
    "                gzip: Gzips output MIF file\n",
    "            '''\n",
    "            self.file = file\n",
    "            \n",
    "            if '.gz' in self.file:\n",
    "                if gzip:\n",
    "                    self.ext: str = self.file[-(7):]\n",
    "                    self.file = self.file[:-(7)] + \".mif.gz\"\n",
    "                else:\n",
    "                    self.ext: str = self.file[-(7):]\n",
    "                    self.file = self.file[:-(7)] + \".mif\"\n",
    "            else:\n",
    "                if gzip:\n",
    "                    self.ext: str = self.file[-(4):]\n",
    "                    self.file = self.file[:-(4)] + \".mif.gz\"\n",
    "                else:\n",
    "                    self.ext: str = self.file[-(4):]\n",
    "                    self.file = self.file[:-(4)] + \".mif\"\n",
    "            File.__init__(self,self.file,self.ext)\n",
    "    \n",
    "    def nifti_to_mif(self,\n",
    "                     force: bool = False,\n",
    "                     gzip: bool = False) -> Mif:\n",
    "        '''Converts DWI NIFTI file and its associated files to MIF files.\n",
    "        \n",
    "        Usage example:\n",
    "            >>> dwi_obj = ReconMRtrix(\"file.nii\",\n",
    "            >>>                       \"file.bval\",\n",
    "            >>>                       \"file.bvec\",\n",
    "            >>>                       \"file.json\",\n",
    "            >>>                       \"file.log\")\n",
    "            >>> dwi_obj.nifti_to_mif()\n",
    "            >>> Mif\n",
    "        \n",
    "        Args:\n",
    "            force: Force overwrite of existing MIF file.\n",
    "            gzip: Gzip output MIF file.\n",
    "        \n",
    "        Returns:\n",
    "            mif_file: Mif file object.\n",
    "        '''\n",
    "        mif_file: str = self.nii_file.abs_path()\n",
    "        mif_file: Mif = self.Mif(mif_file,gzip=gzip)\n",
    "        \n",
    "        mr_convert = Command(\"mrconvert\")\n",
    "        if force:\n",
    "            mr_convert.cmd_list.append(\"-force\")\n",
    "        if self.json_file:\n",
    "            mr_convert.cmd_list.append(\"-json_import\")\n",
    "            mr_convert.cmd_list.append(self.json_file.file)\n",
    "        mr_convert.cmd_list.append(\"-fslgrad\")\n",
    "        mr_convert.cmd_list.append(f\"{self.bvec.file}\")\n",
    "        mr_convert.cmd_list.append(f\"{self.bval.file}\")\n",
    "        mr_convert.cmd_list.append(f\"{self.nii_file.file}\")\n",
    "        mr_convert.cmd_list.append(f\"{mif_file.file}\")\n",
    "        \n",
    "        mr_convert.run(self.log)\n",
    "        return mif_file\n",
    "    \n",
    "    def estimate_response(self,\n",
    "                          mif: Mif,\n",
    "                          method: str = \"dhollander\",\n",
    "                          force: bool = False,\n",
    "                          gzip: bool = False) -> Tuple[File,File,File]:\n",
    "        '''doc-string\n",
    "        Todo:\n",
    "            * function returns should be File objects, not strs\n",
    "        '''\n",
    "        [path, filename, ext] = self.nii_file.file_parts()\n",
    "        \n",
    "        wm_res: str = os.path.join(path,filename + \"_response_wm.txt\")\n",
    "        gm_res: str = os.path.join(path,filename + \"_response_gm.txt\")\n",
    "        csf_res: str = os.path.join(path,filename + \"_response_csf.txt\")\n",
    "            \n",
    "        wm_res: File = File(wm_res)\n",
    "        gm_res: File = File(gm_res)\n",
    "        csf_res: File = File(csf_res)\n",
    "        \n",
    "        dwi_response = Command(\"dwi2response\")\n",
    "        if force:\n",
    "            dwi_response.cmd_list.append(\"-force\")\n",
    "        dwi_response.cmd_list.append(method)\n",
    "        dwi_response.cmd_list.append(mif.file)\n",
    "        dwi_response.cmd_list.append(wm_res.file)\n",
    "        dwi_response.cmd_list.append(gm_res.file)\n",
    "        dwi_response.cmd_list.append(csf_res.file)\n",
    "        \n",
    "        dwi_response.run(self.log)\n",
    "        \n",
    "        return wm_res, gm_res, csf_res\n",
    "    \n",
    "    def mr_upsample(self,\n",
    "                    mif: Mif,\n",
    "                    vox: float,\n",
    "                    gzip: bool = False) -> Mif:\n",
    "        '''doc-string'''\n",
    "        [path, filename, _ext] = self.nii_file.file_parts()\n",
    "        [_path, _filename, ext] = mif.file_parts() # Keep original file extension\n",
    "        \n",
    "        if \".gz\" in mif.file:\n",
    "            gzip = True\n",
    "        \n",
    "        filename = filename + \"_upsampled\"\n",
    "        upsampled_mif = os.path.join(path,filename + ext)\n",
    "        upsampled_mif: Mif = self.Mif(upsampled_mif,gzip=gzip)\n",
    "        \n",
    "        try:\n",
    "            upsample = Command(\"mrresize\")\n",
    "            upsample.cmd_list.append(mif.file)\n",
    "            upsample.cmd_list.append(\"-vox\")\n",
    "            upsample.cmd_list.append(f\"{vox}\")\n",
    "            upsample.cmd_list.append(upsampled_mif.file)\n",
    "\n",
    "            upsample.check_dependency()\n",
    "            upsample.run(self.log)\n",
    "            return upsampled_mif\n",
    "        except DependencyError:\n",
    "            upsample = Command(\"mrgrid\") \n",
    "            upsample.cmd_list.append(mif.file)\n",
    "            upsample.cmd_list.append(\"regrid\")\n",
    "            upsample.cmd_list.append(upsampled_mif.file)\n",
    "            upsample.cmd_list.append(\"-voxel\")\n",
    "            upsample.cmd_list.append(f\"{vox}\")\n",
    "            \n",
    "            upsample.check_dependency()\n",
    "            upsample.run(self.log)\n",
    "            return upsampled_mif\n",
    "    \n",
    "    def create_mask(self,\n",
    "                    mif: Mif,\n",
    "                    frac_int: float = 0.5,\n",
    "                    gzip: bool = False,\n",
    "                    cleanup: bool = True\n",
    "                   ) -> Tuple[Mif,Mif,Mif]:\n",
    "        '''doc-string'''\n",
    "        [path, _filename, _ext] = self.nii_file.file_parts()\n",
    "        [_path, filename, ext] = mif.file_parts() # Keep original file extension\n",
    "        \n",
    "        if \".gz\" in mif.file:\n",
    "            gzip = True\n",
    "        \n",
    "        file_head = filename + \"_head\"\n",
    "        filename = filename + \"_brain\"\n",
    "        file_mask = filename + \"_mask\"\n",
    "        \n",
    "        brain_mif = os.path.join(path,filename + ext)\n",
    "        mask_mif = os.path.join(path,file_mask + ext)\n",
    "        head_mif = os.path.join(path,file_head + ext)\n",
    "        \n",
    "        brain_mif = self.Mif(brain_mif,gzip=gzip)\n",
    "        mask_mif: Mif = self.Mif(mask_mif,gzip=gzip)\n",
    "        head_mif: Mif = self.Mif(head_mif,gzip=gzip)\n",
    "            \n",
    "        # Create temporary directory\n",
    "        work_dir: TmpDir = TmpDir(tmp_dir=path,use_cwd=False)\n",
    "        work_dir.mk_tmp_dir()\n",
    "        \n",
    "        tmp_b0s: TmpFile = work_dir.TmpFile(tmp_file=\"tmp_B0s\" + _ext,\n",
    "                                            tmp_dir=work_dir.tmp_dir)\n",
    "        \n",
    "        tmp_b0: TmpFile = work_dir.TmpFile(tmp_file=\"tmp_B0\" + _ext,\n",
    "                                           tmp_dir=work_dir.tmp_dir)\n",
    "        \n",
    "        tmp_mask: TmpFile = work_dir.TmpFile(tmp_file=tmp_b0.rm_ext(ext=_ext) + \n",
    "                                             \"_brain\" + _ext,\n",
    "                                             tmp_dir=work_dir.tmp_dir)\n",
    "        \n",
    "        # Extract B0s\n",
    "        extract_b0s = Command(\"dwiextract\")\n",
    "        extract_b0s.cmd_list.append(\"-bzero\")\n",
    "        extract_b0s.cmd_list.append(mif.file)\n",
    "        extract_b0s.cmd_list.append(tmp_b0s.file)\n",
    "        extract_b0s.run(self.log)\n",
    "        \n",
    "        # Merge B0s, by obtaining mean of images\n",
    "        merge_b0s = Command(\"fslmaths\")\n",
    "        merge_b0s.cmd_list.append(tmp_b0s.file)\n",
    "        merge_b0s.cmd_list.append(\"-Tmean\")\n",
    "        merge_b0s.cmd_list.append(tmp_b0.file)\n",
    "        merge_b0s.run(self.log)\n",
    "        \n",
    "        # Create brain mask\n",
    "        bet = Command(\"bet\")\n",
    "        bet.cmd_list.append(tmp_b0.file)\n",
    "        bet.cmd_list.append(tmp_mask.file)\n",
    "        bet.cmd_list.append(\"-R\")\n",
    "        bet.cmd_list.append(\"-m\")\n",
    "        bet.cmd_list.append(\"-f\")\n",
    "        bet.cmd_list.append(f\"{frac_int}\")\n",
    "        bet.run(self.log)\n",
    "        \n",
    "        # Convert NIFTI to MIF\n",
    "        mr_convert = Command(\"mrconvert\")\n",
    "        mr_convert.cmd_list.append(tmp_mask.rm_ext(ext=_ext) + \"_mask.nii.gz\")\n",
    "        mr_convert.cmd_list.append(mask_mif.file)\n",
    "        mr_convert.run(self.log)\n",
    "        \n",
    "        mr_convert = Command(\"mrconvert\")\n",
    "        mr_convert.cmd_list.append(tmp_mask.file)\n",
    "        mr_convert.cmd_list.append(brain_mif.file)\n",
    "        mr_convert.run(self.log)\n",
    "        \n",
    "        mr_convert = Command(\"mrconvert\")\n",
    "        mr_convert.cmd_list.append(tmp_b0.file)\n",
    "        mr_convert.cmd_list.append(head_mif.file)\n",
    "        mr_convert.run(self.log)\n",
    "        \n",
    "        # Clean-up\n",
    "        if cleanup:\n",
    "            work_dir.rm_tmp_dir(rm_parent=False)\n",
    "        \n",
    "        return mask_mif,brain_mif,head_mif\n",
    "        \n",
    "    def ss3t_csd(self,\n",
    "                 mif: Mif,\n",
    "                 mask: Mif,\n",
    "                 wm_res: File,\n",
    "                 gm_res: File,\n",
    "                 csf_res: File,\n",
    "                 gzip: bool = False) -> Tuple[Mif,Mif,Mif]:\n",
    "        '''doc-string'''\n",
    "        [path, _filename, _ext] = self.nii_file.file_parts()\n",
    "        [_path, filename, ext] = mif.file_parts() # Keep original file extension\n",
    "        \n",
    "        if \".gz\" in mif.file:\n",
    "            gzip = True\n",
    "        \n",
    "        wm_fod = filename + \"_wm_fod\"\n",
    "        gm_tis = filename + \"_gm_tis\"\n",
    "        csf_tis = filename + \"_csf_tis\"\n",
    "        \n",
    "        wm_fod: str = os.path.join(path,wm_fod + ext)\n",
    "        gm_tis: str = os.path.join(path,gm_tis + ext)\n",
    "        csf_tis: str = os.path.join(path,csf_tis + ext)\n",
    "        \n",
    "        wm_fod: Mif = self.Mif(wm_fod,gzip=gzip)\n",
    "        gm_tis: Mif = self.Mif(gm_tis,gzip=gzip)\n",
    "        csf_tis: Mif = self.Mif(csf_tis,gzip=gzip)\n",
    "        \n",
    "        # Compute WM FOD\n",
    "        ss3t = Command(\"ss3t_csd_beta1\")\n",
    "        ss3t.cmd_list.append(mif.file)\n",
    "        ss3t.cmd_list.append(wm_res.file)\n",
    "        ss3t.cmd_list.append(wm_fod.file)\n",
    "        ss3t.cmd_list.append(gm_res.file)\n",
    "        ss3t.cmd_list.append(gm_tis.file)\n",
    "        ss3t.cmd_list.append(csf_res.file)\n",
    "        ss3t.cmd_list.append(csf_tis.file)\n",
    "        ss3t.cmd_list.append(\"-mask\")\n",
    "        ss3t.cmd_list.append(mask.file)\n",
    "        ss3t.run(self.log)\n",
    "        return wm_fod, gm_tis, csf_tis\n",
    "    \n",
    "    def bias_field_correction(self,\n",
    "                              wm_fod: Mif,\n",
    "                              gm_tis: Mif,\n",
    "                              csf_tis: Mif,\n",
    "                              mask: Mif, \n",
    "                              gzip: bool = False\n",
    "                             ) -> Tuple[Mif,Mif,Mif]:\n",
    "        '''doc-string'''\n",
    "        [path, filename, _ext] = self.nii_file.file_parts()\n",
    "        \n",
    "        if \".gz\" in wm_fod.file:\n",
    "            gzip = True\n",
    "            ext = \".mif.gz\"\n",
    "        else:\n",
    "            ext = \".mif\"\n",
    "        \n",
    "        wm_fod_norm = filename + \"_wm_fod_norm\"\n",
    "        gm_tis_norm = filename + \"_gm_tis_norm\"\n",
    "        csf_tis_norm = filename + \"_csf_tis_norm\"\n",
    "        \n",
    "        wm_fod_norm: str = os.path.join(path,wm_fod_norm + ext)\n",
    "        gm_tis_norm: str = os.path.join(path,gm_tis_norm + ext)\n",
    "        csf_tis_norm: str = os.path.join(path,csf_tis_norm + ext)\n",
    "        \n",
    "        wm_fod_norm: Mif = self.Mif(wm_fod_norm,gzip=gzip)\n",
    "        gm_tis_norm: Mif = self.Mif(gm_tis_norm,gzip=gzip)\n",
    "        csf_tis_norm: Mif = self.Mif(csf_tis_norm,gzip=gzip)\n",
    "            \n",
    "        # Perform joint bias field correction\n",
    "        bias_correct = Command(\"mtnormalise\")\n",
    "        bias_correct.cmd_list.append(wm_fod.file)\n",
    "        bias_correct.cmd_list.append(wm_fod_norm.file)\n",
    "        bias_correct.cmd_list.append(gm_tis.file)\n",
    "        bias_correct.cmd_list.append(gm_tis_norm.file)\n",
    "        bias_correct.cmd_list.append(csf_tis.file)\n",
    "        bias_correct.cmd_list.append(csf_tis_norm.file)\n",
    "        bias_correct.cmd_list.append(\"-mask\")\n",
    "        bias_correct.cmd_list.append(mask.file)\n",
    "        bias_correct.run(self.log)\n",
    "        return wm_fod_norm, gm_tis_norm, csf_tis_norm\n",
    "    \n",
    "    def compute_dec_map(self,\n",
    "                        wm_fod: Mif,\n",
    "                        gm_tis: Mif,\n",
    "                        csf_tis: Mif,\n",
    "                        mask: Mif,\n",
    "                        gzip: bool = False) -> Tuple[Mif,Mif]:\n",
    "        '''doc-string\n",
    "        Todo:\n",
    "            * write shell script to produce vf maps\n",
    "        '''\n",
    "        [path, filename, _ext] = self.nii_file.file_parts()\n",
    "        \n",
    "        if \".gz\" in wm_fod.file:\n",
    "            gzip = True\n",
    "            ext = \".mif.gz\"\n",
    "        else:\n",
    "            ext = \".mif\"\n",
    "        \n",
    "        # Create output filenames\n",
    "        dec = os.path.join(path,filename + \"_dec\" + ext)\n",
    "        dec: Mif = self.Mif(dec,gzip=gzip)\n",
    "        \n",
    "        vf = os.path.join(path,filename + \"_vf\" + ext)\n",
    "        vf: Mif = self.Mif(vf,gzip=gzip)\n",
    "            \n",
    "        # Compute DEC map\n",
    "        fod2dec = Command(\"fod2dec\")\n",
    "        fod2dec.cmd_list.append(wm_fod.file)\n",
    "        fod2dec.cmd_list.append(dec.file)\n",
    "        fod2dec.cmd_list.append(\"-mask\")\n",
    "        fod2dec.cmd_list.append(mask.file)\n",
    "        fod2dec.run(self.log)\n",
    "        \n",
    "        # Compute RGB tissue (signal contribution) maps\n",
    "        vf_calc = os.path.join(scripts_dir,\"dwi_extra.sh\")\n",
    "        rgb = Command(vf_calc)\n",
    "        rgb.cmd_list.append(\"--wm-fod\")\n",
    "        rgb.cmd_list.append(wm_fod.file)\n",
    "        rgb.cmd_list.append(\"--gm\")\n",
    "        rgb.cmd_list.append(gm_tis.file)\n",
    "        rgb.cmd_list.append(\"--csf\")\n",
    "        rgb.cmd_list.append(csf_tis.file)\n",
    "        rgb.cmd_list.append(\"--out-vf\")\n",
    "        rgb.cmd_list.append(vf.file)\n",
    "        rgb.run(self.log)\n",
    "        \n",
    "        return dec, vf\n",
    "    \n",
    "    def mr_tck_global(self,\n",
    "                      wm_fod: Mif,\n",
    "                      mask: Mif,\n",
    "                      stream_lines: int = 100000, \n",
    "                      cutoff: float = 0.07) -> File:\n",
    "        '''doc-string\n",
    "        Todo:\n",
    "            * investigate ACT for neonates\n",
    "        '''\n",
    "        [path, filename, _ext] = self.nii_file.file_parts()\n",
    "        \n",
    "        # Create output filenames\n",
    "        tck: str = os.path.join(path,filename + f\".{stream_lines}.streamlines\" + \".tck\")\n",
    "        tck: File = File(tck)\n",
    "        \n",
    "        # Construct tracts\n",
    "        tckgen = Command(\"tckgen\")\n",
    "        tckgen.cmd_list.append(wm_fod.file)\n",
    "        tckgen.cmd_list.append(tck.file)\n",
    "        tckgen.cmd_list.append(\"-seed_image\")\n",
    "        tckgen.cmd_list.append(mask.file)\n",
    "        tckgen.cmd_list.append(\"-select\")\n",
    "        tckgen.cmd_list.append(f\"{stream_lines}\")\n",
    "        tckgen.cmd_list.append(\"-cutoff\")\n",
    "        tckgen.cmd_list.append(f\"{cutoff}\")\n",
    "        tckgen.run(self.log)\n",
    "        \n",
    "        return tck\n",
    "    \n",
    "    def mr_tck_sift(self,\n",
    "                   tck: File,\n",
    "                   wm_fod: Mif,\n",
    "                   term: Union[int,None],\n",
    "                   mask: Mif = \"\") -> File:\n",
    "        '''doc-string'''\n",
    "        [path, filename, _ext] = self.nii_file.file_parts()\n",
    "        \n",
    "        # Create output filenames\n",
    "        tck_filt: str = os.path.join(path,filename + f\".{term}.streamlines.filtered\" + \".tck\")\n",
    "        tck_filt: File = File(tck_filt)\n",
    "        \n",
    "        # Filter tracks\n",
    "        filt = Command(\"tcksift\")\n",
    "        filt.cmd_list.append(tck.file)\n",
    "        filt.cmd_list.append(wm_fod.file)\n",
    "        filt.cmd_list.append(tck_filt.file)\n",
    "        \n",
    "        if mask:\n",
    "            filt.cmd_list.append(\"-proc_mask\")\n",
    "            filt.cmd_list.append(mask.file)\n",
    "        \n",
    "        if term:\n",
    "            filt.cmd_list.append(\"-term_number\")\n",
    "            filt.cmd_list.append(f\"{term}\")\n",
    "        \n",
    "        filt.run(self.log)\n",
    "        \n",
    "        return tck_filt\n",
    "        \n",
    "        \n",
    "    \n",
    "    # write visualization functions later"
   ]
  },
  {
   "cell_type": "code",
   "execution_count": 4,
   "metadata": {},
   "outputs": [],
   "source": [
    "class DWIxfm(object):\n",
    "    '''class doc-string'''\n",
    "    \n",
    "    dwi_file: NiiFile = \"\"\n",
    "    dwi_bval: File = \"\"\n",
    "    dwi_bvec: File = \"\"\n",
    "    dwi_json: File = \"\"\n",
    "    \n",
    "    template: NiiFile = \"\"\n",
    "    template_brain:NiiFile = \"\"\n",
    "    labels: NiiFile = \"\"\n",
    "    \n",
    "    log: LogFile = \"\"\n",
    "    \n",
    "    def __init__(self,\n",
    "                 dwi_file: str,\n",
    "                 dwi_bval: str,\n",
    "                 dwi_bvec: str,\n",
    "                 template: str,\n",
    "                 template_brain: str,\n",
    "                 labels: str,\n",
    "                 log:str,\n",
    "                 dwi_json: str = \"\"):\n",
    "        '''doc-string'''\n",
    "        self.dwi_file: str = dwi_file\n",
    "        self.dwi_bval: str = dwi_bval\n",
    "        self.dwi_bvec: str = dwi_bvec\n",
    "        self.dwi_json: str = dwi_json\n",
    "        self.template: str = template\n",
    "        self.template_brain: str = template_brain\n",
    "        self.labels: str = labels\n",
    "        self.log: str = log\n",
    "\n",
    "        self.dwi_file: NiiFile = NiiFile(self.dwi_file)\n",
    "        self.dwi_bval: File = File(self.dwi_bval)\n",
    "        self.dwi_bvec: File = File(self.dwi_bvec)\n",
    "        self.dwi_json: File = File(self.dwi_json)\n",
    "        self.template: NiiFile = NiiFile(self.template)\n",
    "        self.template_brain: NiiFile = NiiFile(self.template_brain)\n",
    "        self.labels: NiiFile = NiiFile(self.labels)\n",
    "        self.log: LogFile = LogFile(self.log)\n",
    "            \n",
    "    def mask_dwi(self,\n",
    "                frac_int: float = 0.5\n",
    "                ) -> Tuple[NiiFile,NiiFile,NiiFile]:\n",
    "        '''doc-string'''\n",
    "        [path, filename, ext] = self.dwi_file.file_parts()\n",
    "        \n",
    "        brain: str = os.path.join(path,filename + \"_brain\" + ext)\n",
    "        mask: str = os.path.join(path,filename + \"_brain_mask\" + ext)\n",
    "        head: str = os.path.join(path,filename + \"_head\" + ext)\n",
    "        \n",
    "        brain: NiiFile = NiiFile(brain)\n",
    "        mask: NiiFile = NiiFile(mask)\n",
    "        head: NiiFile = NiiFile(head)\n",
    "        \n",
    "        dwi = ReconMRtrix(self.dwi_file.file,\n",
    "                         self.dwi_bval.file,\n",
    "                         self.dwi_bvec.file,\n",
    "                         self.dwi_json.file,\n",
    "                         self.log)\n",
    "        \n",
    "        mif_file = dwi.nifti_to_mif()\n",
    "        \n",
    "        [mask_mif,brain_mif,head_mif] = dwi.create_mask(mif_file,frac_int)\n",
    "        \n",
    "        # Convert NIFTI to MIF\n",
    "        mr_convert = Command(\"mrconvert\")\n",
    "        mr_convert.cmd_list.append(mask_mif.file)\n",
    "        mr_convert.cmd_list.append(mask.file)\n",
    "        mr_convert.run(self.log)\n",
    "        \n",
    "        mr_convert = Command(\"mrconvert\")\n",
    "        mr_convert.cmd_list.append(brain_mif.file)\n",
    "        mr_convert.cmd_list.append(brain.file)\n",
    "        mr_convert.run(self.log)\n",
    "        \n",
    "        mr_convert = Command(\"mrconvert\")\n",
    "        mr_convert.cmd_list.append(head_mif.file)\n",
    "        mr_convert.cmd_list.append(head.file)\n",
    "        mr_convert.run(self.log)\n",
    "        \n",
    "        # Clean-up\n",
    "        os.remove(mask_mif.file)\n",
    "        os.remove(brain_mif.file)\n",
    "        os.remove(head_mif.file)\n",
    "        \n",
    "        return mask,brain,head\n",
    "\n",
    "#     def extract_b0s(self,):\n",
    "#         '''doc-string'''\n",
    "        \n",
    "#         bval_ind = np.loadtxt(self.dwi_bval.file)\n",
    "        \n",
    "    \n",
    "#     def create_mask(dwi,bval):\n",
    "#         '''doc-string'''\n",
    "    \n",
    "    def compute_linear_xfm(self,\n",
    "                           dwi_brain: NiiFile,\n",
    "                           dof: int = 12\n",
    "                          ) -> Tuple[File,NiiFile]:\n",
    "        '''doc-string'''\n",
    "        [path, filename, ext] = self.dwi_file.file_parts()\n",
    "        \n",
    "        xfm_mat: str = os.path.join(path,filename + f\".lin_xfm_{dof}_dof\" + \".mat\")\n",
    "        xfm_out: str = os.path.join(path,filename + f\".lin_xfm_{dof}_dof\" + ext)\n",
    "            \n",
    "        xfm_mat: File = File(xfm_mat)\n",
    "        xfm_out: NiiFile = NiiFile(xfm_out)\n",
    "        \n",
    "        lin_xfm = Command(\"flirt\")\n",
    "        lin_xfm.cmd_list.append(\"-in\")\n",
    "        lin_xfm.cmd_list.append(self.template_brain.abs_path())\n",
    "        lin_xfm.cmd_list.append(\"-ref\")\n",
    "        lin_xfm.cmd_list.append(dwi_brain.abs_path())\n",
    "        lin_xfm.cmd_list.append(\"-omat\")\n",
    "        lin_xfm.cmd_list.append(xfm_mat.file)\n",
    "        lin_xfm.cmd_list.append(\"-out\")\n",
    "        lin_xfm.cmd_list.append(xfm_out.file)\n",
    "        \n",
    "        lin_xfm.run(self.log)\n",
    "        \n",
    "        return xfm_mat,xfm_out\n",
    "    \n",
    "    def compute_non_linear_xfm(self,\n",
    "                               xfm_mat: File,\n",
    "                               dwi_head: NiiFile\n",
    "                              ) -> Tuple[NiiFile,NiiFile,NiiFile]:\n",
    "        '''doc-string'''\n",
    "        [path, filename, ext] = self.dwi_file.file_parts()\n",
    "        \n",
    "        nl_out: str = os.path.join(path,filename + f\".non-lin_xfm\" + ext)\n",
    "        nl_warp: str = os.path.join(path,filename + f\".non-lin_xfm.warp_field\" + ext)\n",
    "        nl_wpcf: str = os.path.join(path,filename + f\".non-lin_xfm.warp_field_coeff\" + ext)\n",
    "        \n",
    "        nl_out: NiiFile = NiiFile(nl_out)\n",
    "        nl_warp: NiiFile = NiiFile(nl_warp)\n",
    "        nl_wpcf: NiiFile = NiiFile(nl_wpcf)\n",
    "        \n",
    "        non_lin = Command(\"fnirt\")\n",
    "        non_lin.cmd_list.append(f\"--in={self.template.abs_path()}\")\n",
    "        non_lin.cmd_list.append(f\"--ref={dwi_head.abs_path()}\")\n",
    "        non_lin.cmd_list.append(f\"--aff={xfm_mat.file}\")\n",
    "        non_lin.cmd_list.append(f\"--iout={nl_out.file}\")\n",
    "        non_lin.cmd_list.append(f\"--fout={nl_warp.file}\")\n",
    "        non_lin.cmd_list.append(f\"--cout={nl_wpcf.file}\")\n",
    "        non_lin.run(self.log)\n",
    "        \n",
    "        return nl_out,nl_warp,nl_wpcf\n",
    "        \n",
    "        \n",
    "    \n",
    "#     def compute_combined_xfm():\n",
    "#         '''doc-string:\n",
    "#         computes combined linear and non-linear transform.'''\n",
    "    \n",
    "    def applywarp(self,\n",
    "                  dwi_head: NiiFile,\n",
    "                  non_lin_warp: NiiFile,\n",
    "                  interp: str = \"\",\n",
    "                  rel: bool = True,\n",
    "                  premat: Optional[File] = None,\n",
    "                 ) -> NiiFile:\n",
    "        '''doc-string'''\n",
    "        [path, filename, ext] = self.dwi_file.file_parts()\n",
    "        \n",
    "        out: str = os.path.join(path,filename + f\".labels.non-linear\" + ext)\n",
    "        out: NiiFile = NiiFile(out)\n",
    "        \n",
    "        warp = Command(\"applywarp\")\n",
    "        warp.cmd_list.append(f\"--in={self.labels.abs_path()}\")\n",
    "        warp.cmd_list.append(f\"--ref={dwi_head.abs_path()}\")\n",
    "        warp.cmd_list.append(f\"--warp={non_lin_warp.abs_path()}\")\n",
    "        warp.cmd_list.append(f\"--out={out.file}\")\n",
    "        \n",
    "        if premat:\n",
    "            warp.cmd_list.append(f\"--premat={premat.abs_path()}\")\n",
    "        \n",
    "        if interp:\n",
    "            warp.cmd_list.append(f\"--interp={interp}\")\n",
    "        \n",
    "        if rel:\n",
    "            warp.cmd_list.append(\"--rel\")\n",
    "        else:\n",
    "            warp.cmd_list.append(\"--abs\")\n",
    "        \n",
    "        warp.run(self.log)\n",
    "        \n",
    "        return out"
   ]
  },
  {
   "cell_type": "code",
   "execution_count": 6,
   "metadata": {},
   "outputs": [],
   "source": [
    "class ReconDTK(object):\n",
    "    '''class doc-string'''\n",
    "    \n",
    "    def __init__(self):\n",
    "        '''doc-string'''\n",
    "    \n",
    "    def dti_fit(dwi,mask,bvec,bval,threshold):\n",
    "        '''doc-string'''\n",
    "    \n",
    "    def create_mask(dwi,bval):\n",
    "        '''doc-string'''\n",
    "    \n",
    "    def extract_b0s(dwi,bval):\n",
    "        '''doc-string'''\n",
    "        # DWIxfm.extract_b0s\n",
    "    \n",
    "    def dti_recon(dwi,mask,threshold):\n",
    "        '''doc-string'''\n",
    "    \n",
    "    # write visualization functions later"
   ]
  },
  {
   "cell_type": "code",
   "execution_count": null,
   "metadata": {},
   "outputs": [],
   "source": []
  },
  {
   "cell_type": "code",
   "execution_count": 5,
   "metadata": {},
   "outputs": [],
   "source": [
    "f = \"../sub-C01/ses-001/dwi/bval-b2000_run-01/sub-C01_ses-001_bval-b2000_run-01_dwi.nii.gz\"\n",
    "b = \"../sub-C01/ses-001/dwi/bval-b2000_run-01/sub-C01_ses-001_bval-b2000_run-01_dwi.bval\"\n",
    "e = \"../sub-C01/ses-001/dwi/bval-b2000_run-01/sub-C01_ses-001_bval-b2000_run-01_dwi.bvec\"\n",
    "j = \"../sub-C01/ses-001/dwi/bval-b2000_run-01/sub-C01_ses-001_bval-b2000_run-01_dwi.json\"\n",
    "log = \"sub-test.log\""
   ]
  },
  {
   "cell_type": "code",
   "execution_count": 6,
   "metadata": {},
   "outputs": [],
   "source": [
    "template = \"../UNC_AAL/infant-neo_1mm.nii\"\n",
    "labels = \"../UNC_AAL/infant-neo-aal.nii\"\n",
    "template_brain = \"../UNC_AAL/infant-neo_1mm_brain.nii\""
   ]
  },
  {
   "cell_type": "code",
   "execution_count": 7,
   "metadata": {},
   "outputs": [],
   "source": [
    "work_tmp = TmpDir(\"work.tmp\",use_cwd=True)"
   ]
  },
  {
   "cell_type": "code",
   "execution_count": 10,
   "metadata": {},
   "outputs": [],
   "source": [
    "# work_tmp.rm_tmp_dir(rm_parent=True)\n",
    "# os.remove(log)"
   ]
  },
  {
   "cell_type": "code",
   "execution_count": 8,
   "metadata": {},
   "outputs": [],
   "source": [
    "f_tmp = work_tmp.TmpFile(os.path.basename(f),work_tmp.tmp_dir)\n",
    "b_tmp = work_tmp.TmpFile(os.path.basename(b),work_tmp.tmp_dir)\n",
    "e_tmp = work_tmp.TmpFile(os.path.basename(e),work_tmp.tmp_dir)\n",
    "j_tmp = work_tmp.TmpFile(os.path.basename(j),work_tmp.tmp_dir)"
   ]
  },
  {
   "cell_type": "code",
   "execution_count": 9,
   "metadata": {},
   "outputs": [],
   "source": [
    "work_tmp.mk_tmp_dir()"
   ]
  },
  {
   "cell_type": "code",
   "execution_count": 10,
   "metadata": {},
   "outputs": [
    {
     "data": {
      "text/plain": [
       "'/mnt/c/Users/smart/Desktop/IRC317H_NAS/dti/data.dti/xfm_tck/work.tmp/tmp_dir_1215/sub-C01_ses-001_bval-b2000_run-01_dwi.json'"
      ]
     },
     "execution_count": 10,
     "metadata": {},
     "output_type": "execute_result"
    }
   ],
   "source": [
    "copy(f,f_tmp.file)\n",
    "copy(b,b_tmp.file)\n",
    "copy(e,e_tmp.file)\n",
    "copy(j,j_tmp.file)"
   ]
  },
  {
   "cell_type": "code",
   "execution_count": 11,
   "metadata": {
    "scrolled": true
   },
   "outputs": [],
   "source": [
    "dwi = DWIxfm(f_tmp.file,\n",
    "             b_tmp.file,\n",
    "             e_tmp.file,\n",
    "             template,\n",
    "             template_brain,\n",
    "             labels,\n",
    "             log,\n",
    "             j_tmp.file)"
   ]
  },
  {
   "cell_type": "code",
   "execution_count": 12,
   "metadata": {
    "scrolled": true
   },
   "outputs": [
    {
     "name": "stderr",
     "output_type": "stream",
     "text": [
      "Running: mrconvert -json_import /mnt/c/Users/smart/Desktop/IRC317H_NAS/dti/data.dti/xfm_tck/work.tmp/tmp_dir_1215/sub-C01_ses-001_bval-b2000_run-01_dwi.json -fslgrad /mnt/c/Users/smart/Desktop/IRC317H_NAS/dti/data.dti/xfm_tck/work.tmp/tmp_dir_1215/sub-C01_ses-001_bval-b2000_run-01_dwi.bvec /mnt/c/Users/smart/Desktop/IRC317H_NAS/dti/data.dti/xfm_tck/work.tmp/tmp_dir_1215/sub-C01_ses-001_bval-b2000_run-01_dwi.bval /mnt/c/Users/smart/Desktop/IRC317H_NAS/dti/data.dti/xfm_tck/work.tmp/tmp_dir_1215/sub-C01_ses-001_bval-b2000_run-01_dwi.nii.gz /mnt/c/Users/smart/Desktop/IRC317H_NAS/dti/data.dti/xfm_tck/work.tmp/tmp_dir_1215/sub-C01_ses-001_bval-b2000_run-01_dwi.mif\n",
      "Running: mrconvert -json_import /mnt/c/Users/smart/Desktop/IRC317H_NAS/dti/data.dti/xfm_tck/work.tmp/tmp_dir_1215/sub-C01_ses-001_bval-b2000_run-01_dwi.json -fslgrad /mnt/c/Users/smart/Desktop/IRC317H_NAS/dti/data.dti/xfm_tck/work.tmp/tmp_dir_1215/sub-C01_ses-001_bval-b2000_run-01_dwi.bvec /mnt/c/Users/smart/Desktop/IRC317H_NAS/dti/data.dti/xfm_tck/work.tmp/tmp_dir_1215/sub-C01_ses-001_bval-b2000_run-01_dwi.bval /mnt/c/Users/smart/Desktop/IRC317H_NAS/dti/data.dti/xfm_tck/work.tmp/tmp_dir_1215/sub-C01_ses-001_bval-b2000_run-01_dwi.nii.gz /mnt/c/Users/smart/Desktop/IRC317H_NAS/dti/data.dti/xfm_tck/work.tmp/tmp_dir_1215/sub-C01_ses-001_bval-b2000_run-01_dwi.mif\n",
      "IOPub data rate exceeded.\n",
      "The notebook server will temporarily stop sending output\n",
      "to the client in order to avoid crashing it.\n",
      "To change this limit, set the config variable\n",
      "`--NotebookApp.iopub_data_rate_limit`.\n",
      "\n",
      "Current values:\n",
      "NotebookApp.iopub_data_rate_limit=1000000.0 (bytes/sec)\n",
      "NotebookApp.rate_limit_window=3.0 (secs)\n",
      "\n",
      "Running: dwiextract -bzero /mnt/c/Users/smart/Desktop/IRC317H_NAS/dti/data.dti/xfm_tck/work.tmp/tmp_dir_1215/sub-C01_ses-001_bval-b2000_run-01_dwi.mif /mnt/c/Users/smart/Desktop/IRC317H_NAS/dti/data.dti/xfm_tck/work.tmp/tmp_dir_1215/tmp_dir_7849/tmp_B0s.nii.gz\n",
      "Running: dwiextract -bzero /mnt/c/Users/smart/Desktop/IRC317H_NAS/dti/data.dti/xfm_tck/work.tmp/tmp_dir_1215/sub-C01_ses-001_bval-b2000_run-01_dwi.mif /mnt/c/Users/smart/Desktop/IRC317H_NAS/dti/data.dti/xfm_tck/work.tmp/tmp_dir_1215/tmp_dir_7849/tmp_B0s.nii.gz\n",
      "dwiextract: [100%] extracting volumes\u001b[0K\u001b[0K\u001b[?7h\u001b[?7l\n",
      "dwiextract: [100%] compressing image \"/mnt/c/Users/smart/Desktop/IRC317H_NAS/dti/data.dti/xfm_tck/work.tmp/tmp_dir_1215/tmp_dir_7849/tmp_B0s.nii.gz\"\u001b[0K\u001b[0K\u001b[?7h\u001b[?7l\n",
      "\n",
      "dwiextract: [100%] extracting volumes\u001b[0K\u001b[0K\u001b[?7h\u001b[?7l\n",
      "dwiextract: [100%] compressing image \"/mnt/c/Users/smart/Desktop/IRC317H_NAS/dti/data.dti/xfm_tck/work.tmp/tmp_dir_1215/tmp_dir_7849/tmp_B0s.nii.gz\"\u001b[0K\u001b[0K\u001b[?7h\u001b[?7l\n",
      "\n",
      "Running: fslmaths /mnt/c/Users/smart/Desktop/IRC317H_NAS/dti/data.dti/xfm_tck/work.tmp/tmp_dir_1215/tmp_dir_7849/tmp_B0s.nii.gz -Tmean /mnt/c/Users/smart/Desktop/IRC317H_NAS/dti/data.dti/xfm_tck/work.tmp/tmp_dir_1215/tmp_dir_7849/tmp_B0.nii.gz\n",
      "Running: fslmaths /mnt/c/Users/smart/Desktop/IRC317H_NAS/dti/data.dti/xfm_tck/work.tmp/tmp_dir_1215/tmp_dir_7849/tmp_B0s.nii.gz -Tmean /mnt/c/Users/smart/Desktop/IRC317H_NAS/dti/data.dti/xfm_tck/work.tmp/tmp_dir_1215/tmp_dir_7849/tmp_B0.nii.gz\n",
      "Running: bet /mnt/c/Users/smart/Desktop/IRC317H_NAS/dti/data.dti/xfm_tck/work.tmp/tmp_dir_1215/tmp_dir_7849/tmp_B0.nii.gz /mnt/c/Users/smart/Desktop/IRC317H_NAS/dti/data.dti/xfm_tck/work.tmp/tmp_dir_1215/tmp_dir_7849/tmp_B0_brain.nii.gz -R -m -f 0.5\n",
      "Running: bet /mnt/c/Users/smart/Desktop/IRC317H_NAS/dti/data.dti/xfm_tck/work.tmp/tmp_dir_1215/tmp_dir_7849/tmp_B0.nii.gz /mnt/c/Users/smart/Desktop/IRC317H_NAS/dti/data.dti/xfm_tck/work.tmp/tmp_dir_1215/tmp_dir_7849/tmp_B0_brain.nii.gz -R -m -f 0.5\n",
      "Running: mrconvert /mnt/c/Users/smart/Desktop/IRC317H_NAS/dti/data.dti/xfm_tck/work.tmp/tmp_dir_1215/tmp_dir_7849/tmp_B0_brain_mask.nii.gz /mnt/c/Users/smart/Desktop/IRC317H_NAS/dti/data.dti/xfm_tck/work.tmp/tmp_dir_1215/sub-C01_ses-001_bval-b2000_run-01__brain_mask.mif\n",
      "Running: mrconvert /mnt/c/Users/smart/Desktop/IRC317H_NAS/dti/data.dti/xfm_tck/work.tmp/tmp_dir_1215/tmp_dir_7849/tmp_B0_brain_mask.nii.gz /mnt/c/Users/smart/Desktop/IRC317H_NAS/dti/data.dti/xfm_tck/work.tmp/tmp_dir_1215/sub-C01_ses-001_bval-b2000_run-01__brain_mask.mif\n",
      "mrconvert: [100%] uncompressing image \"/mnt/c/Users/smart/Desktop/IRC317H_NAS/dti/data.dti/xfm_tck/work.tmp/tmp_dir_1215/tmp_dir_7849/tmp_B0_brain_mask.nii.gz\"\u001b[0K\u001b[0K\u001b[?7h\u001b[?7l\n",
      "mrconvert: [100%] copying from \"/mnt/c/Use...49/tmp_B0_brain_mask.nii.gz\" to \"/mnt/c/Use...2000_run-01__brain_mask.mif\"\u001b[0K\u001b[0K\u001b[?7h\u001b[?7l\n",
      "\n",
      "mrconvert: [100%] uncompressing image \"/mnt/c/Users/smart/Desktop/IRC317H_NAS/dti/data.dti/xfm_tck/work.tmp/tmp_dir_1215/tmp_dir_7849/tmp_B0_brain_mask.nii.gz\"\u001b[0K\u001b[0K\u001b[?7h\u001b[?7l\n",
      "mrconvert: [100%] copying from \"/mnt/c/Use...49/tmp_B0_brain_mask.nii.gz\" to \"/mnt/c/Use...2000_run-01__brain_mask.mif\"\u001b[0K\u001b[0K\u001b[?7h\u001b[?7l\n",
      "\n",
      "Running: mrconvert /mnt/c/Users/smart/Desktop/IRC317H_NAS/dti/data.dti/xfm_tck/work.tmp/tmp_dir_1215/tmp_dir_7849/tmp_B0_brain.nii.gz /mnt/c/Users/smart/Desktop/IRC317H_NAS/dti/data.dti/xfm_tck/work.tmp/tmp_dir_1215/sub-C01_ses-001_bval-b2000_run-01__brain.mif\n",
      "Running: mrconvert /mnt/c/Users/smart/Desktop/IRC317H_NAS/dti/data.dti/xfm_tck/work.tmp/tmp_dir_1215/tmp_dir_7849/tmp_B0_brain.nii.gz /mnt/c/Users/smart/Desktop/IRC317H_NAS/dti/data.dti/xfm_tck/work.tmp/tmp_dir_1215/sub-C01_ses-001_bval-b2000_run-01__brain.mif\n",
      "mrconvert: [100%] uncompressing image \"/mnt/c/Users/smart/Desktop/IRC317H_NAS/dti/data.dti/xfm_tck/work.tmp/tmp_dir_1215/tmp_dir_7849/tmp_B0_brain.nii.gz\"\u001b[0K\u001b[0K\u001b[?7h\u001b[?7l\n",
      "mrconvert: [100%] copying from \"/mnt/c/Use...ir_7849/tmp_B0_brain.nii.gz\" to \"/mnt/c/Use...val-b2000_run-01__brain.mif\"\u001b[0K\u001b[0K\u001b[?7h\u001b[?7l\n",
      "\n",
      "mrconvert: [100%] uncompressing image \"/mnt/c/Users/smart/Desktop/IRC317H_NAS/dti/data.dti/xfm_tck/work.tmp/tmp_dir_1215/tmp_dir_7849/tmp_B0_brain.nii.gz\"\u001b[0K\u001b[0K\u001b[?7h\u001b[?7l\n",
      "mrconvert: [100%] copying from \"/mnt/c/Use...ir_7849/tmp_B0_brain.nii.gz\" to \"/mnt/c/Use...val-b2000_run-01__brain.mif\"\u001b[0K\u001b[0K\u001b[?7h\u001b[?7l\n",
      "\n",
      "Running: mrconvert /mnt/c/Users/smart/Desktop/IRC317H_NAS/dti/data.dti/xfm_tck/work.tmp/tmp_dir_1215/tmp_dir_7849/tmp_B0.nii.gz /mnt/c/Users/smart/Desktop/IRC317H_NAS/dti/data.dti/xfm_tck/work.tmp/tmp_dir_1215/sub-C01_ses-001_bval-b2000_run-01__head.mif\n",
      "Running: mrconvert /mnt/c/Users/smart/Desktop/IRC317H_NAS/dti/data.dti/xfm_tck/work.tmp/tmp_dir_1215/tmp_dir_7849/tmp_B0.nii.gz /mnt/c/Users/smart/Desktop/IRC317H_NAS/dti/data.dti/xfm_tck/work.tmp/tmp_dir_1215/sub-C01_ses-001_bval-b2000_run-01__head.mif\n",
      "mrconvert: [100%] uncompressing image \"/mnt/c/Users/smart/Desktop/IRC317H_NAS/dti/data.dti/xfm_tck/work.tmp/tmp_dir_1215/tmp_dir_7849/tmp_B0.nii.gz\"\u001b[0K\u001b[0K\u001b[?7h\u001b[?7l\n",
      "mrconvert: [100%] copying from \"/mnt/c/Use.../tmp_dir_7849/tmp_B0.nii.gz\" to \"/mnt/c/Use...bval-b2000_run-01__head.mif\"\u001b[0K\u001b[0K\u001b[?7h\u001b[?7l\n",
      "\n",
      "mrconvert: [100%] uncompressing image \"/mnt/c/Users/smart/Desktop/IRC317H_NAS/dti/data.dti/xfm_tck/work.tmp/tmp_dir_1215/tmp_dir_7849/tmp_B0.nii.gz\"\u001b[0K\u001b[0K\u001b[?7h\u001b[?7l\n",
      "mrconvert: [100%] copying from \"/mnt/c/Use.../tmp_dir_7849/tmp_B0.nii.gz\" to \"/mnt/c/Use...bval-b2000_run-01__head.mif\"\u001b[0K\u001b[0K\u001b[?7h\u001b[?7l\n",
      "\n",
      "Running: mrconvert /mnt/c/Users/smart/Desktop/IRC317H_NAS/dti/data.dti/xfm_tck/work.tmp/tmp_dir_1215/sub-C01_ses-001_bval-b2000_run-01__brain_mask.mif /mnt/c/Users/smart/Desktop/IRC317H_NAS/dti/data.dti/xfm_tck/work.tmp/tmp_dir_1215/sub-C01_ses-001_bval-b2000_run-01_dwi_brain_mask.nii.gz\n",
      "Running: mrconvert /mnt/c/Users/smart/Desktop/IRC317H_NAS/dti/data.dti/xfm_tck/work.tmp/tmp_dir_1215/sub-C01_ses-001_bval-b2000_run-01__brain_mask.mif /mnt/c/Users/smart/Desktop/IRC317H_NAS/dti/data.dti/xfm_tck/work.tmp/tmp_dir_1215/sub-C01_ses-001_bval-b2000_run-01_dwi_brain_mask.nii.gz\n",
      "mrconvert: [100%] copying from \"/mnt/c/Use...2000_run-01__brain_mask.mif\" to \"/mnt/c/Use...un-01_dwi_brain_mask.nii.gz\"\u001b[0K\u001b[0K\u001b[?7h\u001b[?7l\n",
      "mrconvert: [100%] compressing image \"/mnt/c/Users/smart/Desktop/IRC317H_NAS/dti/data.dti/xfm_tck/work.tmp/tmp_dir_1215/sub-C01_ses-001_bval-b2000_run-01_dwi_brain_mask.nii.gz\"\u001b[0K\u001b[0K\u001b[?7h\u001b[?7l\n",
      "\n",
      "mrconvert: [100%] copying from \"/mnt/c/Use...2000_run-01__brain_mask.mif\" to \"/mnt/c/Use...un-01_dwi_brain_mask.nii.gz\"\u001b[0K\u001b[0K\u001b[?7h\u001b[?7l\n",
      "mrconvert: [100%] compressing image \"/mnt/c/Users/smart/Desktop/IRC317H_NAS/dti/data.dti/xfm_tck/work.tmp/tmp_dir_1215/sub-C01_ses-001_bval-b2000_run-01_dwi_brain_mask.nii.gz\"\u001b[0K\u001b[0K\u001b[?7h\u001b[?7l\n",
      "\n"
     ]
    },
    {
     "name": "stderr",
     "output_type": "stream",
     "text": [
      "Running: mrconvert /mnt/c/Users/smart/Desktop/IRC317H_NAS/dti/data.dti/xfm_tck/work.tmp/tmp_dir_1215/sub-C01_ses-001_bval-b2000_run-01__brain.mif /mnt/c/Users/smart/Desktop/IRC317H_NAS/dti/data.dti/xfm_tck/work.tmp/tmp_dir_1215/sub-C01_ses-001_bval-b2000_run-01_dwi_brain.nii.gz\n",
      "Running: mrconvert /mnt/c/Users/smart/Desktop/IRC317H_NAS/dti/data.dti/xfm_tck/work.tmp/tmp_dir_1215/sub-C01_ses-001_bval-b2000_run-01__brain.mif /mnt/c/Users/smart/Desktop/IRC317H_NAS/dti/data.dti/xfm_tck/work.tmp/tmp_dir_1215/sub-C01_ses-001_bval-b2000_run-01_dwi_brain.nii.gz\n",
      "mrconvert: [100%] copying from \"/mnt/c/Use...val-b2000_run-01__brain.mif\" to \"/mnt/c/Use...000_run-01_dwi_brain.nii.gz\"\u001b[0K\u001b[0K\u001b[?7h\u001b[?7l\n",
      "mrconvert: [100%] compressing image \"/mnt/c/Users/smart/Desktop/IRC317H_NAS/dti/data.dti/xfm_tck/work.tmp/tmp_dir_1215/sub-C01_ses-001_bval-b2000_run-01_dwi_brain.nii.gz\"\u001b[0K\u001b[0K\u001b[?7h\u001b[?7l\n",
      "\n",
      "mrconvert: [100%] copying from \"/mnt/c/Use...val-b2000_run-01__brain.mif\" to \"/mnt/c/Use...000_run-01_dwi_brain.nii.gz\"\u001b[0K\u001b[0K\u001b[?7h\u001b[?7l\n",
      "mrconvert: [100%] compressing image \"/mnt/c/Users/smart/Desktop/IRC317H_NAS/dti/data.dti/xfm_tck/work.tmp/tmp_dir_1215/sub-C01_ses-001_bval-b2000_run-01_dwi_brain.nii.gz\"\u001b[0K\u001b[0K\u001b[?7h\u001b[?7l\n",
      "\n",
      "Running: mrconvert /mnt/c/Users/smart/Desktop/IRC317H_NAS/dti/data.dti/xfm_tck/work.tmp/tmp_dir_1215/sub-C01_ses-001_bval-b2000_run-01__head.mif /mnt/c/Users/smart/Desktop/IRC317H_NAS/dti/data.dti/xfm_tck/work.tmp/tmp_dir_1215/sub-C01_ses-001_bval-b2000_run-01_dwi_head.nii.gz\n",
      "Running: mrconvert /mnt/c/Users/smart/Desktop/IRC317H_NAS/dti/data.dti/xfm_tck/work.tmp/tmp_dir_1215/sub-C01_ses-001_bval-b2000_run-01__head.mif /mnt/c/Users/smart/Desktop/IRC317H_NAS/dti/data.dti/xfm_tck/work.tmp/tmp_dir_1215/sub-C01_ses-001_bval-b2000_run-01_dwi_head.nii.gz\n",
      "mrconvert: [100%] copying from \"/mnt/c/Use...bval-b2000_run-01__head.mif\" to \"/mnt/c/Use...2000_run-01_dwi_head.nii.gz\"\u001b[0K\u001b[0K\u001b[?7h\u001b[?7l\n",
      "mrconvert: [100%] compressing image \"/mnt/c/Users/smart/Desktop/IRC317H_NAS/dti/data.dti/xfm_tck/work.tmp/tmp_dir_1215/sub-C01_ses-001_bval-b2000_run-01_dwi_head.nii.gz\"\u001b[0K\u001b[0K\u001b[?7h\u001b[?7l\n",
      "\n",
      "mrconvert: [100%] copying from \"/mnt/c/Use...bval-b2000_run-01__head.mif\" to \"/mnt/c/Use...2000_run-01_dwi_head.nii.gz\"\u001b[0K\u001b[0K\u001b[?7h\u001b[?7l\n",
      "mrconvert: [100%] compressing image \"/mnt/c/Users/smart/Desktop/IRC317H_NAS/dti/data.dti/xfm_tck/work.tmp/tmp_dir_1215/sub-C01_ses-001_bval-b2000_run-01_dwi_head.nii.gz\"\u001b[0K\u001b[0K\u001b[?7h\u001b[?7l\n",
      "\n"
     ]
    }
   ],
   "source": [
    "mask,brain,head = dwi.mask_dwi()"
   ]
  },
  {
   "cell_type": "code",
   "execution_count": 13,
   "metadata": {},
   "outputs": [
    {
     "data": {
      "text/plain": [
       "'/mnt/c/Users/smart/Desktop/IRC317H_NAS/dti/data.dti/UNC_AAL/infant-neo_1mm_brain.nii'"
      ]
     },
     "execution_count": 13,
     "metadata": {},
     "output_type": "execute_result"
    }
   ],
   "source": [
    "dwi.template_brain.abs_path()"
   ]
  },
  {
   "cell_type": "code",
   "execution_count": 14,
   "metadata": {},
   "outputs": [
    {
     "data": {
      "text/plain": [
       "'/mnt/c/Users/smart/Desktop/IRC317H_NAS/dti/data.dti/xfm_tck/work.tmp/tmp_dir_1215/sub-C01_ses-001_bval-b2000_run-01_dwi_brain.nii.gz'"
      ]
     },
     "execution_count": 14,
     "metadata": {},
     "output_type": "execute_result"
    }
   ],
   "source": [
    "brain.file"
   ]
  },
  {
   "cell_type": "code",
   "execution_count": 15,
   "metadata": {},
   "outputs": [
    {
     "data": {
      "text/plain": [
       "'/mnt/c/Users/smart/Desktop/IRC317H_NAS/dti/data.dti/xfm_tck/work.tmp/tmp_dir_1215/sub-C01_ses-001_bval-b2000_run-01_dwi_brain_mask.nii.gz'"
      ]
     },
     "execution_count": 15,
     "metadata": {},
     "output_type": "execute_result"
    }
   ],
   "source": [
    "mask.file"
   ]
  },
  {
   "cell_type": "code",
   "execution_count": 16,
   "metadata": {
    "scrolled": true
   },
   "outputs": [
    {
     "name": "stderr",
     "output_type": "stream",
     "text": [
      "Running: flirt -in /mnt/c/Users/smart/Desktop/IRC317H_NAS/dti/data.dti/UNC_AAL/infant-neo_1mm_brain.nii -ref /mnt/c/Users/smart/Desktop/IRC317H_NAS/dti/data.dti/xfm_tck/work.tmp/tmp_dir_1215/sub-C01_ses-001_bval-b2000_run-01_dwi_brain.nii.gz -omat /mnt/c/Users/smart/Desktop/IRC317H_NAS/dti/data.dti/xfm_tck/work.tmp/tmp_dir_1215/sub-C01_ses-001_bval-b2000_run-01_dwi.lin_xfm_12_dof.mat -out /mnt/c/Users/smart/Desktop/IRC317H_NAS/dti/data.dti/xfm_tck/work.tmp/tmp_dir_1215/sub-C01_ses-001_bval-b2000_run-01_dwi.lin_xfm_12_dof.nii.gz\n",
      "Running: flirt -in /mnt/c/Users/smart/Desktop/IRC317H_NAS/dti/data.dti/UNC_AAL/infant-neo_1mm_brain.nii -ref /mnt/c/Users/smart/Desktop/IRC317H_NAS/dti/data.dti/xfm_tck/work.tmp/tmp_dir_1215/sub-C01_ses-001_bval-b2000_run-01_dwi_brain.nii.gz -omat /mnt/c/Users/smart/Desktop/IRC317H_NAS/dti/data.dti/xfm_tck/work.tmp/tmp_dir_1215/sub-C01_ses-001_bval-b2000_run-01_dwi.lin_xfm_12_dof.mat -out /mnt/c/Users/smart/Desktop/IRC317H_NAS/dti/data.dti/xfm_tck/work.tmp/tmp_dir_1215/sub-C01_ses-001_bval-b2000_run-01_dwi.lin_xfm_12_dof.nii.gz\n"
     ]
    }
   ],
   "source": [
    "xfm_mat, xfm_out = dwi.compute_linear_xfm(brain,dof=12)"
   ]
  },
  {
   "cell_type": "code",
   "execution_count": 17,
   "metadata": {
    "scrolled": true
   },
   "outputs": [
    {
     "data": {
      "text/plain": [
       "'/mnt/c/Users/smart/Desktop/IRC317H_NAS/dti/data.dti/xfm_tck/work.tmp/tmp_dir_1215/sub-C01_ses-001_bval-b2000_run-01_dwi.lin_xfm_12_dof.mat'"
      ]
     },
     "execution_count": 17,
     "metadata": {},
     "output_type": "execute_result"
    }
   ],
   "source": [
    "xfm_mat.file"
   ]
  },
  {
   "cell_type": "code",
   "execution_count": 18,
   "metadata": {
    "scrolled": true
   },
   "outputs": [
    {
     "name": "stderr",
     "output_type": "stream",
     "text": [
      "Running: fnirt --in=/mnt/c/Users/smart/Desktop/IRC317H_NAS/dti/data.dti/UNC_AAL/infant-neo_1mm.nii --ref=/mnt/c/Users/smart/Desktop/IRC317H_NAS/dti/data.dti/xfm_tck/work.tmp/tmp_dir_1215/sub-C01_ses-001_bval-b2000_run-01_dwi_head.nii.gz --aff=/mnt/c/Users/smart/Desktop/IRC317H_NAS/dti/data.dti/xfm_tck/work.tmp/tmp_dir_1215/sub-C01_ses-001_bval-b2000_run-01_dwi.lin_xfm_12_dof.mat --iout=/mnt/c/Users/smart/Desktop/IRC317H_NAS/dti/data.dti/xfm_tck/work.tmp/tmp_dir_1215/sub-C01_ses-001_bval-b2000_run-01_dwi.non-lin_xfm.nii.gz --fout=/mnt/c/Users/smart/Desktop/IRC317H_NAS/dti/data.dti/xfm_tck/work.tmp/tmp_dir_1215/sub-C01_ses-001_bval-b2000_run-01_dwi.non-lin_xfm.warp_field.nii.gz --cout=/mnt/c/Users/smart/Desktop/IRC317H_NAS/dti/data.dti/xfm_tck/work.tmp/tmp_dir_1215/sub-C01_ses-001_bval-b2000_run-01_dwi.non-lin_xfm.warp_field_coeff.nii.gz\n",
      "Running: fnirt --in=/mnt/c/Users/smart/Desktop/IRC317H_NAS/dti/data.dti/UNC_AAL/infant-neo_1mm.nii --ref=/mnt/c/Users/smart/Desktop/IRC317H_NAS/dti/data.dti/xfm_tck/work.tmp/tmp_dir_1215/sub-C01_ses-001_bval-b2000_run-01_dwi_head.nii.gz --aff=/mnt/c/Users/smart/Desktop/IRC317H_NAS/dti/data.dti/xfm_tck/work.tmp/tmp_dir_1215/sub-C01_ses-001_bval-b2000_run-01_dwi.lin_xfm_12_dof.mat --iout=/mnt/c/Users/smart/Desktop/IRC317H_NAS/dti/data.dti/xfm_tck/work.tmp/tmp_dir_1215/sub-C01_ses-001_bval-b2000_run-01_dwi.non-lin_xfm.nii.gz --fout=/mnt/c/Users/smart/Desktop/IRC317H_NAS/dti/data.dti/xfm_tck/work.tmp/tmp_dir_1215/sub-C01_ses-001_bval-b2000_run-01_dwi.non-lin_xfm.warp_field.nii.gz --cout=/mnt/c/Users/smart/Desktop/IRC317H_NAS/dti/data.dti/xfm_tck/work.tmp/tmp_dir_1215/sub-C01_ses-001_bval-b2000_run-01_dwi.non-lin_xfm.warp_field_coeff.nii.gz\n",
      "Warning, Jacobian not within prescribed range. Prescription is 0.01 -- 100 and obtained range is -0.018779 -- 10.6071\n",
      "\n",
      "Warning, Jacobian not within prescribed range. Prescription is 0.01 -- 100 and obtained range is -0.018779 -- 10.6071\n",
      "\n"
     ]
    }
   ],
   "source": [
    "nl_out,nl_warp,nl_wpcf = dwi.compute_non_linear_xfm(xfm_mat,head)"
   ]
  },
  {
   "cell_type": "code",
   "execution_count": 19,
   "metadata": {
    "scrolled": true
   },
   "outputs": [
    {
     "name": "stderr",
     "output_type": "stream",
     "text": [
      "Running: applywarp --in=/mnt/c/Users/smart/Desktop/IRC317H_NAS/dti/data.dti/UNC_AAL/infant-neo-aal.nii --ref=/mnt/c/Users/smart/Desktop/IRC317H_NAS/dti/data.dti/xfm_tck/work.tmp/tmp_dir_1215/sub-C01_ses-001_bval-b2000_run-01_dwi_head.nii.gz --warp=/mnt/c/Users/smart/Desktop/IRC317H_NAS/dti/data.dti/xfm_tck/work.tmp/tmp_dir_1215/sub-C01_ses-001_bval-b2000_run-01_dwi.non-lin_xfm.warp_field.nii.gz --out=/mnt/c/Users/smart/Desktop/IRC317H_NAS/dti/data.dti/xfm_tck/work.tmp/tmp_dir_1215/sub-C01_ses-001_bval-b2000_run-01_dwi.labels.non-linear.nii.gz --interp=nn --rel\n",
      "Running: applywarp --in=/mnt/c/Users/smart/Desktop/IRC317H_NAS/dti/data.dti/UNC_AAL/infant-neo-aal.nii --ref=/mnt/c/Users/smart/Desktop/IRC317H_NAS/dti/data.dti/xfm_tck/work.tmp/tmp_dir_1215/sub-C01_ses-001_bval-b2000_run-01_dwi_head.nii.gz --warp=/mnt/c/Users/smart/Desktop/IRC317H_NAS/dti/data.dti/xfm_tck/work.tmp/tmp_dir_1215/sub-C01_ses-001_bval-b2000_run-01_dwi.non-lin_xfm.warp_field.nii.gz --out=/mnt/c/Users/smart/Desktop/IRC317H_NAS/dti/data.dti/xfm_tck/work.tmp/tmp_dir_1215/sub-C01_ses-001_bval-b2000_run-01_dwi.labels.non-linear.nii.gz --interp=nn --rel\n"
     ]
    }
   ],
   "source": [
    "labels = dwi.applywarp(head,nl_warp,\"nn\",True)"
   ]
  },
  {
   "cell_type": "code",
   "execution_count": 20,
   "metadata": {},
   "outputs": [
    {
     "data": {
      "text/plain": [
       "'/mnt/c/Users/smart/Desktop/IRC317H_NAS/dti/data.dti/xfm_tck/work.tmp/tmp_dir_1215/sub-C01_ses-001_bval-b2000_run-01_dwi.labels.non-linear.nii.gz'"
      ]
     },
     "execution_count": 20,
     "metadata": {},
     "output_type": "execute_result"
    }
   ],
   "source": [
    "labels.file"
   ]
  },
  {
   "cell_type": "code",
   "execution_count": null,
   "metadata": {},
   "outputs": [],
   "source": [
    "# MRtrix"
   ]
  },
  {
   "cell_type": "code",
   "execution_count": 21,
   "metadata": {},
   "outputs": [],
   "source": [
    "mm = ReconMRtrix(f_tmp.file,\n",
    "                 b_tmp.file,\n",
    "                 e_tmp.file,\n",
    "                 j_tmp.file,\n",
    "                 log)"
   ]
  },
  {
   "cell_type": "code",
   "execution_count": 22,
   "metadata": {},
   "outputs": [
    {
     "data": {
      "text/plain": [
       "'/mnt/c/Users/smart/Desktop/IRC317H_NAS/dti/data.dti/xfm_tck/work.tmp/tmp_dir_1215/sub-C01_ses-001_bval-b2000_run-01_dwi.nii.gz'"
      ]
     },
     "execution_count": 22,
     "metadata": {},
     "output_type": "execute_result"
    }
   ],
   "source": [
    "mm.nii_file.file"
   ]
  },
  {
   "cell_type": "code",
   "execution_count": 23,
   "metadata": {},
   "outputs": [
    {
     "data": {
      "text/plain": [
       "'/mnt/c/Users/smart/Desktop/IRC317H_NAS/dti/data.dti/xfm_tck/work.tmp/tmp_dir_1215/sub-C01_ses-001_bval-b2000_run-01_dwi.mif'"
      ]
     },
     "execution_count": 23,
     "metadata": {},
     "output_type": "execute_result"
    }
   ],
   "source": [
    "mf = mm.Mif(mm.nii_file.file)\n",
    "mf.file"
   ]
  },
  {
   "cell_type": "code",
   "execution_count": 24,
   "metadata": {
    "scrolled": true
   },
   "outputs": [
    {
     "name": "stderr",
     "output_type": "stream",
     "text": [
      "Running: mrconvert -force -json_import /mnt/c/Users/smart/Desktop/IRC317H_NAS/dti/data.dti/xfm_tck/work.tmp/tmp_dir_1215/sub-C01_ses-001_bval-b2000_run-01_dwi.json -fslgrad /mnt/c/Users/smart/Desktop/IRC317H_NAS/dti/data.dti/xfm_tck/work.tmp/tmp_dir_1215/sub-C01_ses-001_bval-b2000_run-01_dwi.bvec /mnt/c/Users/smart/Desktop/IRC317H_NAS/dti/data.dti/xfm_tck/work.tmp/tmp_dir_1215/sub-C01_ses-001_bval-b2000_run-01_dwi.bval /mnt/c/Users/smart/Desktop/IRC317H_NAS/dti/data.dti/xfm_tck/work.tmp/tmp_dir_1215/sub-C01_ses-001_bval-b2000_run-01_dwi.nii.gz /mnt/c/Users/smart/Desktop/IRC317H_NAS/dti/data.dti/xfm_tck/work.tmp/tmp_dir_1215/sub-C01_ses-001_bval-b2000_run-01_dwi.mif\n",
      "Running: mrconvert -force -json_import /mnt/c/Users/smart/Desktop/IRC317H_NAS/dti/data.dti/xfm_tck/work.tmp/tmp_dir_1215/sub-C01_ses-001_bval-b2000_run-01_dwi.json -fslgrad /mnt/c/Users/smart/Desktop/IRC317H_NAS/dti/data.dti/xfm_tck/work.tmp/tmp_dir_1215/sub-C01_ses-001_bval-b2000_run-01_dwi.bvec /mnt/c/Users/smart/Desktop/IRC317H_NAS/dti/data.dti/xfm_tck/work.tmp/tmp_dir_1215/sub-C01_ses-001_bval-b2000_run-01_dwi.bval /mnt/c/Users/smart/Desktop/IRC317H_NAS/dti/data.dti/xfm_tck/work.tmp/tmp_dir_1215/sub-C01_ses-001_bval-b2000_run-01_dwi.nii.gz /mnt/c/Users/smart/Desktop/IRC317H_NAS/dti/data.dti/xfm_tck/work.tmp/tmp_dir_1215/sub-C01_ses-001_bval-b2000_run-01_dwi.mif\n",
      "Running: mrconvert -force -json_import /mnt/c/Users/smart/Desktop/IRC317H_NAS/dti/data.dti/xfm_tck/work.tmp/tmp_dir_1215/sub-C01_ses-001_bval-b2000_run-01_dwi.json -fslgrad /mnt/c/Users/smart/Desktop/IRC317H_NAS/dti/data.dti/xfm_tck/work.tmp/tmp_dir_1215/sub-C01_ses-001_bval-b2000_run-01_dwi.bvec /mnt/c/Users/smart/Desktop/IRC317H_NAS/dti/data.dti/xfm_tck/work.tmp/tmp_dir_1215/sub-C01_ses-001_bval-b2000_run-01_dwi.bval /mnt/c/Users/smart/Desktop/IRC317H_NAS/dti/data.dti/xfm_tck/work.tmp/tmp_dir_1215/sub-C01_ses-001_bval-b2000_run-01_dwi.nii.gz /mnt/c/Users/smart/Desktop/IRC317H_NAS/dti/data.dti/xfm_tck/work.tmp/tmp_dir_1215/sub-C01_ses-001_bval-b2000_run-01_dwi.mif\n",
      "IOPub data rate exceeded.\n",
      "The notebook server will temporarily stop sending output\n",
      "to the client in order to avoid crashing it.\n",
      "To change this limit, set the config variable\n",
      "`--NotebookApp.iopub_data_rate_limit`.\n",
      "\n",
      "Current values:\n",
      "NotebookApp.iopub_data_rate_limit=1000000.0 (bytes/sec)\n",
      "NotebookApp.rate_limit_window=3.0 (secs)\n",
      "\n"
     ]
    }
   ],
   "source": [
    "mi = mm.nifti_to_mif(force=True)"
   ]
  },
  {
   "cell_type": "code",
   "execution_count": 25,
   "metadata": {
    "scrolled": true
   },
   "outputs": [
    {
     "data": {
      "text/plain": [
       "'/mnt/c/Users/smart/Desktop/IRC317H_NAS/dti/data.dti/xfm_tck/work.tmp/tmp_dir_1215/sub-C01_ses-001_bval-b2000_run-01_dwi.mif'"
      ]
     },
     "execution_count": 25,
     "metadata": {},
     "output_type": "execute_result"
    }
   ],
   "source": [
    "mi.file"
   ]
  },
  {
   "cell_type": "code",
   "execution_count": 26,
   "metadata": {
    "scrolled": true
   },
   "outputs": [
    {
     "name": "stderr",
     "output_type": "stream",
     "text": [
      "Running: dwi2response -force dhollander /mnt/c/Users/smart/Desktop/IRC317H_NAS/dti/data.dti/xfm_tck/work.tmp/tmp_dir_1215/sub-C01_ses-001_bval-b2000_run-01_dwi.mif /mnt/c/Users/smart/Desktop/IRC317H_NAS/dti/data.dti/xfm_tck/work.tmp/tmp_dir_1215/sub-C01_ses-001_bval-b2000_run-01_dwi_response_wm.txt /mnt/c/Users/smart/Desktop/IRC317H_NAS/dti/data.dti/xfm_tck/work.tmp/tmp_dir_1215/sub-C01_ses-001_bval-b2000_run-01_dwi_response_gm.txt /mnt/c/Users/smart/Desktop/IRC317H_NAS/dti/data.dti/xfm_tck/work.tmp/tmp_dir_1215/sub-C01_ses-001_bval-b2000_run-01_dwi_response_csf.txt\n",
      "Running: dwi2response -force dhollander /mnt/c/Users/smart/Desktop/IRC317H_NAS/dti/data.dti/xfm_tck/work.tmp/tmp_dir_1215/sub-C01_ses-001_bval-b2000_run-01_dwi.mif /mnt/c/Users/smart/Desktop/IRC317H_NAS/dti/data.dti/xfm_tck/work.tmp/tmp_dir_1215/sub-C01_ses-001_bval-b2000_run-01_dwi_response_wm.txt /mnt/c/Users/smart/Desktop/IRC317H_NAS/dti/data.dti/xfm_tck/work.tmp/tmp_dir_1215/sub-C01_ses-001_bval-b2000_run-01_dwi_response_gm.txt /mnt/c/Users/smart/Desktop/IRC317H_NAS/dti/data.dti/xfm_tck/work.tmp/tmp_dir_1215/sub-C01_ses-001_bval-b2000_run-01_dwi_response_csf.txt\n",
      "Running: dwi2response -force dhollander /mnt/c/Users/smart/Desktop/IRC317H_NAS/dti/data.dti/xfm_tck/work.tmp/tmp_dir_1215/sub-C01_ses-001_bval-b2000_run-01_dwi.mif /mnt/c/Users/smart/Desktop/IRC317H_NAS/dti/data.dti/xfm_tck/work.tmp/tmp_dir_1215/sub-C01_ses-001_bval-b2000_run-01_dwi_response_wm.txt /mnt/c/Users/smart/Desktop/IRC317H_NAS/dti/data.dti/xfm_tck/work.tmp/tmp_dir_1215/sub-C01_ses-001_bval-b2000_run-01_dwi_response_gm.txt /mnt/c/Users/smart/Desktop/IRC317H_NAS/dti/data.dti/xfm_tck/work.tmp/tmp_dir_1215/sub-C01_ses-001_bval-b2000_run-01_dwi_response_csf.txt\n",
      "dwi2response: \n",
      "dwi2response: Note that this script makes use of commands / algorithms that have relevant articles for citation. Please consult the help page (-help option) for more information.\n",
      "dwi2response: \n",
      "dwi2response: Generated scratch directory: /mnt/c/Users/smart/Desktop/IRC317H_NAS/dti/data.dti/xfm_tck/dwi2response-tmp-1T15D3/\n",
      "dwi2response: Importing DWI data (/mnt/c/Users/smart/Desktop/IRC317H_NAS/dti/data.dti/xfm_tck/work.tmp/tmp_dir_1215/sub-C01_ses-001_bval-b2000_run-01_dwi.mif)...\n",
      "dwi2response: Changing to scratch directory (/mnt/c/Users/smart/Desktop/IRC317H_NAS/dti/data.dti/xfm_tck/dwi2response-tmp-1T15D3/)\n",
      "dwi2response: Computing brain mask (dwi2mask)...\n",
      "dwi2response: -------\n",
      "dwi2response: 2 unique b-value(s) detected: 0,2000 with 7,61 volumes\n",
      "dwi2response: -------\n",
      "dwi2response: Preparation:\n",
      "dwi2response: * Eroding brain mask by 3 pass(es)...\n",
      "dwi2response:   [ mask: 119075 -> 80199 ]\n",
      "dwi2response: * Computing signal decay metric (SDM):\n",
      "dwi2response:  * b=0...\n",
      "dwi2response:  * b=2000...\n",
      "dwi2response: * Removing erroneous voxels from mask and correcting SDM...\n",
      "dwi2response:   [ mask: 80199 -> 79990 ]\n",
      "dwi2response: -------\n",
      "dwi2response: Crude segmentation:\n",
      "dwi2response: * Crude WM versus GM-CSF separation (at FA=0.2)...\n",
      "dwi2response:   [ 79990 -> 26082 (WM) & 53908 (GM-CSF) ]\n",
      "dwi2response: * Crude GM versus CSF separation...\n",
      "dwi2response:   [ 53908 -> 42657 (GM) & 11251 (CSF) ]\n",
      "dwi2response: -------\n",
      "dwi2response: Refined segmentation:\n",
      "dwi2response: * Refining WM...\n",
      "dwi2response:   [ WM: 26082 -> 25940 ]\n",
      "dwi2response: * Refining GM...\n",
      "dwi2response:   [ GM: 42657 -> 30108 ]\n",
      "dwi2response: * Refining CSF...\n",
      "dwi2response:   [ CSF: 11251 -> 2396 ]\n",
      "dwi2response: -------\n",
      "dwi2response: Final voxel selection and response function estimation:\n",
      "dwi2response: * CSF:\n",
      "dwi2response:  * Selecting final voxels (10.0% of refined CSF)...\n",
      "dwi2response:    [ CSF: 2396 -> 240 ]\n",
      "dwi2response:  * Estimating response function...\n",
      "dwi2response: * GM:\n",
      "dwi2response:  * Selecting final voxels (2.0% of refined GM)...\n",
      "dwi2response:    [ GM: 30108 -> 602 ]\n",
      "dwi2response:  * Estimating response function...\n",
      "dwi2response: * single-fibre WM:\n",
      "dwi2response:  * Selecting final voxels (0.5% of refined WM)...\n",
      "dwi2response:    [ WM: 25940 -> 130 (single-fibre) ]\n",
      "dwi2response:  * Estimating response function...\n",
      "dwi2response: -------\n",
      "dwi2response: Generating outputs...\n",
      "dwi2response: -------\n",
      "dwi2response: Changing back to original directory (/mnt/c/Users/smart/Desktop/IRC317H_NAS/dti/data.dti/xfm_tck)\n",
      "dwi2response: Deleting scratch directory (/mnt/c/Users/smart/Desktop/IRC317H_NAS/dti/data.dti/xfm_tck/dwi2response-tmp-1T15D3/)\n",
      "\n",
      "dwi2response: \n",
      "dwi2response: Note that this script makes use of commands / algorithms that have relevant articles for citation. Please consult the help page (-help option) for more information.\n",
      "dwi2response: \n",
      "dwi2response: Generated scratch directory: /mnt/c/Users/smart/Desktop/IRC317H_NAS/dti/data.dti/xfm_tck/dwi2response-tmp-1T15D3/\n",
      "dwi2response: Importing DWI data (/mnt/c/Users/smart/Desktop/IRC317H_NAS/dti/data.dti/xfm_tck/work.tmp/tmp_dir_1215/sub-C01_ses-001_bval-b2000_run-01_dwi.mif)...\n",
      "dwi2response: Changing to scratch directory (/mnt/c/Users/smart/Desktop/IRC317H_NAS/dti/data.dti/xfm_tck/dwi2response-tmp-1T15D3/)\n",
      "dwi2response: Computing brain mask (dwi2mask)...\n",
      "dwi2response: -------\n",
      "dwi2response: 2 unique b-value(s) detected: 0,2000 with 7,61 volumes\n",
      "dwi2response: -------\n",
      "dwi2response: Preparation:\n",
      "dwi2response: * Eroding brain mask by 3 pass(es)...\n",
      "dwi2response:   [ mask: 119075 -> 80199 ]\n",
      "dwi2response: * Computing signal decay metric (SDM):\n",
      "dwi2response:  * b=0...\n",
      "dwi2response:  * b=2000...\n",
      "dwi2response: * Removing erroneous voxels from mask and correcting SDM...\n",
      "dwi2response:   [ mask: 80199 -> 79990 ]\n",
      "dwi2response: -------\n",
      "dwi2response: Crude segmentation:\n",
      "dwi2response: * Crude WM versus GM-CSF separation (at FA=0.2)...\n",
      "dwi2response:   [ 79990 -> 26082 (WM) & 53908 (GM-CSF) ]\n",
      "dwi2response: * Crude GM versus CSF separation...\n",
      "dwi2response:   [ 53908 -> 42657 (GM) & 11251 (CSF) ]\n",
      "dwi2response: -------\n",
      "dwi2response: Refined segmentation:\n",
      "dwi2response: * Refining WM...\n",
      "dwi2response:   [ WM: 26082 -> 25940 ]\n",
      "dwi2response: * Refining GM...\n",
      "dwi2response:   [ GM: 42657 -> 30108 ]\n",
      "dwi2response: * Refining CSF...\n",
      "dwi2response:   [ CSF: 11251 -> 2396 ]\n",
      "dwi2response: -------\n",
      "dwi2response: Final voxel selection and response function estimation:\n",
      "dwi2response: * CSF:\n",
      "dwi2response:  * Selecting final voxels (10.0% of refined CSF)...\n",
      "dwi2response:    [ CSF: 2396 -> 240 ]\n",
      "dwi2response:  * Estimating response function...\n",
      "dwi2response: * GM:\n",
      "dwi2response:  * Selecting final voxels (2.0% of refined GM)...\n",
      "dwi2response:    [ GM: 30108 -> 602 ]\n",
      "dwi2response:  * Estimating response function...\n",
      "dwi2response: * single-fibre WM:\n",
      "dwi2response:  * Selecting final voxels (0.5% of refined WM)...\n",
      "dwi2response:    [ WM: 25940 -> 130 (single-fibre) ]\n",
      "dwi2response:  * Estimating response function...\n",
      "dwi2response: -------\n",
      "dwi2response: Generating outputs...\n",
      "dwi2response: -------\n",
      "dwi2response: Changing back to original directory (/mnt/c/Users/smart/Desktop/IRC317H_NAS/dti/data.dti/xfm_tck)\n",
      "dwi2response: Deleting scratch directory (/mnt/c/Users/smart/Desktop/IRC317H_NAS/dti/data.dti/xfm_tck/dwi2response-tmp-1T15D3/)\n",
      "\n",
      "dwi2response: \n",
      "dwi2response: Note that this script makes use of commands / algorithms that have relevant articles for citation. Please consult the help page (-help option) for more information.\n",
      "dwi2response: \n",
      "dwi2response: Generated scratch directory: /mnt/c/Users/smart/Desktop/IRC317H_NAS/dti/data.dti/xfm_tck/dwi2response-tmp-1T15D3/\n",
      "dwi2response: Importing DWI data (/mnt/c/Users/smart/Desktop/IRC317H_NAS/dti/data.dti/xfm_tck/work.tmp/tmp_dir_1215/sub-C01_ses-001_bval-b2000_run-01_dwi.mif)...\n",
      "dwi2response: Changing to scratch directory (/mnt/c/Users/smart/Desktop/IRC317H_NAS/dti/data.dti/xfm_tck/dwi2response-tmp-1T15D3/)\n",
      "dwi2response: Computing brain mask (dwi2mask)...\n",
      "dwi2response: -------\n",
      "dwi2response: 2 unique b-value(s) detected: 0,2000 with 7,61 volumes\n",
      "dwi2response: -------\n",
      "dwi2response: Preparation:\n",
      "dwi2response: * Eroding brain mask by 3 pass(es)...\n",
      "dwi2response:   [ mask: 119075 -> 80199 ]\n",
      "dwi2response: * Computing signal decay metric (SDM):\n",
      "dwi2response:  * b=0...\n",
      "dwi2response:  * b=2000...\n",
      "dwi2response: * Removing erroneous voxels from mask and correcting SDM...\n",
      "dwi2response:   [ mask: 80199 -> 79990 ]\n",
      "dwi2response: -------\n",
      "dwi2response: Crude segmentation:\n",
      "dwi2response: * Crude WM versus GM-CSF separation (at FA=0.2)...\n",
      "dwi2response:   [ 79990 -> 26082 (WM) & 53908 (GM-CSF) ]\n",
      "dwi2response: * Crude GM versus CSF separation...\n",
      "dwi2response:   [ 53908 -> 42657 (GM) & 11251 (CSF) ]\n",
      "dwi2response: -------\n",
      "dwi2response: Refined segmentation:\n",
      "dwi2response: * Refining WM...\n",
      "dwi2response:   [ WM: 26082 -> 25940 ]\n",
      "dwi2response: * Refining GM...\n",
      "dwi2response:   [ GM: 42657 -> 30108 ]\n",
      "dwi2response: * Refining CSF...\n",
      "dwi2response:   [ CSF: 11251 -> 2396 ]\n",
      "dwi2response: -------\n",
      "dwi2response: Final voxel selection and response function estimation:\n",
      "dwi2response: * CSF:\n",
      "dwi2response:  * Selecting final voxels (10.0% of refined CSF)...\n",
      "dwi2response:    [ CSF: 2396 -> 240 ]\n",
      "dwi2response:  * Estimating response function...\n",
      "dwi2response: * GM:\n",
      "dwi2response:  * Selecting final voxels (2.0% of refined GM)...\n",
      "dwi2response:    [ GM: 30108 -> 602 ]\n",
      "dwi2response:  * Estimating response function...\n",
      "dwi2response: * single-fibre WM:\n",
      "dwi2response:  * Selecting final voxels (0.5% of refined WM)...\n",
      "dwi2response:    [ WM: 25940 -> 130 (single-fibre) ]\n",
      "dwi2response:  * Estimating response function...\n",
      "dwi2response: -------\n",
      "dwi2response: Generating outputs...\n",
      "dwi2response: -------\n",
      "dwi2response: Changing back to original directory (/mnt/c/Users/smart/Desktop/IRC317H_NAS/dti/data.dti/xfm_tck)\n",
      "dwi2response: Deleting scratch directory (/mnt/c/Users/smart/Desktop/IRC317H_NAS/dti/data.dti/xfm_tck/dwi2response-tmp-1T15D3/)\n",
      "\n"
     ]
    }
   ],
   "source": [
    "[wm_res,gm_res,csf_res] = mm.estimate_response(mif=mi,force=True)"
   ]
  },
  {
   "cell_type": "code",
   "execution_count": 27,
   "metadata": {
    "scrolled": true
   },
   "outputs": [
    {
     "name": "stderr",
     "output_type": "stream",
     "text": [
      "Running: mrgrid /mnt/c/Users/smart/Desktop/IRC317H_NAS/dti/data.dti/xfm_tck/work.tmp/tmp_dir_1215/sub-C01_ses-001_bval-b2000_run-01_dwi.mif regrid /mnt/c/Users/smart/Desktop/IRC317H_NAS/dti/data.dti/xfm_tck/work.tmp/tmp_dir_1215/sub-C01_ses-001_bval-b2000_run-01_dwi_upsampled.mif -voxel 1.5\n",
      "Running: mrgrid /mnt/c/Users/smart/Desktop/IRC317H_NAS/dti/data.dti/xfm_tck/work.tmp/tmp_dir_1215/sub-C01_ses-001_bval-b2000_run-01_dwi.mif regrid /mnt/c/Users/smart/Desktop/IRC317H_NAS/dti/data.dti/xfm_tck/work.tmp/tmp_dir_1215/sub-C01_ses-001_bval-b2000_run-01_dwi_upsampled.mif -voxel 1.5\n",
      "Running: mrgrid /mnt/c/Users/smart/Desktop/IRC317H_NAS/dti/data.dti/xfm_tck/work.tmp/tmp_dir_1215/sub-C01_ses-001_bval-b2000_run-01_dwi.mif regrid /mnt/c/Users/smart/Desktop/IRC317H_NAS/dti/data.dti/xfm_tck/work.tmp/tmp_dir_1215/sub-C01_ses-001_bval-b2000_run-01_dwi_upsampled.mif -voxel 1.5\n"
     ]
    },
    {
     "name": "stdout",
     "output_type": "stream",
     "text": [
      "\n",
      " \t The required dependency mrresize is not installed or in the system path. \n",
      "\n"
     ]
    },
    {
     "name": "stderr",
     "output_type": "stream",
     "text": [
      "IOPub data rate exceeded.\n",
      "The notebook server will temporarily stop sending output\n",
      "to the client in order to avoid crashing it.\n",
      "To change this limit, set the config variable\n",
      "`--NotebookApp.iopub_data_rate_limit`.\n",
      "\n",
      "Current values:\n",
      "NotebookApp.iopub_data_rate_limit=1000000.0 (bytes/sec)\n",
      "NotebookApp.rate_limit_window=3.0 (secs)\n",
      "\n"
     ]
    }
   ],
   "source": [
    "up_mif = mm.mr_upsample(mif=mi,vox=1.5)"
   ]
  },
  {
   "cell_type": "code",
   "execution_count": 28,
   "metadata": {
    "scrolled": true
   },
   "outputs": [
    {
     "name": "stderr",
     "output_type": "stream",
     "text": [
      "Running: dwiextract -bzero /mnt/c/Users/smart/Desktop/IRC317H_NAS/dti/data.dti/xfm_tck/work.tmp/tmp_dir_1215/sub-C01_ses-001_bval-b2000_run-01_dwi_upsampled.mif /mnt/c/Users/smart/Desktop/IRC317H_NAS/dti/data.dti/xfm_tck/work.tmp/tmp_dir_1215/tmp_dir_9177/tmp_B0s.nii.gz\n",
      "Running: dwiextract -bzero /mnt/c/Users/smart/Desktop/IRC317H_NAS/dti/data.dti/xfm_tck/work.tmp/tmp_dir_1215/sub-C01_ses-001_bval-b2000_run-01_dwi_upsampled.mif /mnt/c/Users/smart/Desktop/IRC317H_NAS/dti/data.dti/xfm_tck/work.tmp/tmp_dir_1215/tmp_dir_9177/tmp_B0s.nii.gz\n",
      "Running: dwiextract -bzero /mnt/c/Users/smart/Desktop/IRC317H_NAS/dti/data.dti/xfm_tck/work.tmp/tmp_dir_1215/sub-C01_ses-001_bval-b2000_run-01_dwi_upsampled.mif /mnt/c/Users/smart/Desktop/IRC317H_NAS/dti/data.dti/xfm_tck/work.tmp/tmp_dir_1215/tmp_dir_9177/tmp_B0s.nii.gz\n",
      "dwiextract: [100%] extracting volumes\u001b[0K\u001b[0K\u001b[?7h\u001b[?7l\n",
      "dwiextract: [100%] compressing image \"/mnt/c/Users/smart/Desktop/IRC317H_NAS/dti/data.dti/xfm_tck/work.tmp/tmp_dir_1215/tmp_dir_9177/tmp_B0s.nii.gz\"\u001b[0K\u001b[0K\u001b[?7h\u001b[?7l\n",
      "\n",
      "dwiextract: [100%] extracting volumes\u001b[0K\u001b[0K\u001b[?7h\u001b[?7l\n",
      "dwiextract: [100%] compressing image \"/mnt/c/Users/smart/Desktop/IRC317H_NAS/dti/data.dti/xfm_tck/work.tmp/tmp_dir_1215/tmp_dir_9177/tmp_B0s.nii.gz\"\u001b[0K\u001b[0K\u001b[?7h\u001b[?7l\n",
      "\n",
      "dwiextract: [100%] extracting volumes\u001b[0K\u001b[0K\u001b[?7h\u001b[?7l\n",
      "dwiextract: [100%] compressing image \"/mnt/c/Users/smart/Desktop/IRC317H_NAS/dti/data.dti/xfm_tck/work.tmp/tmp_dir_1215/tmp_dir_9177/tmp_B0s.nii.gz\"\u001b[0K\u001b[0K\u001b[?7h\u001b[?7l\n",
      "\n",
      "Running: fslmaths /mnt/c/Users/smart/Desktop/IRC317H_NAS/dti/data.dti/xfm_tck/work.tmp/tmp_dir_1215/tmp_dir_9177/tmp_B0s.nii.gz -Tmean /mnt/c/Users/smart/Desktop/IRC317H_NAS/dti/data.dti/xfm_tck/work.tmp/tmp_dir_1215/tmp_dir_9177/tmp_B0.nii.gz\n",
      "Running: fslmaths /mnt/c/Users/smart/Desktop/IRC317H_NAS/dti/data.dti/xfm_tck/work.tmp/tmp_dir_1215/tmp_dir_9177/tmp_B0s.nii.gz -Tmean /mnt/c/Users/smart/Desktop/IRC317H_NAS/dti/data.dti/xfm_tck/work.tmp/tmp_dir_1215/tmp_dir_9177/tmp_B0.nii.gz\n",
      "Running: fslmaths /mnt/c/Users/smart/Desktop/IRC317H_NAS/dti/data.dti/xfm_tck/work.tmp/tmp_dir_1215/tmp_dir_9177/tmp_B0s.nii.gz -Tmean /mnt/c/Users/smart/Desktop/IRC317H_NAS/dti/data.dti/xfm_tck/work.tmp/tmp_dir_1215/tmp_dir_9177/tmp_B0.nii.gz\n",
      "Running: bet /mnt/c/Users/smart/Desktop/IRC317H_NAS/dti/data.dti/xfm_tck/work.tmp/tmp_dir_1215/tmp_dir_9177/tmp_B0.nii.gz /mnt/c/Users/smart/Desktop/IRC317H_NAS/dti/data.dti/xfm_tck/work.tmp/tmp_dir_1215/tmp_dir_9177/tmp_B0_brain.nii.gz -R -m -f 0.5\n",
      "Running: bet /mnt/c/Users/smart/Desktop/IRC317H_NAS/dti/data.dti/xfm_tck/work.tmp/tmp_dir_1215/tmp_dir_9177/tmp_B0.nii.gz /mnt/c/Users/smart/Desktop/IRC317H_NAS/dti/data.dti/xfm_tck/work.tmp/tmp_dir_1215/tmp_dir_9177/tmp_B0_brain.nii.gz -R -m -f 0.5\n",
      "Running: bet /mnt/c/Users/smart/Desktop/IRC317H_NAS/dti/data.dti/xfm_tck/work.tmp/tmp_dir_1215/tmp_dir_9177/tmp_B0.nii.gz /mnt/c/Users/smart/Desktop/IRC317H_NAS/dti/data.dti/xfm_tck/work.tmp/tmp_dir_1215/tmp_dir_9177/tmp_B0_brain.nii.gz -R -m -f 0.5\n",
      "Running: mrconvert /mnt/c/Users/smart/Desktop/IRC317H_NAS/dti/data.dti/xfm_tck/work.tmp/tmp_dir_1215/tmp_dir_9177/tmp_B0_brain_mask.nii.gz /mnt/c/Users/smart/Desktop/IRC317H_NAS/dti/data.dti/xfm_tck/work.tmp/tmp_dir_1215/sub-C01_ses-001_bval-b2000_run-01_dwi_upsamp_brain_mask.mif\n",
      "Running: mrconvert /mnt/c/Users/smart/Desktop/IRC317H_NAS/dti/data.dti/xfm_tck/work.tmp/tmp_dir_1215/tmp_dir_9177/tmp_B0_brain_mask.nii.gz /mnt/c/Users/smart/Desktop/IRC317H_NAS/dti/data.dti/xfm_tck/work.tmp/tmp_dir_1215/sub-C01_ses-001_bval-b2000_run-01_dwi_upsamp_brain_mask.mif\n",
      "Running: mrconvert /mnt/c/Users/smart/Desktop/IRC317H_NAS/dti/data.dti/xfm_tck/work.tmp/tmp_dir_1215/tmp_dir_9177/tmp_B0_brain_mask.nii.gz /mnt/c/Users/smart/Desktop/IRC317H_NAS/dti/data.dti/xfm_tck/work.tmp/tmp_dir_1215/sub-C01_ses-001_bval-b2000_run-01_dwi_upsamp_brain_mask.mif\n",
      "mrconvert: [100%] uncompressing image \"/mnt/c/Users/smart/Desktop/IRC317H_NAS/dti/data.dti/xfm_tck/work.tmp/tmp_dir_1215/tmp_dir_9177/tmp_B0_brain_mask.nii.gz\"\u001b[0K\u001b[0K\u001b[?7h\u001b[?7l\n",
      "mrconvert: [100%] copying from \"/mnt/c/Use...77/tmp_B0_brain_mask.nii.gz\" to \"/mnt/c/Use...1_dwi_upsamp_brain_mask.mif\"\u001b[0K\u001b[0K\u001b[?7h\u001b[?7l\n",
      "\n",
      "mrconvert: [100%] uncompressing image \"/mnt/c/Users/smart/Desktop/IRC317H_NAS/dti/data.dti/xfm_tck/work.tmp/tmp_dir_1215/tmp_dir_9177/tmp_B0_brain_mask.nii.gz\"\u001b[0K\u001b[0K\u001b[?7h\u001b[?7l\n",
      "mrconvert: [100%] copying from \"/mnt/c/Use...77/tmp_B0_brain_mask.nii.gz\" to \"/mnt/c/Use...1_dwi_upsamp_brain_mask.mif\"\u001b[0K\u001b[0K\u001b[?7h\u001b[?7l\n",
      "\n",
      "mrconvert: [100%] uncompressing image \"/mnt/c/Users/smart/Desktop/IRC317H_NAS/dti/data.dti/xfm_tck/work.tmp/tmp_dir_1215/tmp_dir_9177/tmp_B0_brain_mask.nii.gz\"\u001b[0K\u001b[0K\u001b[?7h\u001b[?7l\n",
      "mrconvert: [100%] copying from \"/mnt/c/Use...77/tmp_B0_brain_mask.nii.gz\" to \"/mnt/c/Use...1_dwi_upsamp_brain_mask.mif\"\u001b[0K\u001b[0K\u001b[?7h\u001b[?7l\n",
      "\n",
      "Running: mrconvert /mnt/c/Users/smart/Desktop/IRC317H_NAS/dti/data.dti/xfm_tck/work.tmp/tmp_dir_1215/tmp_dir_9177/tmp_B0_brain.nii.gz /mnt/c/Users/smart/Desktop/IRC317H_NAS/dti/data.dti/xfm_tck/work.tmp/tmp_dir_1215/sub-C01_ses-001_bval-b2000_run-01_dwi_upsamp_brain.mif\n",
      "Running: mrconvert /mnt/c/Users/smart/Desktop/IRC317H_NAS/dti/data.dti/xfm_tck/work.tmp/tmp_dir_1215/tmp_dir_9177/tmp_B0_brain.nii.gz /mnt/c/Users/smart/Desktop/IRC317H_NAS/dti/data.dti/xfm_tck/work.tmp/tmp_dir_1215/sub-C01_ses-001_bval-b2000_run-01_dwi_upsamp_brain.mif\n",
      "Running: mrconvert /mnt/c/Users/smart/Desktop/IRC317H_NAS/dti/data.dti/xfm_tck/work.tmp/tmp_dir_1215/tmp_dir_9177/tmp_B0_brain.nii.gz /mnt/c/Users/smart/Desktop/IRC317H_NAS/dti/data.dti/xfm_tck/work.tmp/tmp_dir_1215/sub-C01_ses-001_bval-b2000_run-01_dwi_upsamp_brain.mif\n",
      "mrconvert: [100%] uncompressing image \"/mnt/c/Users/smart/Desktop/IRC317H_NAS/dti/data.dti/xfm_tck/work.tmp/tmp_dir_1215/tmp_dir_9177/tmp_B0_brain.nii.gz\"\u001b[0K\u001b[0K\u001b[?7h\u001b[?7l\n",
      "mrconvert: [100%] copying from \"/mnt/c/Use...ir_9177/tmp_B0_brain.nii.gz\" to \"/mnt/c/Use...run-01_dwi_upsamp_brain.mif\"\u001b[0K\u001b[0K\u001b[?7h\u001b[?7l\n",
      "\n",
      "mrconvert: [100%] uncompressing image \"/mnt/c/Users/smart/Desktop/IRC317H_NAS/dti/data.dti/xfm_tck/work.tmp/tmp_dir_1215/tmp_dir_9177/tmp_B0_brain.nii.gz\"\u001b[0K\u001b[0K\u001b[?7h\u001b[?7l\n",
      "mrconvert: [100%] copying from \"/mnt/c/Use...ir_9177/tmp_B0_brain.nii.gz\" to \"/mnt/c/Use...run-01_dwi_upsamp_brain.mif\"\u001b[0K\u001b[0K\u001b[?7h\u001b[?7l\n",
      "\n",
      "mrconvert: [100%] uncompressing image \"/mnt/c/Users/smart/Desktop/IRC317H_NAS/dti/data.dti/xfm_tck/work.tmp/tmp_dir_1215/tmp_dir_9177/tmp_B0_brain.nii.gz\"\u001b[0K\u001b[0K\u001b[?7h\u001b[?7l\n",
      "mrconvert: [100%] copying from \"/mnt/c/Use...ir_9177/tmp_B0_brain.nii.gz\" to \"/mnt/c/Use...run-01_dwi_upsamp_brain.mif\"\u001b[0K\u001b[0K\u001b[?7h\u001b[?7l\n",
      "\n",
      "Running: mrconvert /mnt/c/Users/smart/Desktop/IRC317H_NAS/dti/data.dti/xfm_tck/work.tmp/tmp_dir_1215/tmp_dir_9177/tmp_B0.nii.gz /mnt/c/Users/smart/Desktop/IRC317H_NAS/dti/data.dti/xfm_tck/work.tmp/tmp_dir_1215/sub-C01_ses-001_bval-b2000_run-01_dwi_upsamp_head.mif\n",
      "Running: mrconvert /mnt/c/Users/smart/Desktop/IRC317H_NAS/dti/data.dti/xfm_tck/work.tmp/tmp_dir_1215/tmp_dir_9177/tmp_B0.nii.gz /mnt/c/Users/smart/Desktop/IRC317H_NAS/dti/data.dti/xfm_tck/work.tmp/tmp_dir_1215/sub-C01_ses-001_bval-b2000_run-01_dwi_upsamp_head.mif\n",
      "Running: mrconvert /mnt/c/Users/smart/Desktop/IRC317H_NAS/dti/data.dti/xfm_tck/work.tmp/tmp_dir_1215/tmp_dir_9177/tmp_B0.nii.gz /mnt/c/Users/smart/Desktop/IRC317H_NAS/dti/data.dti/xfm_tck/work.tmp/tmp_dir_1215/sub-C01_ses-001_bval-b2000_run-01_dwi_upsamp_head.mif\n",
      "mrconvert: [100%] uncompressing image \"/mnt/c/Users/smart/Desktop/IRC317H_NAS/dti/data.dti/xfm_tck/work.tmp/tmp_dir_1215/tmp_dir_9177/tmp_B0.nii.gz\"\u001b[0K\u001b[0K\u001b[?7h\u001b[?7l\n",
      "mrconvert: [100%] copying from \"/mnt/c/Use.../tmp_dir_9177/tmp_B0.nii.gz\" to \"/mnt/c/Use..._run-01_dwi_upsamp_head.mif\"\u001b[0K\u001b[0K\u001b[?7h\u001b[?7l\n",
      "\n",
      "mrconvert: [100%] uncompressing image \"/mnt/c/Users/smart/Desktop/IRC317H_NAS/dti/data.dti/xfm_tck/work.tmp/tmp_dir_1215/tmp_dir_9177/tmp_B0.nii.gz\"\u001b[0K\u001b[0K\u001b[?7h\u001b[?7l\n",
      "mrconvert: [100%] copying from \"/mnt/c/Use.../tmp_dir_9177/tmp_B0.nii.gz\" to \"/mnt/c/Use..._run-01_dwi_upsamp_head.mif\"\u001b[0K\u001b[0K\u001b[?7h\u001b[?7l\n",
      "\n",
      "mrconvert: [100%] uncompressing image \"/mnt/c/Users/smart/Desktop/IRC317H_NAS/dti/data.dti/xfm_tck/work.tmp/tmp_dir_1215/tmp_dir_9177/tmp_B0.nii.gz\"\u001b[0K\u001b[0K\u001b[?7h\u001b[?7l\n",
      "mrconvert: [100%] copying from \"/mnt/c/Use.../tmp_dir_9177/tmp_B0.nii.gz\" to \"/mnt/c/Use..._run-01_dwi_upsamp_head.mif\"\u001b[0K\u001b[0K\u001b[?7h\u001b[?7l\n",
      "\n"
     ]
    }
   ],
   "source": [
    "mask,brain,head = mm.create_mask(up_mif,cleanup=True)"
   ]
  },
  {
   "cell_type": "code",
   "execution_count": null,
   "metadata": {},
   "outputs": [],
   "source": []
  },
  {
   "cell_type": "code",
   "execution_count": 32,
   "metadata": {},
   "outputs": [],
   "source": [
    "# os.remove(mask.file); os.remove(brain.file)"
   ]
  },
  {
   "cell_type": "code",
   "execution_count": null,
   "metadata": {},
   "outputs": [],
   "source": []
  },
  {
   "cell_type": "code",
   "execution_count": 29,
   "metadata": {
    "scrolled": true
   },
   "outputs": [
    {
     "name": "stderr",
     "output_type": "stream",
     "text": [
      "Running: ss3t_csd_beta1 /mnt/c/Users/smart/Desktop/IRC317H_NAS/dti/data.dti/xfm_tck/work.tmp/tmp_dir_1215/sub-C01_ses-001_bval-b2000_run-01_dwi_upsampled.mif /mnt/c/Users/smart/Desktop/IRC317H_NAS/dti/data.dti/xfm_tck/work.tmp/tmp_dir_1215/sub-C01_ses-001_bval-b2000_run-01_dwi_response_wm.txt /mnt/c/Users/smart/Desktop/IRC317H_NAS/dti/data.dti/xfm_tck/work.tmp/tmp_dir_1215/sub-C01_ses-001_bval-b2000_run-01_dwi_upsamp_wm_fod.mif /mnt/c/Users/smart/Desktop/IRC317H_NAS/dti/data.dti/xfm_tck/work.tmp/tmp_dir_1215/sub-C01_ses-001_bval-b2000_run-01_dwi_response_gm.txt /mnt/c/Users/smart/Desktop/IRC317H_NAS/dti/data.dti/xfm_tck/work.tmp/tmp_dir_1215/sub-C01_ses-001_bval-b2000_run-01_dwi_upsamp_gm_tis.mif /mnt/c/Users/smart/Desktop/IRC317H_NAS/dti/data.dti/xfm_tck/work.tmp/tmp_dir_1215/sub-C01_ses-001_bval-b2000_run-01_dwi_response_csf.txt /mnt/c/Users/smart/Desktop/IRC317H_NAS/dti/data.dti/xfm_tck/work.tmp/tmp_dir_1215/sub-C01_ses-001_bval-b2000_run-01_dwi_upsamp_csf_tis.mif -mask /mnt/c/Users/smart/Desktop/IRC317H_NAS/dti/data.dti/xfm_tck/work.tmp/tmp_dir_1215/sub-C01_ses-001_bval-b2000_run-01_dwi_upsamp_brain_mask.mif\n",
      "Running: ss3t_csd_beta1 /mnt/c/Users/smart/Desktop/IRC317H_NAS/dti/data.dti/xfm_tck/work.tmp/tmp_dir_1215/sub-C01_ses-001_bval-b2000_run-01_dwi_upsampled.mif /mnt/c/Users/smart/Desktop/IRC317H_NAS/dti/data.dti/xfm_tck/work.tmp/tmp_dir_1215/sub-C01_ses-001_bval-b2000_run-01_dwi_response_wm.txt /mnt/c/Users/smart/Desktop/IRC317H_NAS/dti/data.dti/xfm_tck/work.tmp/tmp_dir_1215/sub-C01_ses-001_bval-b2000_run-01_dwi_upsamp_wm_fod.mif /mnt/c/Users/smart/Desktop/IRC317H_NAS/dti/data.dti/xfm_tck/work.tmp/tmp_dir_1215/sub-C01_ses-001_bval-b2000_run-01_dwi_response_gm.txt /mnt/c/Users/smart/Desktop/IRC317H_NAS/dti/data.dti/xfm_tck/work.tmp/tmp_dir_1215/sub-C01_ses-001_bval-b2000_run-01_dwi_upsamp_gm_tis.mif /mnt/c/Users/smart/Desktop/IRC317H_NAS/dti/data.dti/xfm_tck/work.tmp/tmp_dir_1215/sub-C01_ses-001_bval-b2000_run-01_dwi_response_csf.txt /mnt/c/Users/smart/Desktop/IRC317H_NAS/dti/data.dti/xfm_tck/work.tmp/tmp_dir_1215/sub-C01_ses-001_bval-b2000_run-01_dwi_upsamp_csf_tis.mif -mask /mnt/c/Users/smart/Desktop/IRC317H_NAS/dti/data.dti/xfm_tck/work.tmp/tmp_dir_1215/sub-C01_ses-001_bval-b2000_run-01_dwi_upsamp_brain_mask.mif\n",
      "Running: ss3t_csd_beta1 /mnt/c/Users/smart/Desktop/IRC317H_NAS/dti/data.dti/xfm_tck/work.tmp/tmp_dir_1215/sub-C01_ses-001_bval-b2000_run-01_dwi_upsampled.mif /mnt/c/Users/smart/Desktop/IRC317H_NAS/dti/data.dti/xfm_tck/work.tmp/tmp_dir_1215/sub-C01_ses-001_bval-b2000_run-01_dwi_response_wm.txt /mnt/c/Users/smart/Desktop/IRC317H_NAS/dti/data.dti/xfm_tck/work.tmp/tmp_dir_1215/sub-C01_ses-001_bval-b2000_run-01_dwi_upsamp_wm_fod.mif /mnt/c/Users/smart/Desktop/IRC317H_NAS/dti/data.dti/xfm_tck/work.tmp/tmp_dir_1215/sub-C01_ses-001_bval-b2000_run-01_dwi_response_gm.txt /mnt/c/Users/smart/Desktop/IRC317H_NAS/dti/data.dti/xfm_tck/work.tmp/tmp_dir_1215/sub-C01_ses-001_bval-b2000_run-01_dwi_upsamp_gm_tis.mif /mnt/c/Users/smart/Desktop/IRC317H_NAS/dti/data.dti/xfm_tck/work.tmp/tmp_dir_1215/sub-C01_ses-001_bval-b2000_run-01_dwi_response_csf.txt /mnt/c/Users/smart/Desktop/IRC317H_NAS/dti/data.dti/xfm_tck/work.tmp/tmp_dir_1215/sub-C01_ses-001_bval-b2000_run-01_dwi_upsamp_csf_tis.mif -mask /mnt/c/Users/smart/Desktop/IRC317H_NAS/dti/data.dti/xfm_tck/work.tmp/tmp_dir_1215/sub-C01_ses-001_bval-b2000_run-01_dwi_upsamp_brain_mask.mif\n"
     ]
    },
    {
     "ename": "KeyboardInterrupt",
     "evalue": "",
     "output_type": "error",
     "traceback": [
      "\u001b[0;31m---------------------------------------------------------------------------\u001b[0m",
      "\u001b[0;31mKeyboardInterrupt\u001b[0m                         Traceback (most recent call last)",
      "\u001b[0;32m<ipython-input-29-c84bb5ad2d45>\u001b[0m in \u001b[0;36m<module>\u001b[0;34m\u001b[0m\n\u001b[1;32m      3\u001b[0m                              \u001b[0mwm_res\u001b[0m\u001b[0;34m=\u001b[0m\u001b[0mwm_res\u001b[0m\u001b[0;34m,\u001b[0m\u001b[0;34m\u001b[0m\u001b[0;34m\u001b[0m\u001b[0m\n\u001b[1;32m      4\u001b[0m                              \u001b[0mgm_res\u001b[0m\u001b[0;34m=\u001b[0m\u001b[0mgm_res\u001b[0m\u001b[0;34m,\u001b[0m\u001b[0;34m\u001b[0m\u001b[0;34m\u001b[0m\u001b[0m\n\u001b[0;32m----> 5\u001b[0;31m                              csf_res=csf_res)\n\u001b[0m",
      "\u001b[0;32m<ipython-input-3-3786f5ec0206>\u001b[0m in \u001b[0;36mss3t_csd\u001b[0;34m(self, mif, mask, wm_res, gm_res, csf_res, gzip)\u001b[0m\n\u001b[1;32m    338\u001b[0m         \u001b[0mss3t\u001b[0m\u001b[0;34m.\u001b[0m\u001b[0mcmd_list\u001b[0m\u001b[0;34m.\u001b[0m\u001b[0mappend\u001b[0m\u001b[0;34m(\u001b[0m\u001b[0;34m\"-mask\"\u001b[0m\u001b[0;34m)\u001b[0m\u001b[0;34m\u001b[0m\u001b[0;34m\u001b[0m\u001b[0m\n\u001b[1;32m    339\u001b[0m         \u001b[0mss3t\u001b[0m\u001b[0;34m.\u001b[0m\u001b[0mcmd_list\u001b[0m\u001b[0;34m.\u001b[0m\u001b[0mappend\u001b[0m\u001b[0;34m(\u001b[0m\u001b[0mmask\u001b[0m\u001b[0;34m.\u001b[0m\u001b[0mfile\u001b[0m\u001b[0;34m)\u001b[0m\u001b[0;34m\u001b[0m\u001b[0;34m\u001b[0m\u001b[0m\n\u001b[0;32m--> 340\u001b[0;31m         \u001b[0mss3t\u001b[0m\u001b[0;34m.\u001b[0m\u001b[0mrun\u001b[0m\u001b[0;34m(\u001b[0m\u001b[0mself\u001b[0m\u001b[0;34m.\u001b[0m\u001b[0mlog\u001b[0m\u001b[0;34m)\u001b[0m\u001b[0;34m\u001b[0m\u001b[0;34m\u001b[0m\u001b[0m\n\u001b[0m\u001b[1;32m    341\u001b[0m         \u001b[0;32mreturn\u001b[0m \u001b[0mwm_fod\u001b[0m\u001b[0;34m,\u001b[0m \u001b[0mgm_tis\u001b[0m\u001b[0;34m,\u001b[0m \u001b[0mcsf_tis\u001b[0m\u001b[0;34m\u001b[0m\u001b[0;34m\u001b[0m\u001b[0m\n\u001b[1;32m    342\u001b[0m \u001b[0;34m\u001b[0m\u001b[0m\n",
      "\u001b[0;32m/mnt/c/Users/smart/Desktop/IRC317H_NAS/dti/data.dti/xfm_tck/utils.py\u001b[0m in \u001b[0;36mrun\u001b[0;34m(self, log, debug, dryrun, env, stdout, shell)\u001b[0m\n\u001b[1;32m    529\u001b[0m \u001b[0;34m\u001b[0m\u001b[0m\n\u001b[1;32m    530\u001b[0m         \u001b[0;31m# Write log files\u001b[0m\u001b[0;34m\u001b[0m\u001b[0;34m\u001b[0m\u001b[0;34m\u001b[0m\u001b[0m\n\u001b[0;32m--> 531\u001b[0;31m         \u001b[0mout\u001b[0m\u001b[0;34m,\u001b[0m\u001b[0merr\u001b[0m \u001b[0;34m=\u001b[0m \u001b[0mp\u001b[0m\u001b[0;34m.\u001b[0m\u001b[0mcommunicate\u001b[0m\u001b[0;34m(\u001b[0m\u001b[0;34m)\u001b[0m\u001b[0;34m\u001b[0m\u001b[0;34m\u001b[0m\u001b[0m\n\u001b[0m\u001b[1;32m    532\u001b[0m         \u001b[0mout\u001b[0m \u001b[0;34m=\u001b[0m \u001b[0mout\u001b[0m\u001b[0;34m.\u001b[0m\u001b[0mdecode\u001b[0m\u001b[0;34m(\u001b[0m\u001b[0;34m'utf-8'\u001b[0m\u001b[0;34m)\u001b[0m\u001b[0;34m\u001b[0m\u001b[0;34m\u001b[0m\u001b[0m\n\u001b[1;32m    533\u001b[0m         \u001b[0merr\u001b[0m \u001b[0;34m=\u001b[0m \u001b[0merr\u001b[0m\u001b[0;34m.\u001b[0m\u001b[0mdecode\u001b[0m\u001b[0;34m(\u001b[0m\u001b[0;34m'utf-8'\u001b[0m\u001b[0;34m)\u001b[0m\u001b[0;34m\u001b[0m\u001b[0;34m\u001b[0m\u001b[0m\n",
      "\u001b[0;32m~/anaconda3/lib/python3.7/subprocess.py\u001b[0m in \u001b[0;36mcommunicate\u001b[0;34m(self, input, timeout)\u001b[0m\n\u001b[1;32m    937\u001b[0m \u001b[0;34m\u001b[0m\u001b[0m\n\u001b[1;32m    938\u001b[0m             \u001b[0;32mtry\u001b[0m\u001b[0;34m:\u001b[0m\u001b[0;34m\u001b[0m\u001b[0;34m\u001b[0m\u001b[0m\n\u001b[0;32m--> 939\u001b[0;31m                 \u001b[0mstdout\u001b[0m\u001b[0;34m,\u001b[0m \u001b[0mstderr\u001b[0m \u001b[0;34m=\u001b[0m \u001b[0mself\u001b[0m\u001b[0;34m.\u001b[0m\u001b[0m_communicate\u001b[0m\u001b[0;34m(\u001b[0m\u001b[0minput\u001b[0m\u001b[0;34m,\u001b[0m \u001b[0mendtime\u001b[0m\u001b[0;34m,\u001b[0m \u001b[0mtimeout\u001b[0m\u001b[0;34m)\u001b[0m\u001b[0;34m\u001b[0m\u001b[0;34m\u001b[0m\u001b[0m\n\u001b[0m\u001b[1;32m    940\u001b[0m             \u001b[0;32mexcept\u001b[0m \u001b[0mKeyboardInterrupt\u001b[0m\u001b[0;34m:\u001b[0m\u001b[0;34m\u001b[0m\u001b[0;34m\u001b[0m\u001b[0m\n\u001b[1;32m    941\u001b[0m                 \u001b[0;31m# https://bugs.python.org/issue25942\u001b[0m\u001b[0;34m\u001b[0m\u001b[0;34m\u001b[0m\u001b[0;34m\u001b[0m\u001b[0m\n",
      "\u001b[0;32m~/anaconda3/lib/python3.7/subprocess.py\u001b[0m in \u001b[0;36m_communicate\u001b[0;34m(self, input, endtime, orig_timeout)\u001b[0m\n\u001b[1;32m   1679\u001b[0m                         \u001b[0;32mraise\u001b[0m \u001b[0mTimeoutExpired\u001b[0m\u001b[0;34m(\u001b[0m\u001b[0mself\u001b[0m\u001b[0;34m.\u001b[0m\u001b[0margs\u001b[0m\u001b[0;34m,\u001b[0m \u001b[0morig_timeout\u001b[0m\u001b[0;34m)\u001b[0m\u001b[0;34m\u001b[0m\u001b[0;34m\u001b[0m\u001b[0m\n\u001b[1;32m   1680\u001b[0m \u001b[0;34m\u001b[0m\u001b[0m\n\u001b[0;32m-> 1681\u001b[0;31m                     \u001b[0mready\u001b[0m \u001b[0;34m=\u001b[0m \u001b[0mselector\u001b[0m\u001b[0;34m.\u001b[0m\u001b[0mselect\u001b[0m\u001b[0;34m(\u001b[0m\u001b[0mtimeout\u001b[0m\u001b[0;34m)\u001b[0m\u001b[0;34m\u001b[0m\u001b[0;34m\u001b[0m\u001b[0m\n\u001b[0m\u001b[1;32m   1682\u001b[0m                     \u001b[0mself\u001b[0m\u001b[0;34m.\u001b[0m\u001b[0m_check_timeout\u001b[0m\u001b[0;34m(\u001b[0m\u001b[0mendtime\u001b[0m\u001b[0;34m,\u001b[0m \u001b[0morig_timeout\u001b[0m\u001b[0;34m)\u001b[0m\u001b[0;34m\u001b[0m\u001b[0;34m\u001b[0m\u001b[0m\n\u001b[1;32m   1683\u001b[0m \u001b[0;34m\u001b[0m\u001b[0m\n",
      "\u001b[0;32m~/anaconda3/lib/python3.7/selectors.py\u001b[0m in \u001b[0;36mselect\u001b[0;34m(self, timeout)\u001b[0m\n\u001b[1;32m    413\u001b[0m         \u001b[0mready\u001b[0m \u001b[0;34m=\u001b[0m \u001b[0;34m[\u001b[0m\u001b[0;34m]\u001b[0m\u001b[0;34m\u001b[0m\u001b[0;34m\u001b[0m\u001b[0m\n\u001b[1;32m    414\u001b[0m         \u001b[0;32mtry\u001b[0m\u001b[0;34m:\u001b[0m\u001b[0;34m\u001b[0m\u001b[0;34m\u001b[0m\u001b[0m\n\u001b[0;32m--> 415\u001b[0;31m             \u001b[0mfd_event_list\u001b[0m \u001b[0;34m=\u001b[0m \u001b[0mself\u001b[0m\u001b[0;34m.\u001b[0m\u001b[0m_selector\u001b[0m\u001b[0;34m.\u001b[0m\u001b[0mpoll\u001b[0m\u001b[0;34m(\u001b[0m\u001b[0mtimeout\u001b[0m\u001b[0;34m)\u001b[0m\u001b[0;34m\u001b[0m\u001b[0;34m\u001b[0m\u001b[0m\n\u001b[0m\u001b[1;32m    416\u001b[0m         \u001b[0;32mexcept\u001b[0m \u001b[0mInterruptedError\u001b[0m\u001b[0;34m:\u001b[0m\u001b[0;34m\u001b[0m\u001b[0;34m\u001b[0m\u001b[0m\n\u001b[1;32m    417\u001b[0m             \u001b[0;32mreturn\u001b[0m \u001b[0mready\u001b[0m\u001b[0;34m\u001b[0m\u001b[0;34m\u001b[0m\u001b[0m\n",
      "\u001b[0;31mKeyboardInterrupt\u001b[0m: "
     ]
    }
   ],
   "source": [
    "[wm_fod, gm, csf] = mm.ss3t_csd(mif=up_mif, \n",
    "                             mask=mask, \n",
    "                             wm_res=wm_res, \n",
    "                             gm_res=gm_res, \n",
    "                             csf_res=csf_res)"
   ]
  },
  {
   "cell_type": "code",
   "execution_count": 26,
   "metadata": {
    "scrolled": true
   },
   "outputs": [
    {
     "name": "stderr",
     "output_type": "stream",
     "text": [
      "Running: mtnormalise /mnt/c/Users/smart/Desktop/IRC317H_NAS/dti/data.dti/xfm_tck/work.tmp/tmp_dir_6014/sub-C01_ses-001_bval-b2000_run-01_dwi_upsamp_wm_fod.mif /mnt/c/Users/smart/Desktop/IRC317H_NAS/dti/data.dti/xfm_tck/work.tmp/tmp_dir_6014/sub-C01_ses-001_bval-b2000_run-01_dwi_wm_fod_norm.mif /mnt/c/Users/smart/Desktop/IRC317H_NAS/dti/data.dti/xfm_tck/work.tmp/tmp_dir_6014/sub-C01_ses-001_bval-b2000_run-01_dwi_upsamp_gm_tis.mif /mnt/c/Users/smart/Desktop/IRC317H_NAS/dti/data.dti/xfm_tck/work.tmp/tmp_dir_6014/sub-C01_ses-001_bval-b2000_run-01_dwi_gm_tis_norm.mif /mnt/c/Users/smart/Desktop/IRC317H_NAS/dti/data.dti/xfm_tck/work.tmp/tmp_dir_6014/sub-C01_ses-001_bval-b2000_run-01_dwi_upsamp_csf_tis.mif /mnt/c/Users/smart/Desktop/IRC317H_NAS/dti/data.dti/xfm_tck/work.tmp/tmp_dir_6014/sub-C01_ses-001_bval-b2000_run-01_dwi_csf_tis_norm.mif -mask /mnt/c/Users/smart/Desktop/IRC317H_NAS/dti/data.dti/xfm_tck/work.tmp/tmp_dir_6014/sub-C01_ses-001_bval-b2000_run-01_dwi_upsamp_mask.mif\n",
      "mtnormalise: [done] loading input images\u001b[0K\u001b[0K\u001b[?7h\u001b[?7l\n",
      "mtnormalise: [100%] performing log-domain intensity normalisation\u001b[0K\u001b[0K\u001b[?7h\u001b[?7l\n",
      "mtnormalise: [done] writing output images\u001b[0K\u001b[0K\u001b[?7h\u001b[?7l\n",
      "mtnormalise: [100%] performing log-domain intensity normalisation\u001b[0K\n",
      "mtnormalise: [done] loading input images\u001b[0K\n",
      "\n"
     ]
    }
   ],
   "source": [
    "[wm_fod_norm, gm_norm, csf_norm] = mm.bias_field_correction(wm_fod=wm_fod, \n",
    "                                                            gm_tis=gm, \n",
    "                                                            csf_tis=csf, \n",
    "                                                            mask=mask)"
   ]
  },
  {
   "cell_type": "code",
   "execution_count": 31,
   "metadata": {
    "scrolled": true
   },
   "outputs": [
    {
     "name": "stderr",
     "output_type": "stream",
     "text": [
      "Running: fod2dec /mnt/c/Users/smart/Desktop/IRC317H_NAS/dti/data.dti/xfm_tck/work.tmp/tmp_dir_6014/sub-C01_ses-001_bval-b2000_run-01_dwi_wm_fod_norm.mif /mnt/c/Users/smart/Desktop/IRC317H_NAS/dti/data.dti/xfm_tck/work.tmp/tmp_dir_6014/sub-C01_ses-001_bval-b2000_run-01_dwi_dec.mif -mask /mnt/c/Users/smart/Desktop/IRC317H_NAS/dti/data.dti/xfm_tck/work.tmp/tmp_dir_6014/sub-C01_ses-001_bval-b2000_run-01_dwi_upsamp_mask.mif\n",
      "Running: fod2dec /mnt/c/Users/smart/Desktop/IRC317H_NAS/dti/data.dti/xfm_tck/work.tmp/tmp_dir_6014/sub-C01_ses-001_bval-b2000_run-01_dwi_wm_fod_norm.mif /mnt/c/Users/smart/Desktop/IRC317H_NAS/dti/data.dti/xfm_tck/work.tmp/tmp_dir_6014/sub-C01_ses-001_bval-b2000_run-01_dwi_dec.mif -mask /mnt/c/Users/smart/Desktop/IRC317H_NAS/dti/data.dti/xfm_tck/work.tmp/tmp_dir_6014/sub-C01_ses-001_bval-b2000_run-01_dwi_upsamp_mask.mif\n",
      "command: fod2dec /mnt/c/Users/smart/Desktop/IRC317H_NAS/dti/data.dti/xfm_tck/work.tmp/tmp_dir_6014/sub-C01_ses-001_bval-b2000_run-01_dwi_wm_fod_norm.mif /mnt/c/Users/smart/Desktop/IRC317H_NAS/dti/data.dti/xfm_tck/work.tmp/tmp_dir_6014/sub-C01_ses-001_bval-b2000_run-01_dwi_dec.mif -mask /mnt/c/Users/smart/Desktop/IRC317H_NAS/dti/data.dti/xfm_tck/work.tmp/tmp_dir_6014/sub-C01_ses-001_bval-b2000_run-01_dwi_upsamp_mask.mif \n",
      " Failed with returncode 1\n",
      "command: fod2dec /mnt/c/Users/smart/Desktop/IRC317H_NAS/dti/data.dti/xfm_tck/work.tmp/tmp_dir_6014/sub-C01_ses-001_bval-b2000_run-01_dwi_wm_fod_norm.mif /mnt/c/Users/smart/Desktop/IRC317H_NAS/dti/data.dti/xfm_tck/work.tmp/tmp_dir_6014/sub-C01_ses-001_bval-b2000_run-01_dwi_dec.mif -mask /mnt/c/Users/smart/Desktop/IRC317H_NAS/dti/data.dti/xfm_tck/work.tmp/tmp_dir_6014/sub-C01_ses-001_bval-b2000_run-01_dwi_upsamp_mask.mif \n",
      " Failed with returncode 1\n",
      "IOPub data rate exceeded.\n",
      "The notebook server will temporarily stop sending output\n",
      "to the client in order to avoid crashing it.\n",
      "To change this limit, set the config variable\n",
      "`--NotebookApp.iopub_data_rate_limit`.\n",
      "\n",
      "Current values:\n",
      "NotebookApp.iopub_data_rate_limit=1000000.0 (bytes/sec)\n",
      "NotebookApp.rate_limit_window=3.0 (secs)\n",
      "\n",
      "Running: /mnt/c/Users/smart/Desktop/IRC317H_NAS/dti/data.dti/xfm_tck/dwi_extra.sh --wm-fod /mnt/c/Users/smart/Desktop/IRC317H_NAS/dti/data.dti/xfm_tck/work.tmp/tmp_dir_6014/sub-C01_ses-001_bval-b2000_run-01_dwi_wm_fod_norm.mif --gm /mnt/c/Users/smart/Desktop/IRC317H_NAS/dti/data.dti/xfm_tck/work.tmp/tmp_dir_6014/sub-C01_ses-001_bval-b2000_run-01_dwi_gm_tis_norm.mif --csf /mnt/c/Users/smart/Desktop/IRC317H_NAS/dti/data.dti/xfm_tck/work.tmp/tmp_dir_6014/sub-C01_ses-001_bval-b2000_run-01_dwi_csf_tis_norm.mif --out-vf /mnt/c/Users/smart/Desktop/IRC317H_NAS/dti/data.dti/xfm_tck/work.tmp/tmp_dir_6014/sub-C01_ses-001_bval-b2000_run-01_dwi_vf.mif\n",
      "Running: /mnt/c/Users/smart/Desktop/IRC317H_NAS/dti/data.dti/xfm_tck/dwi_extra.sh --wm-fod /mnt/c/Users/smart/Desktop/IRC317H_NAS/dti/data.dti/xfm_tck/work.tmp/tmp_dir_6014/sub-C01_ses-001_bval-b2000_run-01_dwi_wm_fod_norm.mif --gm /mnt/c/Users/smart/Desktop/IRC317H_NAS/dti/data.dti/xfm_tck/work.tmp/tmp_dir_6014/sub-C01_ses-001_bval-b2000_run-01_dwi_gm_tis_norm.mif --csf /mnt/c/Users/smart/Desktop/IRC317H_NAS/dti/data.dti/xfm_tck/work.tmp/tmp_dir_6014/sub-C01_ses-001_bval-b2000_run-01_dwi_csf_tis_norm.mif --out-vf /mnt/c/Users/smart/Desktop/IRC317H_NAS/dti/data.dti/xfm_tck/work.tmp/tmp_dir_6014/sub-C01_ses-001_bval-b2000_run-01_dwi_vf.mif\n",
      "mrconvert: [100%] copying from \"/mnt/c/Use..._run-01_dwi_wm_fod_norm.mif\" to \"/tmp/mrtrix-tmp-FaFI0R.mif\"\u001b[0K\u001b[0K\u001b[?7h\u001b[?7l\n",
      "mrcat: [100%] concatenating \"/mnt/c/Users/smart/Desktop/IRC317H_NAS/dti/data.dti/xfm_tck/work.tmp/tmp_dir_6014/sub-C01_ses-001_bval-b2000_run-01_dwi_csf_tis_norm.mif\"\u001b[0K\u001b[0K\u001b[?7h\u001b[?7l\n",
      "mrcat: [100%] concatenating \"/mnt/c/Users/smart/Desktop/IRC317H_NAS/dti/data.dti/xfm_tck/work.tmp/tmp_dir_6014/sub-C01_ses-001_bval-b2000_run-01_dwi_gm_tis_norm.mif\"\u001b[0K\u001b[0K\u001b[?7h\u001b[?7l\n",
      "mrcat: [100%] concatenating \"/tmp/mrtrix-tmp-FaFI0R.mif\"\u001b[0K\u001b[0K\u001b[?7h\u001b[?7l\n",
      "\n",
      "IOPub data rate exceeded.\n",
      "The notebook server will temporarily stop sending output\n",
      "to the client in order to avoid crashing it.\n",
      "To change this limit, set the config variable\n",
      "`--NotebookApp.iopub_data_rate_limit`.\n",
      "\n",
      "Current values:\n",
      "NotebookApp.iopub_data_rate_limit=1000000.0 (bytes/sec)\n",
      "NotebookApp.rate_limit_window=3.0 (secs)\n",
      "\n"
     ]
    }
   ],
   "source": [
    "[dec,vf] = mm.compute_dec_map(wm_fod_norm, gm_norm, csf_norm,mask)"
   ]
  },
  {
   "cell_type": "code",
   "execution_count": 28,
   "metadata": {},
   "outputs": [
    {
     "data": {
      "text/plain": [
       "'/mnt/c/Users/smart/Desktop/IRC317H_NAS/dti/data.dti/xfm_tck/work.tmp/tmp_dir_6014/sub-C01_ses-001_bval-b2000_run-01_dwi_vf.mif'"
      ]
     },
     "execution_count": 28,
     "metadata": {},
     "output_type": "execute_result"
    }
   ],
   "source": [
    "dec.file\n",
    "vf.file"
   ]
  },
  {
   "cell_type": "code",
   "execution_count": 40,
   "metadata": {
    "scrolled": true
   },
   "outputs": [
    {
     "name": "stderr",
     "output_type": "stream",
     "text": [
      "Running: tckgen /mnt/c/Users/smart/Desktop/IRC317H_NAS/dti/data.dti/xfm_tck/work.tmp/tmp_dir_6014/sub-C01_ses-001_bval-b2000_run-01_dwi_wm_fod_norm.mif /mnt/c/Users/smart/Desktop/IRC317H_NAS/dti/data.dti/xfm_tck/work.tmp/tmp_dir_6014/sub-C01_ses-001_bval-b2000_run-01_dwi.100000.streamlines.tck -seed_image /mnt/c/Users/smart/Desktop/IRC317H_NAS/dti/data.dti/xfm_tck/work.tmp/tmp_dir_6014/sub-C01_ses-001_bval-b2000_run-01_dwi_upsamp_mask.mif -select 100000 -cutoff 0.07\n",
      "Running: tckgen /mnt/c/Users/smart/Desktop/IRC317H_NAS/dti/data.dti/xfm_tck/work.tmp/tmp_dir_6014/sub-C01_ses-001_bval-b2000_run-01_dwi_wm_fod_norm.mif /mnt/c/Users/smart/Desktop/IRC317H_NAS/dti/data.dti/xfm_tck/work.tmp/tmp_dir_6014/sub-C01_ses-001_bval-b2000_run-01_dwi.100000.streamlines.tck -seed_image /mnt/c/Users/smart/Desktop/IRC317H_NAS/dti/data.dti/xfm_tck/work.tmp/tmp_dir_6014/sub-C01_ses-001_bval-b2000_run-01_dwi_upsamp_mask.mif -select 100000 -cutoff 0.07\n",
      "Running: tckgen /mnt/c/Users/smart/Desktop/IRC317H_NAS/dti/data.dti/xfm_tck/work.tmp/tmp_dir_6014/sub-C01_ses-001_bval-b2000_run-01_dwi_wm_fod_norm.mif /mnt/c/Users/smart/Desktop/IRC317H_NAS/dti/data.dti/xfm_tck/work.tmp/tmp_dir_6014/sub-C01_ses-001_bval-b2000_run-01_dwi.100000.streamlines.tck -seed_image /mnt/c/Users/smart/Desktop/IRC317H_NAS/dti/data.dti/xfm_tck/work.tmp/tmp_dir_6014/sub-C01_ses-001_bval-b2000_run-01_dwi_upsamp_mask.mif -select 100000 -cutoff 0.07\n",
      "Running: tckgen /mnt/c/Users/smart/Desktop/IRC317H_NAS/dti/data.dti/xfm_tck/work.tmp/tmp_dir_6014/sub-C01_ses-001_bval-b2000_run-01_dwi_wm_fod_norm.mif /mnt/c/Users/smart/Desktop/IRC317H_NAS/dti/data.dti/xfm_tck/work.tmp/tmp_dir_6014/sub-C01_ses-001_bval-b2000_run-01_dwi.100000.streamlines.tck -seed_image /mnt/c/Users/smart/Desktop/IRC317H_NAS/dti/data.dti/xfm_tck/work.tmp/tmp_dir_6014/sub-C01_ses-001_bval-b2000_run-01_dwi_upsamp_mask.mif -select 100000 -cutoff 0.07\n",
      "command: tckgen /mnt/c/Users/smart/Desktop/IRC317H_NAS/dti/data.dti/xfm_tck/work.tmp/tmp_dir_6014/sub-C01_ses-001_bval-b2000_run-01_dwi_wm_fod_norm.mif /mnt/c/Users/smart/Desktop/IRC317H_NAS/dti/data.dti/xfm_tck/work.tmp/tmp_dir_6014/sub-C01_ses-001_bval-b2000_run-01_dwi.100000.streamlines.tck -seed_image /mnt/c/Users/smart/Desktop/IRC317H_NAS/dti/data.dti/xfm_tck/work.tmp/tmp_dir_6014/sub-C01_ses-001_bval-b2000_run-01_dwi_upsamp_mask.mif -select 100000 -cutoff 0.07 \n",
      " Failed with returncode 1\n",
      "command: tckgen /mnt/c/Users/smart/Desktop/IRC317H_NAS/dti/data.dti/xfm_tck/work.tmp/tmp_dir_6014/sub-C01_ses-001_bval-b2000_run-01_dwi_wm_fod_norm.mif /mnt/c/Users/smart/Desktop/IRC317H_NAS/dti/data.dti/xfm_tck/work.tmp/tmp_dir_6014/sub-C01_ses-001_bval-b2000_run-01_dwi.100000.streamlines.tck -seed_image /mnt/c/Users/smart/Desktop/IRC317H_NAS/dti/data.dti/xfm_tck/work.tmp/tmp_dir_6014/sub-C01_ses-001_bval-b2000_run-01_dwi_upsamp_mask.mif -select 100000 -cutoff 0.07 \n",
      " Failed with returncode 1\n",
      "command: tckgen /mnt/c/Users/smart/Desktop/IRC317H_NAS/dti/data.dti/xfm_tck/work.tmp/tmp_dir_6014/sub-C01_ses-001_bval-b2000_run-01_dwi_wm_fod_norm.mif /mnt/c/Users/smart/Desktop/IRC317H_NAS/dti/data.dti/xfm_tck/work.tmp/tmp_dir_6014/sub-C01_ses-001_bval-b2000_run-01_dwi.100000.streamlines.tck -seed_image /mnt/c/Users/smart/Desktop/IRC317H_NAS/dti/data.dti/xfm_tck/work.tmp/tmp_dir_6014/sub-C01_ses-001_bval-b2000_run-01_dwi_upsamp_mask.mif -select 100000 -cutoff 0.07 \n",
      " Failed with returncode 1\n",
      "command: tckgen /mnt/c/Users/smart/Desktop/IRC317H_NAS/dti/data.dti/xfm_tck/work.tmp/tmp_dir_6014/sub-C01_ses-001_bval-b2000_run-01_dwi_wm_fod_norm.mif /mnt/c/Users/smart/Desktop/IRC317H_NAS/dti/data.dti/xfm_tck/work.tmp/tmp_dir_6014/sub-C01_ses-001_bval-b2000_run-01_dwi.100000.streamlines.tck -seed_image /mnt/c/Users/smart/Desktop/IRC317H_NAS/dti/data.dti/xfm_tck/work.tmp/tmp_dir_6014/sub-C01_ses-001_bval-b2000_run-01_dwi_upsamp_mask.mif -select 100000 -cutoff 0.07 \n",
      " Failed with returncode 1\n",
      "tckgen: \u001b[01;31m[ERROR] output file \"/mnt/c/Users/smart/Desktop/IRC317H_NAS/dti/data.dti/xfm_tck/work.tmp/tmp_dir_6014/sub-C01_ses-001_bval-b2000_run-01_dwi.100000.streamlines.tck\" already exists (use -force option to force overwrite)\u001b[0m\n",
      "\n",
      "tckgen: \u001b[01;31m[ERROR] output file \"/mnt/c/Users/smart/Desktop/IRC317H_NAS/dti/data.dti/xfm_tck/work.tmp/tmp_dir_6014/sub-C01_ses-001_bval-b2000_run-01_dwi.100000.streamlines.tck\" already exists (use -force option to force overwrite)\u001b[0m\n",
      "\n",
      "tckgen: \u001b[01;31m[ERROR] output file \"/mnt/c/Users/smart/Desktop/IRC317H_NAS/dti/data.dti/xfm_tck/work.tmp/tmp_dir_6014/sub-C01_ses-001_bval-b2000_run-01_dwi.100000.streamlines.tck\" already exists (use -force option to force overwrite)\u001b[0m\n",
      "\n",
      "tckgen: \u001b[01;31m[ERROR] output file \"/mnt/c/Users/smart/Desktop/IRC317H_NAS/dti/data.dti/xfm_tck/work.tmp/tmp_dir_6014/sub-C01_ses-001_bval-b2000_run-01_dwi.100000.streamlines.tck\" already exists (use -force option to force overwrite)\u001b[0m\n",
      "\n"
     ]
    }
   ],
   "source": [
    "tcks = mm.mr_tck_global(wm_fod_norm,mask)"
   ]
  },
  {
   "cell_type": "code",
   "execution_count": 41,
   "metadata": {},
   "outputs": [
    {
     "data": {
      "text/plain": [
       "'/mnt/c/Users/smart/Desktop/IRC317H_NAS/dti/data.dti/xfm_tck/work.tmp/tmp_dir_6014/sub-C01_ses-001_bval-b2000_run-01_dwi.100000.streamlines.tck'"
      ]
     },
     "execution_count": 41,
     "metadata": {},
     "output_type": "execute_result"
    }
   ],
   "source": [
    "tcks.file"
   ]
  },
  {
   "cell_type": "code",
   "execution_count": 42,
   "metadata": {
    "scrolled": true
   },
   "outputs": [
    {
     "name": "stderr",
     "output_type": "stream",
     "text": [
      "Running: tcksift /mnt/c/Users/smart/Desktop/IRC317H_NAS/dti/data.dti/xfm_tck/work.tmp/tmp_dir_6014/sub-C01_ses-001_bval-b2000_run-01_dwi.100000.streamlines.tck /mnt/c/Users/smart/Desktop/IRC317H_NAS/dti/data.dti/xfm_tck/work.tmp/tmp_dir_6014/sub-C01_ses-001_bval-b2000_run-01_dwi_wm_fod_norm.mif /mnt/c/Users/smart/Desktop/IRC317H_NAS/dti/data.dti/xfm_tck/work.tmp/tmp_dir_6014/sub-C01_ses-001_bval-b2000_run-01_dwi.10000.streamlines.filtered.tck -proc_mask /mnt/c/Users/smart/Desktop/IRC317H_NAS/dti/data.dti/xfm_tck/work.tmp/tmp_dir_6014/sub-C01_ses-001_bval-b2000_run-01_dwi_upsamp_mask.mif -term_number 10000\n",
      "Running: tcksift /mnt/c/Users/smart/Desktop/IRC317H_NAS/dti/data.dti/xfm_tck/work.tmp/tmp_dir_6014/sub-C01_ses-001_bval-b2000_run-01_dwi.100000.streamlines.tck /mnt/c/Users/smart/Desktop/IRC317H_NAS/dti/data.dti/xfm_tck/work.tmp/tmp_dir_6014/sub-C01_ses-001_bval-b2000_run-01_dwi_wm_fod_norm.mif /mnt/c/Users/smart/Desktop/IRC317H_NAS/dti/data.dti/xfm_tck/work.tmp/tmp_dir_6014/sub-C01_ses-001_bval-b2000_run-01_dwi.10000.streamlines.filtered.tck -proc_mask /mnt/c/Users/smart/Desktop/IRC317H_NAS/dti/data.dti/xfm_tck/work.tmp/tmp_dir_6014/sub-C01_ses-001_bval-b2000_run-01_dwi_upsamp_mask.mif -term_number 10000\n",
      "Running: tcksift /mnt/c/Users/smart/Desktop/IRC317H_NAS/dti/data.dti/xfm_tck/work.tmp/tmp_dir_6014/sub-C01_ses-001_bval-b2000_run-01_dwi.100000.streamlines.tck /mnt/c/Users/smart/Desktop/IRC317H_NAS/dti/data.dti/xfm_tck/work.tmp/tmp_dir_6014/sub-C01_ses-001_bval-b2000_run-01_dwi_wm_fod_norm.mif /mnt/c/Users/smart/Desktop/IRC317H_NAS/dti/data.dti/xfm_tck/work.tmp/tmp_dir_6014/sub-C01_ses-001_bval-b2000_run-01_dwi.10000.streamlines.filtered.tck -proc_mask /mnt/c/Users/smart/Desktop/IRC317H_NAS/dti/data.dti/xfm_tck/work.tmp/tmp_dir_6014/sub-C01_ses-001_bval-b2000_run-01_dwi_upsamp_mask.mif -term_number 10000\n",
      "Running: tcksift /mnt/c/Users/smart/Desktop/IRC317H_NAS/dti/data.dti/xfm_tck/work.tmp/tmp_dir_6014/sub-C01_ses-001_bval-b2000_run-01_dwi.100000.streamlines.tck /mnt/c/Users/smart/Desktop/IRC317H_NAS/dti/data.dti/xfm_tck/work.tmp/tmp_dir_6014/sub-C01_ses-001_bval-b2000_run-01_dwi_wm_fod_norm.mif /mnt/c/Users/smart/Desktop/IRC317H_NAS/dti/data.dti/xfm_tck/work.tmp/tmp_dir_6014/sub-C01_ses-001_bval-b2000_run-01_dwi.10000.streamlines.filtered.tck -proc_mask /mnt/c/Users/smart/Desktop/IRC317H_NAS/dti/data.dti/xfm_tck/work.tmp/tmp_dir_6014/sub-C01_ses-001_bval-b2000_run-01_dwi_upsamp_mask.mif -term_number 10000\n",
      "tcksift: [100%] Copying processing mask to memory\u001b[0K\u001b[0K\u001b[?7h\u001b[?7l\n",
      "tcksift: [100%] segmenting FODs\u001b[0K\u001b[0K\u001b[?7h\u001b[?7l\n",
      "tcksift: [100%] mapping tracks to image\u001b[0K\u001b[0K\u001b[?7h\u001b[?7l\n",
      "tcksift:        Iteration     Removed     Remaining     Cost fn\n",
      "tcksift: [  . ]     596           12         36853       27.30%\u001b[0K\u001b[?7h\u001b[?7l\n",
      "\n",
      "tcksift: \u001b[00;31m[WARNING] filtering has reached quantisation error but desired termination criterion has not been met;\u001b[0m\n",
      "tcksift: \u001b[00;31m[WARNING]   disabling cost function quantisation check\u001b[0m\n",
      "tcksift: [done]    1125            0         23610       25.56%\u001b[0K\u001b[?7h\u001b[?7l\n",
      "tcksift: \u001b[00;31m[WARNING] algorithm terminated before any user-specified termination criterion was met\u001b[0m\n",
      "tcksift: [done]    1125            0         23610       25.56%\u001b[0K\n",
      "tcksift: [100%] Writing filtered tracks output file\u001b[0K\u001b[0K\u001b[?7h\u001b[?7l\n",
      "\n",
      "tcksift: [100%] Copying processing mask to memory\u001b[0K\u001b[0K\u001b[?7h\u001b[?7l\n",
      "tcksift: [100%] segmenting FODs\u001b[0K\u001b[0K\u001b[?7h\u001b[?7l\n",
      "tcksift: [100%] mapping tracks to image\u001b[0K\u001b[0K\u001b[?7h\u001b[?7l\n",
      "tcksift:        Iteration     Removed     Remaining     Cost fn\n",
      "tcksift: [  . ]     596           12         36853       27.30%\u001b[0K\u001b[?7h\u001b[?7l\n",
      "\n",
      "tcksift: \u001b[00;31m[WARNING] filtering has reached quantisation error but desired termination criterion has not been met;\u001b[0m\n",
      "tcksift: \u001b[00;31m[WARNING]   disabling cost function quantisation check\u001b[0m\n",
      "tcksift: [done]    1125            0         23610       25.56%\u001b[0K\u001b[?7h\u001b[?7l\n",
      "tcksift: \u001b[00;31m[WARNING] algorithm terminated before any user-specified termination criterion was met\u001b[0m\n",
      "tcksift: [done]    1125            0         23610       25.56%\u001b[0K\n",
      "tcksift: [100%] Writing filtered tracks output file\u001b[0K\u001b[0K\u001b[?7h\u001b[?7l\n",
      "\n",
      "tcksift: [100%] Copying processing mask to memory\u001b[0K\u001b[0K\u001b[?7h\u001b[?7l\n",
      "tcksift: [100%] segmenting FODs\u001b[0K\u001b[0K\u001b[?7h\u001b[?7l\n",
      "tcksift: [100%] mapping tracks to image\u001b[0K\u001b[0K\u001b[?7h\u001b[?7l\n",
      "tcksift:        Iteration     Removed     Remaining     Cost fn\n",
      "tcksift: [  . ]     596           12         36853       27.30%\u001b[0K\u001b[?7h\u001b[?7l\n",
      "\n",
      "tcksift: \u001b[00;31m[WARNING] filtering has reached quantisation error but desired termination criterion has not been met;\u001b[0m\n",
      "tcksift: \u001b[00;31m[WARNING]   disabling cost function quantisation check\u001b[0m\n",
      "tcksift: [done]    1125            0         23610       25.56%\u001b[0K\u001b[?7h\u001b[?7l\n",
      "tcksift: \u001b[00;31m[WARNING] algorithm terminated before any user-specified termination criterion was met\u001b[0m\n",
      "tcksift: [done]    1125            0         23610       25.56%\u001b[0K\n",
      "tcksift: [100%] Writing filtered tracks output file\u001b[0K\u001b[0K\u001b[?7h\u001b[?7l\n",
      "\n",
      "tcksift: [100%] Copying processing mask to memory\u001b[0K\u001b[0K\u001b[?7h\u001b[?7l\n",
      "tcksift: [100%] segmenting FODs\u001b[0K\u001b[0K\u001b[?7h\u001b[?7l\n",
      "tcksift: [100%] mapping tracks to image\u001b[0K\u001b[0K\u001b[?7h\u001b[?7l\n",
      "tcksift:        Iteration     Removed     Remaining     Cost fn\n",
      "tcksift: [  . ]     596           12         36853       27.30%\u001b[0K\u001b[?7h\u001b[?7l\n",
      "\n",
      "tcksift: \u001b[00;31m[WARNING] filtering has reached quantisation error but desired termination criterion has not been met;\u001b[0m\n",
      "tcksift: \u001b[00;31m[WARNING]   disabling cost function quantisation check\u001b[0m\n",
      "tcksift: [done]    1125            0         23610       25.56%\u001b[0K\u001b[?7h\u001b[?7l\n",
      "tcksift: \u001b[00;31m[WARNING] algorithm terminated before any user-specified termination criterion was met\u001b[0m\n",
      "tcksift: [done]    1125            0         23610       25.56%\u001b[0K\n",
      "tcksift: [100%] Writing filtered tracks output file\u001b[0K\u001b[0K\u001b[?7h\u001b[?7l\n",
      "\n"
     ]
    }
   ],
   "source": [
    "tcks_filt = mm.mr_tck_sift(tcks,wm_fod_norm,10000,mask)"
   ]
  },
  {
   "cell_type": "code",
   "execution_count": 44,
   "metadata": {},
   "outputs": [
    {
     "data": {
      "text/plain": [
       "'/mnt/c/Users/smart/Desktop/IRC317H_NAS/dti/data.dti/xfm_tck/work.tmp/tmp_dir_6014/sub-C01_ses-001_bval-b2000_run-01_dwi.bval'"
      ]
     },
     "execution_count": 44,
     "metadata": {},
     "output_type": "execute_result"
    }
   ],
   "source": [
    "b_tmp.file"
   ]
  },
  {
   "cell_type": "code",
   "execution_count": null,
   "metadata": {},
   "outputs": [],
   "source": [
    "# Copy bvals and bvecs for QIT visualization\n",
    "b_tmp = work_tmp.TmpFile(os.path.basename(b),work_tmp.tmp_dir)\n",
    "e_tmp = work_tmp.TmpFile(os.path.basename(e),work_tmp.tmp_dir)"
   ]
  },
  {
   "cell_type": "code",
   "execution_count": null,
   "metadata": {},
   "outputs": [],
   "source": [
    "copy(b_tmp.file,)\n",
    "copy(e_tmp.file.)"
   ]
  },
  {
   "cell_type": "code",
   "execution_count": null,
   "metadata": {},
   "outputs": [],
   "source": []
  },
  {
   "cell_type": "code",
   "execution_count": null,
   "metadata": {},
   "outputs": [],
   "source": []
  },
  {
   "cell_type": "code",
   "execution_count": 55,
   "metadata": {},
   "outputs": [],
   "source": [
    "# copy data in work_tmp to another directory when finished"
   ]
  },
  {
   "cell_type": "code",
   "execution_count": null,
   "metadata": {},
   "outputs": [],
   "source": []
  },
  {
   "cell_type": "code",
   "execution_count": null,
   "metadata": {},
   "outputs": [],
   "source": []
  },
  {
   "cell_type": "code",
   "execution_count": 47,
   "metadata": {},
   "outputs": [],
   "source": [
    "work_tmp.rm_tmp_dir(rm_parent=True)"
   ]
  },
  {
   "cell_type": "code",
   "execution_count": 46,
   "metadata": {},
   "outputs": [
    {
     "data": {
      "text/plain": [
       "1200000.0"
      ]
     },
     "execution_count": 46,
     "metadata": {},
     "output_type": "execute_result"
    }
   ],
   "source": [
    "1.2e6"
   ]
  },
  {
   "cell_type": "code",
   "execution_count": null,
   "metadata": {},
   "outputs": [],
   "source": []
  }
 ],
 "metadata": {
  "kernelspec": {
   "display_name": "Python 3",
   "language": "python",
   "name": "python3"
  },
  "language_info": {
   "codemirror_mode": {
    "name": "ipython",
    "version": 3
   },
   "file_extension": ".py",
   "mimetype": "text/x-python",
   "name": "python",
   "nbconvert_exporter": "python",
   "pygments_lexer": "ipython3",
   "version": "3.7.3"
  }
 },
 "nbformat": 4,
 "nbformat_minor": 2
}

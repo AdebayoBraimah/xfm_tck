{
 "cells": [
  {
   "cell_type": "code",
   "execution_count": 1,
   "metadata": {},
   "outputs": [],
   "source": [
    "import os\n",
    "import subprocess\n",
    "import shlex\n",
    "import shutil\n",
    "\n",
    "from dataclasses import dataclass"
   ]
  },
  {
   "cell_type": "code",
   "execution_count": 2,
   "metadata": {},
   "outputs": [],
   "source": [
    "from typing import (\n",
    "    Dict,\n",
    "    List,\n",
    "    Optional,\n",
    "    Tuple,\n",
    "    Union\n",
    ")"
   ]
  },
  {
   "cell_type": "code",
   "execution_count": 3,
   "metadata": {},
   "outputs": [],
   "source": [
    "class DependencyError(Exception):\n",
    "    \"\"\"Exception intended for unment dependencies\"\"\"\n",
    "    pass"
   ]
  },
  {
   "cell_type": "code",
   "execution_count": 4,
   "metadata": {},
   "outputs": [],
   "source": [
    "import sys\n",
    "sys.path.append('/Users/adebayobraimah/Desktop/projects/xfm_tck/')"
   ]
  },
  {
   "cell_type": "code",
   "execution_count": 5,
   "metadata": {},
   "outputs": [],
   "source": [
    "from fileio import File\n",
    "from logutil import LogFile"
   ]
  },
  {
   "cell_type": "code",
   "execution_count": 17,
   "metadata": {},
   "outputs": [
    {
     "data": {
      "text/plain": [
       "environ{'ELECTRON_RUN_AS_NODE': '1',\n",
       "        'USER': 'adebayobraimah',\n",
       "        '__CFBundleIdentifier': 'com.microsoft.VSCode',\n",
       "        'COMMAND_MODE': 'unix2003',\n",
       "        'DISPLAY': '/private/tmp/com.apple.launchd.Att8HKisTq/org.xquartz:0',\n",
       "        'LOGNAME': 'adebayobraimah',\n",
       "        'PATH': '/Users/adebayobraimah/anaconda3/bin:/Users/adebayobraimah/bin/mango:/Users/adebayobraimah/anaconda3/bin:/Users/adebayobraimah/anaconda3/condabin:/Applications/RStudio.app/Contents/MacOS:/usr/local/opt/llvm/bin:/Users/adebayobraimah/bin/ANTs/2.3.5/install/bin:/Applications/Convert3DGUI.app/Contents/bin:/Applications/CMake.app/Contents/bin:/Users/adebayobraimah/bin/mango:/usr/local/fsl/6.0.5/bin:/usr/local/bin:/usr/bin:/bin:/usr/sbin:/sbin:/Library/TeX/texbin:/usr/local/go/bin:/opt/X11/bin:/Library/Apple/usr/bin:/Users/adebayobraimah/bin/mango:/Users/adebayobraimah/bin:/Users/adebayobraimah/bin',\n",
       "        'SSH_AUTH_SOCK': '/private/tmp/com.apple.launchd.jbJEGEMCOp/Listeners',\n",
       "        'SHELL': '/bin/zsh',\n",
       "        'HOME': '/Users/adebayobraimah',\n",
       "        '__CF_USER_TEXT_ENCODING': '0x1F5:0x0:0x0',\n",
       "        'TMPDIR': '/var/folders/ly/bjkhrmqd7p5b0ffcfy9qz_j40000gn/T/',\n",
       "        'XPC_SERVICE_NAME': '0',\n",
       "        'XPC_FLAGS': '0x0',\n",
       "        'ORIGINAL_XDG_CURRENT_DESKTOP': 'undefined',\n",
       "        'VSCODE_CWD': '/',\n",
       "        'VSCODE_NLS_CONFIG': '{\"locale\":\"en-us\",\"availableLanguages\":{},\"_languagePackSupport\":true}',\n",
       "        'VSCODE_CODE_CACHE_PATH': '/Users/adebayobraimah/Library/Application Support/Code/CachedData/dfd34e8260c270da74b5c2d86d61aee4b6d56977',\n",
       "        'VSCODE_IPC_HOOK': '/Users/adebayobraimah/Library/Application Support/Code/1.66.2-main.sock',\n",
       "        'VSCODE_PID': '10971',\n",
       "        'SHLVL': '2',\n",
       "        'PWD': '/',\n",
       "        'OLDPWD': '/',\n",
       "        'FSLOUTPUTTYPE': 'NIFTI_GZ',\n",
       "        'FSLMULTIFILEQUIT': 'TRUE',\n",
       "        'FSLTCLSH': '/usr/local/fsl/6.0.5/bin/fsltclsh',\n",
       "        'FSLWISH': '/usr/local/fsl/6.0.5/bin/fslwish',\n",
       "        'FSLLOCKDIR': '',\n",
       "        'FSLMACHINELIST': '',\n",
       "        'FSLREMOTECALL': '',\n",
       "        'FSLGECUDAQ': 'cuda.q',\n",
       "        'FSLDIR': '/usr/local/fsl/6.0.5',\n",
       "        'ANTSPATH': '/Users/adebayobraimah/bin/ANTs/2.3.5/install/bin/',\n",
       "        'RSTUDIO_BIN': '/Applications/RStudio.app/Contents/MacOS',\n",
       "        'CONDA_EXE': '/Users/adebayobraimah/anaconda3/bin/conda',\n",
       "        '_CE_M': '',\n",
       "        '_CE_CONDA': '',\n",
       "        'CONDA_PYTHON_EXE': '/Users/adebayobraimah/anaconda3/bin/python',\n",
       "        'CONDA_SHLVL': '1',\n",
       "        'CONDA_PREFIX': '/Users/adebayobraimah/anaconda3',\n",
       "        'CONDA_DEFAULT_ENV': 'base',\n",
       "        'CONDA_PROMPT_MODIFIER': '(base) ',\n",
       "        '_': '/Users/adebayobraimah/anaconda3/bin/python',\n",
       "        'VSCODE_AMD_ENTRYPOINT': 'vs/workbench/api/node/extensionHostProcess',\n",
       "        'VSCODE_PIPE_LOGGING': 'true',\n",
       "        'VSCODE_VERBOSE_LOGGING': 'true',\n",
       "        'VSCODE_LOG_NATIVE': 'false',\n",
       "        'VSCODE_IPC_HOOK_EXTHOST': '/var/folders/ly/bjkhrmqd7p5b0ffcfy9qz_j40000gn/T/vscode-ipc-96fc2b29-d15d-4c3a-889d-08c9768f82c5.sock',\n",
       "        'VSCODE_HANDLES_UNCAUGHT_ERRORS': 'true',\n",
       "        'VSCODE_LOG_STACK': 'false',\n",
       "        'APPLICATION_INSIGHTS_NO_DIAGNOSTIC_CHANNEL': '1',\n",
       "        'PYTHONUNBUFFERED': '1',\n",
       "        'PYTHONIOENCODING': 'utf-8',\n",
       "        'CONDA_ROOT': '/Users/adebayobraimah/anaconda3',\n",
       "        'LC_CTYPE': 'UTF-8',\n",
       "        'PYTHONNOUSERSITE': 'True',\n",
       "        'TERM': 'xterm-color',\n",
       "        'CLICOLOR': '1',\n",
       "        'PAGER': 'cat',\n",
       "        'GIT_PAGER': 'cat',\n",
       "        'MPLBACKEND': 'module://ipykernel.pylab.backend_inline'}"
      ]
     },
     "execution_count": 17,
     "metadata": {},
     "output_type": "execute_result"
    }
   ],
   "source": [
    "os.environ"
   ]
  },
  {
   "cell_type": "code",
   "execution_count": 35,
   "metadata": {},
   "outputs": [],
   "source": [
    "@dataclass\n",
    "class Command:\n",
    "    \"\"\"Creates a command object for UNIX command line binaries/programs/applications to be executed. Primary use and \n",
    "    use-cases are intended for the subprocess module and its associated classes (i.e. Popen/call/run).\n",
    "\n",
    "    The input argument is a command (string).\n",
    "\n",
    "    NOTE: \n",
    "        The specified command used must be in system path.\n",
    "    \n",
    "    Attributes:\n",
    "        command: Command to be executed/run on the command line.\n",
    "        env: Dictionary of environment variables to add to subshell.\n",
    "    \n",
    "    Usage example:\n",
    "        >>> echo = Command(\"echo 'Hi! I have arrived!'\")\n",
    "        >>> echo\n",
    "        echo Hi! I have arrived!\n",
    "        >>>\n",
    "        >>> echo.run()\n",
    "        (0, None, None)\n",
    "        Hi! I have arrived! # Output is directed to the shell\n",
    "    \n",
    "    Arguments:\n",
    "        command: Command to be used.\n",
    "        env: Dictionary of environment variables to add to subshell.\n",
    "    \"\"\"\n",
    "    command: str\n",
    "    env: Dict[str,str] = None\n",
    "    \n",
    "    def check_dependency(self) -> bool:\n",
    "        \"\"\"Checks the dependency of some command line executable. Should the \n",
    "        dependency not be met, then an exception is raised. Check the \n",
    "        system path should problems arise and ensure that the executable\n",
    "        of interest is installed and is in the system path.\n",
    "        \n",
    "        Usage example:\n",
    "            >>> figlet = Command(\"figlet python\")\n",
    "            >>> figlet.check_dependency()   # Raises exception if not in system path\n",
    "\n",
    "        Returns:\n",
    "            Returns True if dependency is met, raises exception otherwise.\n",
    "        \n",
    "        Raises:\n",
    "            DependencyError: Dependency error exception is raised if the dependency is not met.\n",
    "        \"\"\"\n",
    "        _tmp: List[str] = shlex.split(self.command)\n",
    "        _cmd: str = _tmp[0]\n",
    "\n",
    "        if not shutil.which(_cmd):\n",
    "            raise DependencyError(f\"Command executable not found in system path: {_cmd}\")\n",
    "        return True\n",
    "    \n",
    "    def run(self,\n",
    "            log: Optional[Union[LogFile,str]] = None,\n",
    "            debug: bool = False,\n",
    "            dryrun: bool = False,\n",
    "            stdout: str = None,\n",
    "            shell: bool = False,\n",
    "            raise_exc: bool = True\n",
    "           ) -> Tuple[int,Union[str,None],Union[str,None]]:\n",
    "        \"\"\"Uses python's built-in ``subprocess`` module to execute (run) a command from a command.\n",
    "        The standard output and error can optionally be written to file.\n",
    "        \n",
    "        NOTE: \n",
    "            * The contents of the ``stdout`` output file will be empty if ``shell`` is set to ``True``.\n",
    "        \n",
    "        Usage example:\n",
    "            >>> # Create command and cmd_list\n",
    "            >>> echo = Command(\"echo\")\n",
    "            >>> echo.opt(\"Hi!\")\n",
    "            >>> echo.opt(\"I have arrived!\")\n",
    "            >>>\n",
    "            >>> # Run/execute command\n",
    "            >>> echo.run()\n",
    "            (0, '', '')\n",
    "        \n",
    "        Arguments:\n",
    "            log: ``LogFile`` object or ``str``.\n",
    "            debug: Sets logging function verbosity to DEBUG level.\n",
    "            dryrun: Dry run -- does not run task. Command is recorded to the log file.\n",
    "            stdout: Output file to write standard output to.\n",
    "            shell: Use shell to execute command.\n",
    "            raise_exec: If true, raises ``RuntimeError`` exception if the return code of the command is not 0 - otherwise no exception is raised with non-0 return codes.\n",
    "            \n",
    "        Returns:\n",
    "            * Return code for command execution (``int``).\n",
    "            * Standard output writtent to file should the 'stdout' option be used (``str``).\n",
    "            * Standard error writtent to file should the 'stdout' option be used (``str``).\n",
    "        \n",
    "        Raises:\n",
    "            RuntimeError: Exception that is raised if the return code of the command is not 0 and the ``raise_exc`` argument is set to ``True``.\n",
    "        \"\"\"\n",
    "        cmd: List[str] = shlex.split(s=self.command, comments=False, posix=True)\n",
    "\n",
    "        if type(log) is str:\n",
    "            log: LogFile = LogFile(log_file=log)\n",
    "\n",
    "        if log and debug:\n",
    "            log.debug(f\"Running:\\t{self.command}\")\n",
    "        elif log:\n",
    "            log.info(f\"Running:\\t{self.command}\")\n",
    "        \n",
    "        if log and dryrun:\n",
    "            log.info(f\"Performing command as a dry run.\")\n",
    "            return 0, None, None\n",
    "        \n",
    "        # Define environment and environmental variables\n",
    "        merged_env: Dict[str,str] = os.environ\n",
    "        if self.env is not None:\n",
    "            merged_env.update(self.env)\n",
    "\n",
    "        p: subprocess.Popen = subprocess.Popen(cmd,\n",
    "                                               shell=shell,\n",
    "                                               env=merged_env,\n",
    "                                               stdout=subprocess.PIPE,\n",
    "                                               stderr=subprocess.PIPE)\n",
    "        \n",
    "        # Write output files\n",
    "        out,err = p.communicate()\n",
    "        out = out.decode('utf-8')\n",
    "        err = err.decode('utf-8')\n",
    "\n",
    "        # Standard output/error files\n",
    "        if stdout is not None:\n",
    "            stderr: str = os.path.splitext(str(stdout))[0] + \".err\"\n",
    "\n",
    "            with File(src=stdout) as stout:\n",
    "                with File(src=stderr) as sterr:\n",
    "                    stout.write(out)\n",
    "                    sterr.write(err)\n",
    "                    stdout: str = stout.abspath()\n",
    "                    stderr: str = sterr.abspath()\n",
    "        else:\n",
    "            stdout: str = None\n",
    "            stderr: str = None\n",
    "\n",
    "        if p.returncode != 0:\n",
    "            if log: log.error(f\"Failed:\\t{self.command} with return code {p.returncode}\")\n",
    "            if raise_exc: raise RuntimeError(f\"\\nFailed:\\t{self.command} with return code {p.returncode}\\n\")\n",
    "\n",
    "        return (p.returncode,\n",
    "                stdout,\n",
    "                stderr)\n",
    "    "
   ]
  },
  {
   "cell_type": "code",
   "execution_count": 36,
   "metadata": {},
   "outputs": [
    {
     "data": {
      "text/plain": [
       "Command(command=\"echo 'Hi! I have arrived!'\", env=None)"
      ]
     },
     "execution_count": 36,
     "metadata": {},
     "output_type": "execute_result"
    }
   ],
   "source": [
    "c = Command(\"echo 'Hi! I have arrived!'\")\n",
    "c"
   ]
  },
  {
   "cell_type": "code",
   "execution_count": 30,
   "metadata": {},
   "outputs": [],
   "source": [
    "c = Command(\"figlet test\")"
   ]
  },
  {
   "cell_type": "code",
   "execution_count": 31,
   "metadata": {},
   "outputs": [
    {
     "data": {
      "text/plain": [
       "Command(command='figlet test', env=None)"
      ]
     },
     "execution_count": 31,
     "metadata": {},
     "output_type": "execute_result"
    }
   ],
   "source": [
    "c"
   ]
  },
  {
   "cell_type": "code",
   "execution_count": 32,
   "metadata": {},
   "outputs": [
    {
     "data": {
      "text/plain": [
       "True"
      ]
     },
     "execution_count": 32,
     "metadata": {},
     "output_type": "execute_result"
    }
   ],
   "source": [
    "c.check_dependency()"
   ]
  },
  {
   "cell_type": "code",
   "execution_count": 34,
   "metadata": {},
   "outputs": [
    {
     "data": {
      "text/plain": [
       "(0,\n",
       " '/Users/adebayobraimah/Desktop/projects/xfm_tck/xfm_tck/utils/test.txt',\n",
       " '/Users/adebayobraimah/Desktop/projects/xfm_tck/xfm_tck/utils/test.err')"
      ]
     },
     "execution_count": 34,
     "metadata": {},
     "output_type": "execute_result"
    }
   ],
   "source": [
    "c.run(shell=False,log='test.log',stdout=\"test.txt\")"
   ]
  },
  {
   "cell_type": "code",
   "execution_count": null,
   "metadata": {},
   "outputs": [],
   "source": [
    "! rm test.txt"
   ]
  },
  {
   "cell_type": "code",
   "execution_count": 34,
   "metadata": {},
   "outputs": [],
   "source": [
    "log1 = LogFile('test.log')"
   ]
  },
  {
   "cell_type": "code",
   "execution_count": 36,
   "metadata": {},
   "outputs": [
    {
     "data": {
      "text/plain": [
       "True"
      ]
     },
     "execution_count": 36,
     "metadata": {},
     "output_type": "execute_result"
    }
   ],
   "source": [
    "type(log1) is LogFile"
   ]
  },
  {
   "cell_type": "code",
   "execution_count": null,
   "metadata": {},
   "outputs": [],
   "source": []
  }
 ],
 "metadata": {
  "interpreter": {
   "hash": "d74d454bdf6082ff3aeb3787562ff7694dde8310e3a05412999967c1b6a37f8b"
  },
  "kernelspec": {
   "display_name": "Python 3.8.10 ('base')",
   "language": "python",
   "name": "python3"
  },
  "language_info": {
   "codemirror_mode": {
    "name": "ipython",
    "version": 3
   },
   "file_extension": ".py",
   "mimetype": "text/x-python",
   "name": "python",
   "nbconvert_exporter": "python",
   "pygments_lexer": "ipython3",
   "version": "3.8.10"
  },
  "orig_nbformat": 4
 },
 "nbformat": 4,
 "nbformat_minor": 2
}
